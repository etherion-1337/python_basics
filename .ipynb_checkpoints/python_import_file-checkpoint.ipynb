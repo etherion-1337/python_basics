{
 "cells": [
  {
   "cell_type": "markdown",
   "metadata": {},
   "source": [
    "# Python - Import Files"
   ]
  },
  {
   "cell_type": "markdown",
   "metadata": {},
   "source": [
    "## 1. Plain text file"
   ]
  },
  {
   "cell_type": "markdown",
   "metadata": {},
   "source": [
    "for plain text file, we can use python's *open()* to open a connection to the file."
   ]
  },
  {
   "cell_type": "markdown",
   "metadata": {},
   "source": [
    "### 1.1 assign the filename to a variable as string, pass this filename to the function *open()*, assign the text from the file to the variable file by applying the method *read()* to the connection to the file. "
   ]
  },
  {
   "cell_type": "code",
   "execution_count": 2,
   "metadata": {},
   "outputs": [
    {
     "name": "stdout",
     "output_type": "stream",
     "text": [
      "CHAPTER 1. Loomings.\n",
      "\n",
      "Call me Ishmael. Some years ago--never mind how long precisely--having\n",
      "little or no money in my purse, and nothing particular to interest me on\n",
      "shore, I thought I would sail about a little and see the watery part of\n",
      "the world. It is a way I have of driving off the spleen and regulating\n",
      "the circulation. Whenever I find myself growing grim about the mouth;\n",
      "whenever it is a damp, drizzly November in my soul; whenever I find\n",
      "myself involuntarily pausing before coffin warehouses, and bringing up\n",
      "the rear of every funeral I meet; and especially whenever my hypos get\n",
      "such an upper hand of me, that it requires a strong moral principle to\n",
      "prevent me from deliberately stepping into the street, and methodically\n",
      "knocking people's hats off--then, I account it high time to get to sea\n",
      "as soon as I can. This is my substitute for pistol and ball. With a\n",
      "philosophical flourish Cato throws himself upon his sword; I quietly\n",
      "take to the ship. There is nothing surprising in this. If they but knew\n",
      "it, almost all men in their degree, some time or other, cherish very\n",
      "nearly the same feelings towards the ocean with me.\n",
      "\n"
     ]
    }
   ],
   "source": [
    "#filename = \"moby_dick.txt\" \n",
    "filename = \"../python_basics/data/moby_dick.txt\" #for path variable\n",
    "file = open(filename, mode = \"r\") #read-only mode\n",
    "text = file.read()\n",
    "file.close() #need!\n",
    "\n",
    "print(text) #check if text has everything"
   ]
  },
  {
   "cell_type": "markdown",
   "metadata": {},
   "source": [
    "### 1.2 context manager *with* (recommended comparing to the above method)\n",
    "\n",
    "*with* allows you to create a context in which you can execute command with the file open.  \n",
    "Within this construct, *file* will be bound to open(\"blah.txt\").   \n",
    "once out of this clause, the file is no longer open, so no need for file.close().   "
   ]
  },
  {
   "cell_type": "code",
   "execution_count": 3,
   "metadata": {},
   "outputs": [
    {
     "name": "stdout",
     "output_type": "stream",
     "text": [
      "CHAPTER 1. Loomings.\n",
      "\n",
      "Call me Ishmael. Some years ago--never mind how long precisely--having\n",
      "little or no money in my purse, and nothing particular to interest me on\n",
      "shore, I thought I would sail about a little and see the watery part of\n",
      "the world. It is a way I have of driving off the spleen and regulating\n",
      "the circulation. Whenever I find myself growing grim about the mouth;\n",
      "whenever it is a damp, drizzly November in my soul; whenever I find\n",
      "myself involuntarily pausing before coffin warehouses, and bringing up\n",
      "the rear of every funeral I meet; and especially whenever my hypos get\n",
      "such an upper hand of me, that it requires a strong moral principle to\n",
      "prevent me from deliberately stepping into the street, and methodically\n",
      "knocking people's hats off--then, I account it high time to get to sea\n",
      "as soon as I can. This is my substitute for pistol and ball. With a\n",
      "philosophical flourish Cato throws himself upon his sword; I quietly\n",
      "take to the ship. There is nothing surprising in this. If they but knew\n",
      "it, almost all men in their degree, some time or other, cherish very\n",
      "nearly the same feelings towards the ocean with me.\n",
      "\n"
     ]
    }
   ],
   "source": [
    "with open(\"../python_basics/data/moby_dick.txt\", \"r\") as file: #or just txt name if in the directory\n",
    "    print(file.read())"
   ]
  },
  {
   "cell_type": "markdown",
   "metadata": {},
   "source": [
    "### 1.3 *readline()*\n",
    "\n",
    "when a file called *file* is opened (*open()*), you can printout the first line with file.readline(), if executed again, second line will be printed out. "
   ]
  },
  {
   "cell_type": "code",
   "execution_count": 4,
   "metadata": {},
   "outputs": [
    {
     "name": "stdout",
     "output_type": "stream",
     "text": [
      "CHAPTER 1. Loomings.\n",
      "\n",
      "\n",
      "\n",
      "Call me Ishmael. Some years ago--never mind how long precisely--having\n",
      "\n"
     ]
    }
   ],
   "source": [
    "with open(\"../python_basics/data/moby_dick.txt\") as file:\n",
    "    print(file.readline())\n",
    "    print(file.readline())\n",
    "    print(file.readline())"
   ]
  },
  {
   "cell_type": "code",
   "execution_count": 5,
   "metadata": {},
   "outputs": [
    {
     "name": "stdout",
     "output_type": "stream",
     "text": [
      "['CHAPTER 1. Loomings.\\n', '\\n', 'Call me Ishmael. Some years ago--never mind how long precisely--having\\n', 'little or no money in my purse, and nothing particular to interest me on\\n', 'shore, I thought I would sail about a little and see the watery part of\\n', 'the world. It is a way I have of driving off the spleen and regulating\\n', 'the circulation. Whenever I find myself growing grim about the mouth;\\n', 'whenever it is a damp, drizzly November in my soul; whenever I find\\n', 'myself involuntarily pausing before coffin warehouses, and bringing up\\n', 'the rear of every funeral I meet; and especially whenever my hypos get\\n']\n",
      "18\n",
      "*****************\n",
      "CHAPTER 1. Loomings.\n",
      "\n",
      "\n",
      "\n",
      "Call me Ishmael. Some years ago--never mind how long precisely--having\n",
      "\n",
      "little or no money in my purse, and nothing particular to interest me on\n",
      "\n",
      "shore, I thought I would sail about a little and see the watery part of\n",
      "\n",
      "the world. It is a way I have of driving off the spleen and regulating\n",
      "\n",
      "the circulation. Whenever I find myself growing grim about the mouth;\n",
      "\n",
      "whenever it is a damp, drizzly November in my soul; whenever I find\n",
      "\n",
      "myself involuntarily pausing before coffin warehouses, and bringing up\n",
      "\n",
      "the rear of every funeral I meet; and especially whenever my hypos get\n",
      "\n",
      "*****************\n",
      "CHAPTER 1. Loomings.\n",
      "\n",
      "Call me Ishmael. Some years ago--never mind how long precisely--having\n",
      "little or no money in my purse, and nothing particular to interest me on\n",
      "shore, I thought I would sail about a little and see the watery part of\n",
      "the world. It is a way I have of driving off the spleen and regulating\n",
      "the circulation. Whenever I find myself growing grim about the mouth;\n",
      "whenever it is a damp, drizzly November in my soul; whenever I find\n",
      "myself involuntarily pausing before coffin warehouses, and bringing up\n",
      "the rear of every funeral I meet; and especially whenever my hypos get\n",
      "*****************\n"
     ]
    }
   ],
   "source": [
    "filename = \"../python_basics/data/moby_dick.txt\" #for path variable\n",
    "file = open(filename, mode = \"r\") #read-only mode\n",
    "lines = file.readlines() #create a list of string, one entry for each line\n",
    "print(lines[:10])\n",
    "print(len(lines))\n",
    "print(\"*****************\")\n",
    "for line in lines[:10]: #no more quotation mark and newline, also one extra newline is observed, becos print() end with \\n\n",
    "    print(line)\n",
    "print(\"*****************\")    \n",
    "for line in lines[:10]: #no more quotation mark and newline, sprip the \\n, only 1 \\n from print()\n",
    "    print(line.strip())\n",
    "    \n",
    "print(\"*****************\")\n",
    "#print all line\n",
    "# Python provides a built-in way to iterate through the contents of a file one line at a time,\n",
    "# without first reading them all into a list\n",
    "for line in file:\n",
    "    print(line.strip())\n",
    "    \n",
    "file.close() #need!    "
   ]
  },
  {
   "cell_type": "code",
   "execution_count": 4,
   "metadata": {},
   "outputs": [
    {
     "name": "stdout",
     "output_type": "stream",
     "text": [
      "The Zen of Python, by Tim Peters\n",
      "\n",
      "Beautiful is better than ugly.\n",
      "Explicit is better than implicit.\n",
      "Simple is better than complex.\n",
      "Complex is better than complicated.\n",
      "Flat is better than nested.\n",
      "Sparse is better than dense.\n",
      "Readability counts.\n",
      "Special cases aren't special enough to break the rules.\n",
      "Although practicality beats purity.\n",
      "Errors should never pass silently.\n",
      "Unless explicitly silenced.\n",
      "In the face of ambiguity, refuse the temptation to guess.\n",
      "There should be one-- and preferably only one --obvious way to do it.\n",
      "Although that way may not be obvious at first unless you're Dutch.\n",
      "Now is better than never.\n",
      "Although never is often better than *right* now.\n",
      "If the implementation is hard to explain, it's a bad idea.\n",
      "If the implementation is easy to explain, it may be a good idea.\n",
      "Namespaces are one honking great idea -- let's do more of those!\n"
     ]
    }
   ],
   "source": [
    "import this #easter egg for python. BDFL = Benevolent Dictator For Life, a.k.a. Guido van Rossum, Python’s creator."
   ]
  },
  {
   "cell_type": "markdown",
   "metadata": {},
   "source": [
    "## 2. HDF5 file"
   ]
  },
  {
   "cell_type": "markdown",
   "metadata": {},
   "source": [
    "Quickly becoming the standard to store large quantities of numerical data.   \n",
    "The sturcture of the HDF5 files can be explored using dictionary-style : key -> a HDF group: sth like a directory"
   ]
  },
  {
   "cell_type": "code",
   "execution_count": 6,
   "metadata": {},
   "outputs": [],
   "source": [
    "import h5py #needed for HDF5, Hierarchical Data Format version 5\n",
    "import matplotlib.pyplot as plt # for fun\n",
    "import numpy as np # for fun x2"
   ]
  },
  {
   "cell_type": "code",
   "execution_count": 7,
   "metadata": {},
   "outputs": [],
   "source": [
    "filename = \"../python_basics/data/L-L1_LOSC_4_V1-1126259446-32.hdf5\"\n",
    "data = h5py.File(filename,\"r\") # read-only"
   ]
  },
  {
   "cell_type": "code",
   "execution_count": 8,
   "metadata": {},
   "outputs": [
    {
     "name": "stdout",
     "output_type": "stream",
     "text": [
      "<class 'h5py._hl.files.File'>\n"
     ]
    }
   ],
   "source": [
    "print(type(data))"
   ]
  },
  {
   "cell_type": "code",
   "execution_count": 9,
   "metadata": {},
   "outputs": [
    {
     "name": "stdout",
     "output_type": "stream",
     "text": [
      "meta\n",
      "quality\n",
      "strain\n"
     ]
    }
   ],
   "source": [
    "for key in data.keys(): #each key is a HDF group, see below\n",
    "    print(key)"
   ]
  },
  {
   "cell_type": "code",
   "execution_count": 10,
   "metadata": {},
   "outputs": [
    {
     "name": "stdout",
     "output_type": "stream",
     "text": [
      "<class 'h5py._hl.group.Group'>\n"
     ]
    }
   ],
   "source": [
    "print(type(data[\"meta\"]))"
   ]
  },
  {
   "cell_type": "code",
   "execution_count": 11,
   "metadata": {},
   "outputs": [
    {
     "name": "stdout",
     "output_type": "stream",
     "text": [
      "Description\n",
      "DescriptionURL\n",
      "Detector\n",
      "Duration\n",
      "GPSstart\n",
      "Observatory\n",
      "Type\n",
      "UTCstart\n"
     ]
    }
   ],
   "source": [
    "for key in data[\"meta\"].keys():\n",
    "    print(key)"
   ]
  },
  {
   "cell_type": "code",
   "execution_count": 12,
   "metadata": {},
   "outputs": [
    {
     "name": "stdout",
     "output_type": "stream",
     "text": [
      "b'Strain data time series from LIGO' b'L1'\n"
     ]
    }
   ],
   "source": [
    "print(data[\"meta\"][\"Description\"].value, data[\"meta\"][\"Detector\"].value) #access indidividual values, note that dataset.value is depreciated, used dataset[()]\n",
    "#print(data[(\"meta\")][(\"Description\")])"
   ]
  },
  {
   "cell_type": "code",
   "execution_count": 13,
   "metadata": {},
   "outputs": [
    {
     "name": "stdout",
     "output_type": "stream",
     "text": [
      "Strain\n"
     ]
    },
    {
     "data": {
      "image/png": "[encoded data removed]",
      "text/plain": [
       "<Figure size 432x288 with 1 Axes>"
      ]
     },
     "metadata": {
      "needs_background": "light"
     },
     "output_type": "display_data"
    }
   ],
   "source": [
    "group = data[\"strain\"]\n",
    "for key in group.keys():\n",
    "    print(key)\n",
    "\n",
    "strain = data[\"strain\"][\"Strain\"].value # Set variable equal to time series data: strain\n",
    "num_samples = 10000 # Set number of time points to sample: num_samples\n",
    "\n",
    "# Set time vector\n",
    "time = np.arange(0, 1, 1/num_samples)\n",
    "\n",
    "# Plot data\n",
    "plt.plot(time, strain[:num_samples])\n",
    "plt.xlabel('GPS Time (s)')\n",
    "plt.ylabel('strain')\n",
    "plt.show()\n"
   ]
  },
  {
   "cell_type": "markdown",
   "metadata": {},
   "source": [
    "## 3. MATLAB files"
   ]
  },
  {
   "cell_type": "markdown",
   "metadata": {},
   "source": [
    "You will need the *SciPy* package:   \n",
    "scipy.io.loadmat() - read .mat files   \n",
    "scipy.io.savemat() - write .mat files   \n",
    ".mat files typically contains variable-value pair you see in the MATLAB IDE panel.   \n",
    "so imported data are similar to dictionary:   \n",
    "key = MATLAB variable names   \n",
    "value = objects assigned to the variable   \n",
    "\n"
   ]
  },
  {
   "cell_type": "code",
   "execution_count": 15,
   "metadata": {},
   "outputs": [],
   "source": [
    "import scipy.io"
   ]
  },
  {
   "cell_type": "code",
   "execution_count": 16,
   "metadata": {},
   "outputs": [
    {
     "name": "stdout",
     "output_type": "stream",
     "text": [
      "<class 'dict'>\n"
     ]
    }
   ],
   "source": [
    "filename = \"../python_basics/data/ja_data2.mat\"\n",
    "mat = scipy.io.loadmat(filename)\n",
    "print(type(mat))"
   ]
  },
  {
   "cell_type": "code",
   "execution_count": 17,
   "metadata": {},
   "outputs": [
    {
     "name": "stdout",
     "output_type": "stream",
     "text": [
      "__header__\n",
      "__version__\n",
      "__globals__\n",
      "rfpCyt\n",
      "rfpNuc\n",
      "cfpNuc\n",
      "cfpCyt\n",
      "yfpNuc\n",
      "yfpCyt\n",
      "CYratioCyt\n",
      "dict_keys(['__header__', '__version__', '__globals__', 'rfpCyt', 'rfpNuc', 'cfpNuc', 'cfpCyt', 'yfpNuc', 'yfpCyt', 'CYratioCyt'])\n"
     ]
    }
   ],
   "source": [
    "for key in mat.keys():\n",
    "    print(key)\n",
    "    \n",
    "print(mat.keys()) #same"
   ]
  },
  {
   "cell_type": "code",
   "execution_count": 18,
   "metadata": {},
   "outputs": [
    {
     "name": "stdout",
     "output_type": "stream",
     "text": [
      "<class 'numpy.ndarray'>\n"
     ]
    }
   ],
   "source": [
    "print(type(mat[\"rfpCyt\"]))"
   ]
  },
  {
   "cell_type": "code",
   "execution_count": 19,
   "metadata": {},
   "outputs": [
    {
     "name": "stdout",
     "output_type": "stream",
     "text": [
      "(200, 137)\n"
     ]
    }
   ],
   "source": [
    "print(mat[\"rfpCyt\"].shape)"
   ]
  },
  {
   "cell_type": "code",
   "execution_count": 20,
   "metadata": {},
   "outputs": [
    {
     "data": {
      "image/png": "[encoded data removed]",
      "text/plain": [
       "<Figure size 432x288 with 1 Axes>"
      ]
     },
     "metadata": {
      "needs_background": "light"
     },
     "output_type": "display_data"
    }
   ],
   "source": [
    "# Subset the array and plot it\n",
    "data = mat['CYratioCyt'][25, 5:]\n",
    "fig = plt.figure()\n",
    "plt.plot(data)\n",
    "plt.xlabel('time (min.)')\n",
    "plt.ylabel('normalized fluorescence (measure of expression)')\n",
    "plt.show()"
   ]
  },
  {
   "cell_type": "code",
   "execution_count": 21,
   "metadata": {},
   "outputs": [
    {
     "name": "stdout",
     "output_type": "stream",
     "text": [
      "(200, 137)\n"
     ]
    }
   ],
   "source": [
    "print(mat[\"CYratioCyt\"].shape)"
   ]
  },
  {
   "cell_type": "code",
   "execution_count": null,
   "metadata": {},
   "outputs": [],
   "source": []
  }
 ],
 "metadata": {
  "kernelspec": {
   "display_name": "Python 3",
   "language": "python",
   "name": "python3"
  },
  "language_info": {
   "codemirror_mode": {
    "name": "ipython",
    "version": 3
   },
   "file_extension": ".py",
   "mimetype": "text/x-python",
   "name": "python",
   "nbconvert_exporter": "python",
   "pygments_lexer": "ipython3",
   "version": "3.7.4"
  }
 },
 "nbformat": 4,
 "nbformat_minor": 4
}
