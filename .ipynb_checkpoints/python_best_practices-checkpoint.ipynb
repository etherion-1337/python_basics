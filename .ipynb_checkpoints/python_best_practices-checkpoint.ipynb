{
 "cells": [
  {
   "cell_type": "markdown",
   "metadata": {},
   "source": [
    "# Coding Best Practices with Python"
   ]
  },
  {
   "cell_type": "code",
   "execution_count": 1,
   "metadata": {},
   "outputs": [],
   "source": [
    "import pandas as pd\n",
    "import numpy as np\n",
    "import sys"
   ]
  },
  {
   "cell_type": "markdown",
   "metadata": {},
   "source": [
    "# 1. Writing Efficient Python Code"
   ]
  },
  {
   "cell_type": "markdown",
   "metadata": {},
   "source": [
    "Defining \"efficient\":      \n",
    "\n",
    "Efficient code satisfy 2 key concepts:      \n",
    "1) minimal completion time (fast runtime)       \n",
    "2) minimal resource consumption (small memory footprint)        \n",
    "i.e. reduce latency and memory overhead.      \n",
    "\n",
    "Defining \"Pythonic\":       \n",
    "\n",
    "Pythonic code tend to be less verbose and easier to interpret. (e.g. use list comprehension rather than for loop + append). Pythonic code is usually efficient code.        \n"
   ]
  },
  {
   "cell_type": "markdown",
   "metadata": {},
   "source": [
    "Suppose you wanted to collect the names in the above list that have six letters or more. In other programming languages, the typical approach is to create an index variable (i), use i to iterate over the list, and use an if statement to collect the names with six letters or more"
   ]
  },
  {
   "cell_type": "code",
   "execution_count": 2,
   "metadata": {},
   "outputs": [],
   "source": [
    "names = ['Jerry', 'Kramer', 'Elaine', 'George', 'Newman']"
   ]
  },
  {
   "cell_type": "code",
   "execution_count": 3,
   "metadata": {},
   "outputs": [
    {
     "name": "stdout",
     "output_type": "stream",
     "text": [
      "['Kramer', 'Elaine', 'George', 'Newman']\n"
     ]
    }
   ],
   "source": [
    "# Print the list created using the Non-Pythonic approach\n",
    "i = 0\n",
    "new_list= []\n",
    "while i < len(names):\n",
    "    if len(names[i]) >= 6:\n",
    "        new_list.append(names[i])\n",
    "    i += 1\n",
    "print(new_list)"
   ]
  },
  {
   "cell_type": "code",
   "execution_count": 4,
   "metadata": {},
   "outputs": [
    {
     "name": "stdout",
     "output_type": "stream",
     "text": [
      "['Kramer', 'Elaine', 'George', 'Newman']\n"
     ]
    }
   ],
   "source": [
    "# more pythonic\n",
    "# Print the list created by looping over the contents of names\n",
    "better_list = []\n",
    "for name in names:\n",
    "    if len(name) >= 6:\n",
    "        better_list.append(name)\n",
    "print(better_list)"
   ]
  },
  {
   "cell_type": "code",
   "execution_count": 5,
   "metadata": {},
   "outputs": [
    {
     "name": "stdout",
     "output_type": "stream",
     "text": [
      "['Kramer', 'Elaine', 'George', 'Newman']\n"
     ]
    }
   ],
   "source": [
    "# best pythonic\n",
    "# Print the list created by using list comprehension\n",
    "best_list = [name for name in names if len(name) >= 6]\n",
    "print(best_list)"
   ]
  },
  {
   "cell_type": "code",
   "execution_count": 6,
   "metadata": {},
   "outputs": [
    {
     "name": "stdout",
     "output_type": "stream",
     "text": [
      "The Zen of Python, by Tim Peters\n",
      "\n",
      "Beautiful is better than ugly.\n",
      "Explicit is better than implicit.\n",
      "Simple is better than complex.\n",
      "Complex is better than complicated.\n",
      "Flat is better than nested.\n",
      "Sparse is better than dense.\n",
      "Readability counts.\n",
      "Special cases aren't special enough to break the rules.\n",
      "Although practicality beats purity.\n",
      "Errors should never pass silently.\n",
      "Unless explicitly silenced.\n",
      "In the face of ambiguity, refuse the temptation to guess.\n",
      "There should be one-- and preferably only one --obvious way to do it.\n",
      "Although that way may not be obvious at first unless you're Dutch.\n",
      "Now is better than never.\n",
      "Although never is often better than *right* now.\n",
      "If the implementation is hard to explain, it's a bad idea.\n",
      "If the implementation is easy to explain, it may be a good idea.\n",
      "Namespaces are one honking great idea -- let's do more of those!\n"
     ]
    }
   ],
   "source": [
    "import this"
   ]
  },
  {
   "cell_type": "markdown",
   "metadata": {},
   "source": [
    "## 1.1 Building with built-ins\n",
    "\n",
    "Built-in components are referred to as the Python Standard Library.        \n",
    "Built-in types: list, tuple, set, dict and others.       \n",
    "Built-in func: print(), len(), range(), round(), enumerate(), map(), zip() etc.       \n",
    "Built-in module: os, sys, itertools, collections, math etc.      \n"
   ]
  },
  {
   "cell_type": "code",
   "execution_count": 7,
   "metadata": {},
   "outputs": [
    {
     "name": "stdout",
     "output_type": "stream",
     "text": [
      "[0, 1, 2, 3, 4, 5, 6, 7, 8, 9, 10]\n"
     ]
    }
   ],
   "source": [
    "# range()\n",
    "# Explicitly typing a list of numbers:\n",
    "# nums = [0,1,2,3,4,5,6,7,8,9,10]\n",
    "\n",
    "# using range(start,stop) and list\n",
    "nums = range(0,11)\n",
    "nums_list = list(nums)\n",
    "print(nums_list)"
   ]
  },
  {
   "cell_type": "code",
   "execution_count": 8,
   "metadata": {},
   "outputs": [
    {
     "name": "stdout",
     "output_type": "stream",
     "text": [
      "[0, 1, 2, 3, 4, 5, 6, 7, 8, 9, 10]\n"
     ]
    }
   ],
   "source": [
    "# range(stop)\n",
    "nums = range(11)\n",
    "nums_list = list(nums)\n",
    "print(nums_list)\n",
    "\n",
    "# note that range func returns a range object, which we can convert into a list"
   ]
  },
  {
   "cell_type": "code",
   "execution_count": 9,
   "metadata": {},
   "outputs": [
    {
     "name": "stdout",
     "output_type": "stream",
     "text": [
      "[2, 4, 6, 8, 10]\n"
     ]
    }
   ],
   "source": [
    "# range() with a step value\n",
    "even_nums = range(2,11,2)\n",
    "even_nums_list = list(even_nums)\n",
    "print(even_nums_list)"
   ]
  },
  {
   "cell_type": "code",
   "execution_count": 10,
   "metadata": {},
   "outputs": [
    {
     "name": "stdout",
     "output_type": "stream",
     "text": [
      "[(0, 'a'), (1, 'b'), (2, 'c'), (3, 'd')]\n"
     ]
    }
   ],
   "source": [
    "# enumerate()\n",
    "# enumerate() creates an index item pair for each item in the object provided.\n",
    "letters = [\"a\", \"b\", \"c\", \"d\"]\n",
    "indexed_letters = enumerate(letters)\n",
    "\n",
    "indexed_letters_list = list(indexed_letters)\n",
    "print(indexed_letters_list)\n",
    "\n",
    "# enumerate will return an enumerate object, then can be converted into a list."
   ]
  },
  {
   "cell_type": "code",
   "execution_count": 11,
   "metadata": {},
   "outputs": [
    {
     "name": "stdout",
     "output_type": "stream",
     "text": [
      "[(5, 'a'), (6, 'b'), (7, 'c'), (8, 'd')]\n"
     ]
    }
   ],
   "source": [
    "# enumerate with starting index\n",
    "letters = [\"a\", \"b\", \"c\", \"d\"]\n",
    "indexed_letters2 = enumerate(letters, start=5)\n",
    "\n",
    "indexed_letters2_list = list(indexed_letters2)\n",
    "print(indexed_letters2_list)"
   ]
  },
  {
   "cell_type": "code",
   "execution_count": 12,
   "metadata": {},
   "outputs": [
    {
     "name": "stdout",
     "output_type": "stream",
     "text": [
      "[2, 2, 3, 5, 5]\n"
     ]
    }
   ],
   "source": [
    "# map()\n",
    "# map applies a function to each element in an object\n",
    "\n",
    "nums = [1.5, 2.3, 3.4, 4.6, 5.0]\n",
    "\n",
    "rnd_nums = map(round, nums)\n",
    "print(list(rnd_nums))"
   ]
  },
  {
   "cell_type": "code",
   "execution_count": 13,
   "metadata": {},
   "outputs": [
    {
     "name": "stdout",
     "output_type": "stream",
     "text": [
      "[1, 4, 9, 16, 25]\n"
     ]
    }
   ],
   "source": [
    "# map() with lambda func.\n",
    "nums = [1,2,3,4,5]\n",
    "sqrd_nums = map(lambda x: x**2, nums)\n",
    "\n",
    "print(list(sqrd_nums))"
   ]
  },
  {
   "cell_type": "code",
   "execution_count": 14,
   "metadata": {},
   "outputs": [
    {
     "name": "stdout",
     "output_type": "stream",
     "text": [
      "<class 'range'>\n",
      "[0, 1, 2, 3, 4, 5]\n",
      "[1, 3, 5, 7, 9, 11]\n"
     ]
    }
   ],
   "source": [
    "# Create a range object that goes from 0 to 5\n",
    "nums = range(0,6)\n",
    "print(type(nums))\n",
    "\n",
    "# Convert nums to a list\n",
    "nums_list = list(nums)\n",
    "print(nums_list)\n",
    "\n",
    "# Create a new list of odd numbers from 1 to 11 by unpacking a range object\n",
    "nums_list2 = [*range(1,12,2)]\n",
    "print(nums_list2)"
   ]
  },
  {
   "cell_type": "markdown",
   "metadata": {},
   "source": [
    "suppose you had a list of people that arrived at a party you are hosting. The list is ordered by arrival (Jerry was the first to arrive, followed by Kramer, etc."
   ]
  },
  {
   "cell_type": "code",
   "execution_count": 15,
   "metadata": {},
   "outputs": [
    {
     "name": "stdout",
     "output_type": "stream",
     "text": [
      "[(0, 'Jerry'), (1, 'Kramer'), (2, 'Elaine'), (3, 'George'), (4, 'Newman')]\n"
     ]
    }
   ],
   "source": [
    "names = ['Jerry', 'Kramer', 'Elaine', 'George', 'Newman']\n",
    "# non-pythonic way\n",
    "indexed_names = []\n",
    "for i in range(len(names)):\n",
    "    index_name = (i, names[i])\n",
    "    indexed_names.append(index_name)\n",
    "    \n",
    "print(indexed_names)"
   ]
  },
  {
   "cell_type": "code",
   "execution_count": 16,
   "metadata": {},
   "outputs": [
    {
     "name": "stdout",
     "output_type": "stream",
     "text": [
      "[(0, 'Jerry'), (1, 'Kramer'), (2, 'Elaine'), (3, 'George'), (4, 'Newman')]\n",
      "[(0, 'Jerry'), (1, 'Kramer'), (2, 'Elaine'), (3, 'George'), (4, 'Newman')]\n",
      "[(1, 'Jerry'), (2, 'Kramer'), (3, 'Elaine'), (4, 'George'), (5, 'Newman')]\n"
     ]
    }
   ],
   "source": [
    "# more pythonic\n",
    "# Rewrite the for loop to use enumerate\n",
    "indexed_names = []\n",
    "for i,name in enumerate(names):\n",
    "    index_name = (i,name)\n",
    "    indexed_names.append(index_name) \n",
    "print(indexed_names)\n",
    "\n",
    "# even more pythonic\n",
    "# Rewrite the above for loop using list comprehension\n",
    "indexed_names_comp = [(i,name) for i,name in enumerate(names)]\n",
    "print(indexed_names_comp)\n",
    "\n",
    "# very pythonic\n",
    "# Unpack an enumerate object with a starting index of one\n",
    "indexed_names_unpack = [*enumerate(names, start=1)]\n",
    "print(indexed_names_unpack)"
   ]
  },
  {
   "cell_type": "markdown",
   "metadata": {},
   "source": [
    "Suppose you wanted to create a new list (called names_uppercase) that converted all the letters in each name to uppercase. you could accomplish this with the below for loop:"
   ]
  },
  {
   "cell_type": "code",
   "execution_count": 17,
   "metadata": {},
   "outputs": [
    {
     "name": "stdout",
     "output_type": "stream",
     "text": [
      "['JERRY', 'KRAMER', 'ELAINE', 'GEORGE', 'NEWMAN']\n"
     ]
    }
   ],
   "source": [
    "names = ['Jerry', 'Kramer', 'Elaine', 'George', 'Newman']\n",
    "\n",
    "# not so pythonic\n",
    "names_uppercase = []\n",
    "\n",
    "for name in names:\n",
    "  names_uppercase.append(name.upper())\n",
    "\n",
    "print(names_uppercase)"
   ]
  },
  {
   "cell_type": "code",
   "execution_count": 18,
   "metadata": {},
   "outputs": [
    {
     "name": "stdout",
     "output_type": "stream",
     "text": [
      "<class 'map'>\n",
      "['JERRY', 'KRAMER', 'ELAINE', 'GEORGE', 'NEWMAN']\n"
     ]
    }
   ],
   "source": [
    "# Use map to apply str.upper to each element in names\n",
    "names_map  = map(str.upper, names)\n",
    "\n",
    "# Print the type of the names_map\n",
    "print(type(names_map))\n",
    "\n",
    "# Unpack names_map into a list\n",
    "names_uppercase = [*names_map]\n",
    "\n",
    "# Print the list created above\n",
    "print(names_uppercase)"
   ]
  },
  {
   "cell_type": "markdown",
   "metadata": {},
   "source": [
    "## 1.2 The power of NumPy arrays\n",
    "\n",
    "NumPy arrays provide a fast and memory efficient alternative to Python list.         \n",
    "numpy arrays are homogeneous, means they must contain elements of the same type.      \n"
   ]
  },
  {
   "cell_type": "code",
   "execution_count": 19,
   "metadata": {},
   "outputs": [
    {
     "name": "stdout",
     "output_type": "stream",
     "text": [
      "[0, 1, 2, 3, 4]\n"
     ]
    }
   ],
   "source": [
    "nums_list = list(range(5))\n",
    "print(nums_list)"
   ]
  },
  {
   "cell_type": "code",
   "execution_count": 20,
   "metadata": {},
   "outputs": [
    {
     "name": "stdout",
     "output_type": "stream",
     "text": [
      "[0 1 2 3 4]\n"
     ]
    }
   ],
   "source": [
    "nums_np = np.array(range(5))\n",
    "print(nums_np)"
   ]
  },
  {
   "cell_type": "code",
   "execution_count": 21,
   "metadata": {},
   "outputs": [
    {
     "name": "stdout",
     "output_type": "stream",
     "text": [
      "[1 2 3]\n",
      "int64\n",
      "[1.  2.5 3. ]\n",
      "float64\n"
     ]
    }
   ],
   "source": [
    "# np array homogeneity\n",
    "nums_np_ints = np.array([1,2,3])\n",
    "print(nums_np_ints)\n",
    "\n",
    "print(nums_np_ints.dtype)\n",
    "\n",
    "nums_np_floats = np.array([1,2.5,3])\n",
    "print(nums_np_floats)\n",
    "\n",
    "print(nums_np_floats.dtype)"
   ]
  },
  {
   "cell_type": "code",
   "execution_count": 22,
   "metadata": {},
   "outputs": [
    {
     "data": {
      "text/plain": [
       "array([4, 1, 0, 1, 4])"
      ]
     },
     "execution_count": 22,
     "metadata": {},
     "output_type": "execute_result"
    }
   ],
   "source": [
    "# np array broadcasting\n",
    "nums_np = np.array([-2,-1,0,1,2])\n",
    "nums_np**2"
   ]
  },
  {
   "cell_type": "code",
   "execution_count": 23,
   "metadata": {},
   "outputs": [
    {
     "name": "stdout",
     "output_type": "stream",
     "text": [
      "2\n",
      "2\n",
      "[1, 4]\n",
      "[1 4]\n"
     ]
    }
   ],
   "source": [
    "# 2-D list/array comparison\n",
    "\n",
    "# list\n",
    "nums2 = [[1,2,3],\n",
    "       [4,5,6]]\n",
    "\n",
    "# array \n",
    "nums_np = np.array(nums2)\n",
    "\n",
    "# list slicing\n",
    "print(nums2[0][1])\n",
    "# array slicing\n",
    "print(nums_np[0,1])\n",
    "\n",
    "#return first col of list\n",
    "print([row[0] for row in nums2])\n",
    "\n",
    "# return first col of array\n",
    "print(nums_np[:,0])"
   ]
  },
  {
   "cell_type": "code",
   "execution_count": 24,
   "metadata": {},
   "outputs": [
    {
     "name": "stdout",
     "output_type": "stream",
     "text": [
      "[False False False  True  True]\n",
      "[1 2]\n"
     ]
    }
   ],
   "source": [
    "# np boolean indexing\n",
    "nums = [-2, -1, 0, 1, 2]\n",
    "nums_np = np.array(nums)\n",
    "\n",
    "# bool mask\n",
    "print(nums_np > 0)\n",
    "\n",
    "print(nums_np[nums_np > 0])\n"
   ]
  },
  {
   "cell_type": "markdown",
   "metadata": {},
   "source": [
    "You have a list of guests (the names list). Each guest, for whatever reason, has decided to show up to the party in 10-minute increments. For example, Jerry shows up to Festivus 10 minutes into the party's start time, Kramer shows up 20 minutes into the party, and so on and so forth.        \n",
    "\n",
    "We want to write a few simple lines of code, using the built-ins we have covered, to welcome each of your guests and let them know how many minutes late they are to your party"
   ]
  },
  {
   "cell_type": "code",
   "execution_count": 25,
   "metadata": {},
   "outputs": [],
   "source": [
    "names = ['Jerry', 'Kramer', 'Elaine', 'George', 'Newman']"
   ]
  },
  {
   "cell_type": "code",
   "execution_count": 26,
   "metadata": {},
   "outputs": [
    {
     "name": "stdout",
     "output_type": "stream",
     "text": [
      "[10, 20, 30, 40, 50]\n",
      "[ 7 17 27 37 47]\n",
      "[('Jerry', 7), ('Kramer', 17), ('Elaine', 27), ('George', 37), ('Newman', 47)]\n"
     ]
    }
   ],
   "source": [
    "# Create a list of arrival times\n",
    "arrival_times = [*range(10,60,10)]\n",
    "\n",
    "print(arrival_times)\n",
    "\n",
    "# clock is 3 min faster\n",
    "# Convert arrival_times to an array and update the times\n",
    "arrival_times_np = np.array(arrival_times)\n",
    "new_times = arrival_times_np - 3\n",
    "print(new_times)\n",
    "\n",
    "# Use list comprehension and enumerate to pair guests to new times\n",
    "guest_arrivals = [(names[i],time) for i,time in enumerate(new_times)]\n",
    "print(guest_arrivals)\n",
    "\n"
   ]
  },
  {
   "cell_type": "markdown",
   "metadata": {},
   "source": [
    "## 1.3 Runtime and profiling code "
   ]
  },
  {
   "cell_type": "markdown",
   "metadata": {},
   "source": [
    "magic command: enhancement on top of normal python syntax. They are prefix \"%\"         \n",
    "\n",
    "IPython has magic command %timeit"
   ]
  },
  {
   "cell_type": "code",
   "execution_count": 27,
   "metadata": {},
   "outputs": [
    {
     "name": "stdout",
     "output_type": "stream",
     "text": [
      "9.64 µs ± 228 ns per loop (mean ± std. dev. of 7 runs, 100000 loops each)\n"
     ]
    }
   ],
   "source": [
    "%timeit rand_nums = np.random.rand(1000)\n",
    "# no. of run: how many iteration we want to estimate runtime (-r)\n",
    "# no. of loop: how many times the code is executed per run (-n)"
   ]
  },
  {
   "cell_type": "code",
   "execution_count": 28,
   "metadata": {},
   "outputs": [
    {
     "name": "stdout",
     "output_type": "stream",
     "text": [
      "The slowest run took 5.66 times longer than the fastest. This could mean that an intermediate result is being cached.\n",
      "31.6 µs ± 22.1 µs per loop (mean ± std. dev. of 2 runs, 10 loops each)\n"
     ]
    }
   ],
   "source": [
    "%timeit -r2 -n10 rand_nums = np.random.rand(1000)\n",
    "# 2 runs each with 10 execution, i.e. 20 times is run"
   ]
  },
  {
   "cell_type": "code",
   "execution_count": 29,
   "metadata": {},
   "outputs": [
    {
     "name": "stdout",
     "output_type": "stream",
     "text": [
      "696 ns ± 8.88 ns per loop (mean ± std. dev. of 7 runs, 1000000 loops each)\n"
     ]
    }
   ],
   "source": [
    "# single line of code\n",
    "%timeit nums = [x for x in range(10)]"
   ]
  },
  {
   "cell_type": "code",
   "execution_count": 30,
   "metadata": {},
   "outputs": [],
   "source": [
    "# multiple lines of code\n",
    "# %%timeit\n",
    "# nums=[]\n",
    "# for x in range(10):\n",
    "#     nums.append(x)"
   ]
  },
  {
   "cell_type": "code",
   "execution_count": 31,
   "metadata": {},
   "outputs": [
    {
     "name": "stdout",
     "output_type": "stream",
     "text": [
      "9.52 µs ± 117 ns per loop (mean ± std. dev. of 7 runs, 100000 loops each)\n",
      "9.52 µs ± 117 ns per loop (mean ± std. dev. of 7 runs, 100000 loops each)\n"
     ]
    }
   ],
   "source": [
    "# saving the timeit output\n",
    "times = %timeit -o rand_nums = np.random.rand(1000)\n",
    "print(times)"
   ]
  },
  {
   "cell_type": "code",
   "execution_count": 32,
   "metadata": {},
   "outputs": [
    {
     "data": {
      "text/plain": [
       "[9.493665569999905e-06,\n",
       " 9.329174510000087e-06,\n",
       " 9.491126990000112e-06,\n",
       " 9.519091020000019e-06,\n",
       " 9.756036519999896e-06,\n",
       " 9.491962989999933e-06,\n",
       " 9.559163319999868e-06]"
      ]
     },
     "execution_count": 32,
     "metadata": {},
     "output_type": "execute_result"
    }
   ],
   "source": [
    "times.timings"
   ]
  },
  {
   "cell_type": "code",
   "execution_count": 33,
   "metadata": {},
   "outputs": [
    {
     "data": {
      "text/plain": [
       "9.329174510000087e-06"
      ]
     },
     "execution_count": 33,
     "metadata": {},
     "output_type": "execute_result"
    }
   ],
   "source": [
    "times.best"
   ]
  },
  {
   "cell_type": "code",
   "execution_count": 34,
   "metadata": {},
   "outputs": [
    {
     "data": {
      "text/plain": [
       "9.756036519999896e-06"
      ]
     },
     "execution_count": 34,
     "metadata": {},
     "output_type": "execute_result"
    }
   ],
   "source": [
    "times.worst"
   ]
  },
  {
   "cell_type": "code",
   "execution_count": 35,
   "metadata": {},
   "outputs": [
    {
     "name": "stdout",
     "output_type": "stream",
     "text": [
      "104 ns ± 1.38 ns per loop (mean ± std. dev. of 7 runs, 10000000 loops each)\n",
      "33.4 ns ± 0.139 ns per loop (mean ± std. dev. of 7 runs, 10000000 loops each)\n"
     ]
    }
   ],
   "source": [
    "# python data structure creation\n",
    "\n",
    "# using formal name\n",
    "formal_list = list()\n",
    "formal_dict = dict()\n",
    "formal_tuple = tuple()\n",
    "\n",
    "# using (shorthand) literal syntax\n",
    "literal_list = []\n",
    "literal_dict = {}\n",
    "literal_tuple = ()\n",
    "\n",
    "# compare timing of creation\n",
    "# formal\n",
    "f_time = %timeit -o formal_dict = dict()\n",
    "\n",
    "# literal\n",
    "l_time = %timeit -o literal_dict = {}"
   ]
  },
  {
   "cell_type": "code",
   "execution_count": 36,
   "metadata": {},
   "outputs": [
    {
     "name": "stdout",
     "output_type": "stream",
     "text": [
      "1.95 µs ± 44.4 ns per loop (mean ± std. dev. of 7 runs, 1000000 loops each)\n",
      "566 ns ± 10.2 ns per loop (mean ± std. dev. of 7 runs, 1000000 loops each)\n"
     ]
    }
   ],
   "source": [
    "# Create a list of integers (0-50) using list comprehension\n",
    "%timeit nums_list_comp = [num for num in range(51)]\n",
    "\n",
    "# Create a list of integers (0-50) by unpacking range\n",
    "%timeit nums_unpack = [*range(51)]"
   ]
  },
  {
   "cell_type": "markdown",
   "metadata": {},
   "source": [
    "## 1.4 Code profiling for runtime"
   ]
  },
  {
   "cell_type": "markdown",
   "metadata": {},
   "source": [
    "What if we want to time a large code base or see line-by-line within a function ? -> code profiling      \n",
    "\n",
    "Code Profiling is a technique used to describe how ling, and how often, various parts of a program are executed.    \n",
    "It can be used for line-by-line analysis, and provide stats on individual pieces of our code w/o magic command %timeit.       \n",
    "\n",
    "package used: line_profiler"
   ]
  },
  {
   "cell_type": "code",
   "execution_count": 37,
   "metadata": {},
   "outputs": [],
   "source": [
    "heroes = [\"Batman\", \"Superman\", \" Wonder Woman\"]\n",
    "\n",
    "hts = np.array([188.0, 191.0, 183.0])\n",
    "wts = np.array([95.0, 101.0, 74.0])"
   ]
  },
  {
   "cell_type": "code",
   "execution_count": 38,
   "metadata": {},
   "outputs": [],
   "source": [
    "def convert_units(heroes, heights, weights):\n",
    "    new_hts = [ht*0.39370 for ht in heights]\n",
    "    new_wts = [wt*0.39370 for wt in weights]\n",
    "    \n",
    "    hero_data = {}\n",
    "    \n",
    "    for i,hero in enumerate(heroes):\n",
    "        hero_data[hero] = (new_hts[i], new_wts[i])\n",
    "        \n",
    "    return hero_data"
   ]
  },
  {
   "cell_type": "code",
   "execution_count": 39,
   "metadata": {},
   "outputs": [
    {
     "data": {
      "text/plain": [
       "{'Batman': (74.01559999999999, 37.4015),\n",
       " 'Superman': (75.19669999999999, 39.7637),\n",
       " ' Wonder Woman': (72.0471, 29.1338)}"
      ]
     },
     "execution_count": 39,
     "metadata": {},
     "output_type": "execute_result"
    }
   ],
   "source": [
    "convert_units(heroes, hts, wts)"
   ]
  },
  {
   "cell_type": "code",
   "execution_count": 40,
   "metadata": {},
   "outputs": [
    {
     "name": "stdout",
     "output_type": "stream",
     "text": [
      "3.84 µs ± 27.3 ns per loop (mean ± std. dev. of 7 runs, 100000 loops each)\n"
     ]
    }
   ],
   "source": [
    "# use %timeit\n",
    "%timeit convert_units(heroes, hts, wts)\n",
    "# this only give us total execution time\n",
    "# we could technically use %timeit on every line in the function"
   ]
  },
  {
   "cell_type": "code",
   "execution_count": 41,
   "metadata": {},
   "outputs": [],
   "source": [
    "# use line_profiler extension\n",
    "%load_ext line_profiler"
   ]
  },
  {
   "cell_type": "code",
   "execution_count": 42,
   "metadata": {},
   "outputs": [
    {
     "data": {
      "text/plain": [
       "Timer unit: 1e-06 s\n",
       "\n",
       "Total time: 2.6e-05 s\n",
       "File: <ipython-input-38-57a50ec7a699>\n",
       "Function: convert_units at line 1\n",
       "\n",
       "Line #      Hits         Time  Per Hit   % Time  Line Contents\n",
       "==============================================================\n",
       "     1                                           def convert_units(heroes, heights, weights):\n",
       "     2         1         15.0     15.0     57.7      new_hts = [ht*0.39370 for ht in heights]\n",
       "     3         1          4.0      4.0     15.4      new_wts = [wt*0.39370 for wt in weights]\n",
       "     4                                               \n",
       "     5         1          1.0      1.0      3.8      hero_data = {}\n",
       "     6                                               \n",
       "     7         4          3.0      0.8     11.5      for i,hero in enumerate(heroes):\n",
       "     8         3          2.0      0.7      7.7          hero_data[hero] = (new_hts[i], new_wts[i])\n",
       "     9                                                   \n",
       "    10         1          1.0      1.0      3.8      return hero_data"
      ]
     },
     "metadata": {},
     "output_type": "display_data"
    }
   ],
   "source": [
    "# magic command %lprun is from line_profiler\n",
    "# -f: we want to profile a func\n",
    "# follow by the name of the func, w/o ().\n",
    "# then the func with arg\n",
    "%lprun -f convert_units convert_units(heroes, hts, wts)\n",
    "# hits: how many time that line is executed\n",
    "# time: uses time unit\n",
    "# per hit: avg amt of time spent executing a single line: Time/Hits\n",
    "# % Time: percentage of time spent on a line wrt total time in the func"
   ]
  },
  {
   "cell_type": "code",
   "execution_count": 43,
   "metadata": {},
   "outputs": [],
   "source": [
    "def convert_units_broadcast(heroes, heights, weights):\n",
    "\n",
    "    # Array broadcasting instead of list comprehension\n",
    "    new_hts = heights * 0.39370\n",
    "    new_wts = weights * 2.20462\n",
    "\n",
    "    hero_data = {}\n",
    "\n",
    "    for i,hero in enumerate(heroes):\n",
    "        hero_data[hero] = (new_hts[i], new_wts[i])\n",
    "\n",
    "    return hero_data"
   ]
  },
  {
   "cell_type": "code",
   "execution_count": 44,
   "metadata": {},
   "outputs": [
    {
     "data": {
      "text/plain": [
       "Timer unit: 1e-06 s\n",
       "\n",
       "Total time: 2.8e-05 s\n",
       "File: <ipython-input-43-097b3089decf>\n",
       "Function: convert_units_broadcast at line 1\n",
       "\n",
       "Line #      Hits         Time  Per Hit   % Time  Line Contents\n",
       "==============================================================\n",
       "     1                                           def convert_units_broadcast(heroes, heights, weights):\n",
       "     2                                           \n",
       "     3                                               # Array broadcasting instead of list comprehension\n",
       "     4         1         16.0     16.0     57.1      new_hts = heights * 0.39370\n",
       "     5         1          4.0      4.0     14.3      new_wts = weights * 2.20462\n",
       "     6                                           \n",
       "     7         1          0.0      0.0      0.0      hero_data = {}\n",
       "     8                                           \n",
       "     9         4          3.0      0.8     10.7      for i,hero in enumerate(heroes):\n",
       "    10         3          4.0      1.3     14.3          hero_data[hero] = (new_hts[i], new_wts[i])\n",
       "    11                                           \n",
       "    12         1          1.0      1.0      3.6      return hero_data"
      ]
     },
     "metadata": {},
     "output_type": "display_data"
    }
   ],
   "source": [
    "%lprun -f convert_units_broadcast convert_units_broadcast(heroes, hts, wts)"
   ]
  },
  {
   "cell_type": "markdown",
   "metadata": {},
   "source": [
    "## 1.5 Code profiling for memory usage\n",
    "\n",
    "can use built-in module: sys.     \n",
    "This module contains system specific func and contains a nice method: sys.getsizeof(nums_list), which return the size of the object in bytes. "
   ]
  },
  {
   "cell_type": "code",
   "execution_count": 45,
   "metadata": {},
   "outputs": [
    {
     "data": {
      "text/plain": [
       "8096"
      ]
     },
     "execution_count": 45,
     "metadata": {},
     "output_type": "execute_result"
    }
   ],
   "source": [
    "# single obj size\n",
    "nums_np = np.array(range(1000))\n",
    "sys.getsizeof(nums_np)"
   ]
  },
  {
   "cell_type": "code",
   "execution_count": 46,
   "metadata": {},
   "outputs": [
    {
     "name": "stdout",
     "output_type": "stream",
     "text": [
      "ERROR: Could not find file <ipython-input-38-57a50ec7a699>\n",
      "NOTE: %mprun can only be used on functions defined in physical files, and not in the IPython environment.\n",
      "\n"
     ]
    },
    {
     "data": {
      "text/plain": []
     },
     "metadata": {},
     "output_type": "display_data"
    }
   ],
   "source": [
    "# line-by-line memory footprint\n",
    "%load_ext memory_profiler\n",
    "\n",
    "%mprun -f convert_units convert_units(heroes, hts, wts)\n",
    "# any func profiled for memory must be defined in a file and imported. so here wont work\n",
    "# so have to save in .py file"
   ]
  },
  {
   "cell_type": "code",
   "execution_count": 47,
   "metadata": {},
   "outputs": [
    {
     "name": "stdout",
     "output_type": "stream",
     "text": [
      "The memory_profiler extension is already loaded. To reload it, use:\n",
      "  %reload_ext memory_profiler\n",
      "\n"
     ]
    },
    {
     "data": {
      "text/plain": [
       "Filename: /Users/XavierTang/Documents/Data Science/Python/python_basics/hero_funcs.py\n",
       "\n",
       "Line #    Mem usage    Increment   Line Contents\n",
       "================================================\n",
       "     1     96.2 MiB     96.2 MiB   def convert_units(heroes, heights, weights):\n",
       "     2     96.2 MiB      0.0 MiB       new_hts = [ht*0.39370 for ht in heights]\n",
       "     3     96.2 MiB      0.0 MiB       new_wts = [wt*0.39370 for wt in weights]\n",
       "     4                                 \n",
       "     5     96.2 MiB      0.0 MiB       hero_data = {}\n",
       "     6                                 \n",
       "     7     96.2 MiB      0.0 MiB       for i,hero in enumerate(heroes):\n",
       "     8     96.2 MiB      0.0 MiB           hero_data[hero] = (new_hts[i], new_wts[i])\n",
       "     9                                     \n",
       "    10     96.2 MiB      0.0 MiB       return hero_data"
      ]
     },
     "metadata": {},
     "output_type": "display_data"
    }
   ],
   "source": [
    "from hero_funcs import convert_units\n",
    "\n",
    "%load_ext memory_profiler\n",
    "\n",
    "%mprun -f convert_units convert_units(heroes, hts, wts)\n",
    "\n",
    "# results will be differeent on different platform and runs"
   ]
  },
  {
   "cell_type": "markdown",
   "metadata": {},
   "source": [
    "## 1.6 Combining objects\n",
    "\n",
    "zip can be used to combine object.     \n",
    "\n",
    "Python also has built-in specialised container datatypes as alternatives to general purpose dict, list, set and turple.    \n",
    "Notable:     \n",
    "namedtuple: tuple subclasses with named fields     \n",
    "deque: list-like container with fast appends and pops        \n",
    "Counter: dict for counting hashable objects       \n",
    "OrderedDict: dict that retains order of entries            \n",
    "defaultdict: dict that calls a factory function to supply missing values.          \n",
    "\n",
    "The itertools are functional tools for creating and using iterators.        \n",
    "Notable:     \n",
    "Infinite iterators: count, cycle, repeat      \n",
    "Finite iterators: accumulate, chain, zip_longest      \n",
    "Combination generators: product, permutations, combinations       "
   ]
  },
  {
   "cell_type": "code",
   "execution_count": 48,
   "metadata": {},
   "outputs": [
    {
     "name": "stdout",
     "output_type": "stream",
     "text": [
      "[('Bulbasaur', 45), ('Charmander', 39), (' Squirtle', 44)]\n"
     ]
    }
   ],
   "source": [
    "names = [\"Bulbasaur\", \"Charmander\", \" Squirtle\"]\n",
    "hps = [45, 39, 44]\n",
    "\n",
    "# inefficient\n",
    "combined = []\n",
    "\n",
    "for i, pokemon in enumerate(names):\n",
    "    combined.append((pokemon, hps[i]))\n",
    "    \n",
    "print(combined)"
   ]
  },
  {
   "cell_type": "code",
   "execution_count": 49,
   "metadata": {},
   "outputs": [
    {
     "name": "stdout",
     "output_type": "stream",
     "text": [
      "<class 'zip'>\n"
     ]
    }
   ],
   "source": [
    "# using zip\n",
    "# uneven zip: will stop once the shortest list is exhausted\n",
    "combined_zip = zip(names, hps)\n",
    "# return a \"zip\" obj\n",
    "print(type(combined_zip))"
   ]
  },
  {
   "cell_type": "code",
   "execution_count": 50,
   "metadata": {},
   "outputs": [
    {
     "name": "stdout",
     "output_type": "stream",
     "text": [
      "[('Bulbasaur', 45), ('Charmander', 39), (' Squirtle', 44)]\n"
     ]
    }
   ],
   "source": [
    "# the obj \"zip\" has to be unpacked into a list to see the contents\n",
    "combined_zip_list = [*combined_zip]\n",
    "print(combined_zip_list)"
   ]
  },
  {
   "cell_type": "code",
   "execution_count": 53,
   "metadata": {},
   "outputs": [
    {
     "name": "stdout",
     "output_type": "stream",
     "text": [
      "{'Grass': 1, 'Dark': 2, 'Fire': 2, 'Water': 2, 'Steel': 2, 'Dragon': 1}\n"
     ]
    }
   ],
   "source": [
    "# frequency counting with loop\n",
    "poke_types = [\"Grass\", \"Dark\", \"Fire\", \"Water\", \"Steel\", \"Dragon\", \"Dark\", \"Water\", \"Steel\", \"Fire\"]\n",
    "\n",
    "# normal way\n",
    "type_count = {}\n",
    "\n",
    "for poke_type in poke_types:\n",
    "    if poke_type not in type_count:\n",
    "        type_count[poke_type] = 1\n",
    "    else: type_count[poke_type] += 1\n",
    "        \n",
    "print(type_count)"
   ]
  },
  {
   "cell_type": "code",
   "execution_count": 54,
   "metadata": {},
   "outputs": [
    {
     "name": "stdout",
     "output_type": "stream",
     "text": [
      "Counter({'Dark': 2, 'Fire': 2, 'Water': 2, 'Steel': 2, 'Grass': 1, 'Dragon': 1})\n"
     ]
    }
   ],
   "source": [
    "# using collections.Counter()\n",
    "from collections import Counter\n",
    "\n",
    "type_counts_counter = Counter(poke_types)\n",
    "print(type_counts_counter)"
   ]
  },
  {
   "cell_type": "code",
   "execution_count": 55,
   "metadata": {},
   "outputs": [
    {
     "name": "stdout",
     "output_type": "stream",
     "text": [
      "[('Grass', 'Dark'), ('Grass', 'Fire'), ('Grass', 'Water'), ('Grass', 'Steel'), ('Grass', 'Dragon'), ('Dark', 'Fire'), ('Dark', 'Water'), ('Dark', 'Steel'), ('Dark', 'Dragon'), ('Fire', 'Water'), ('Fire', 'Steel'), ('Fire', 'Dragon'), ('Water', 'Steel'), ('Water', 'Dragon'), ('Steel', 'Dragon')]\n"
     ]
    }
   ],
   "source": [
    "# Suppose we want all combinations pairs of type possible\n",
    "combos = []\n",
    "\n",
    "for x in poke_types:\n",
    "    for y in poke_types:\n",
    "        if x==y:\n",
    "            continue\n",
    "        if ((x,y) not in combos) & ((y,x) not in combos):\n",
    "            combos.append((x,y))\n",
    "            \n",
    "print(combos)"
   ]
  },
  {
   "cell_type": "code",
   "execution_count": 58,
   "metadata": {},
   "outputs": [
    {
     "name": "stdout",
     "output_type": "stream",
     "text": [
      "<class 'itertools.combinations'>\n",
      "[('Grass', 'Dark'), ('Grass', 'Fire'), ('Grass', 'Water'), ('Grass', 'Steel'), ('Grass', 'Dragon'), ('Grass', 'Dark'), ('Grass', 'Water'), ('Grass', 'Steel'), ('Grass', 'Fire'), ('Dark', 'Fire'), ('Dark', 'Water'), ('Dark', 'Steel'), ('Dark', 'Dragon'), ('Dark', 'Dark'), ('Dark', 'Water'), ('Dark', 'Steel'), ('Dark', 'Fire'), ('Fire', 'Water'), ('Fire', 'Steel'), ('Fire', 'Dragon'), ('Fire', 'Dark'), ('Fire', 'Water'), ('Fire', 'Steel'), ('Fire', 'Fire'), ('Water', 'Steel'), ('Water', 'Dragon'), ('Water', 'Dark'), ('Water', 'Water'), ('Water', 'Steel'), ('Water', 'Fire'), ('Steel', 'Dragon'), ('Steel', 'Dark'), ('Steel', 'Water'), ('Steel', 'Steel'), ('Steel', 'Fire'), ('Dragon', 'Dark'), ('Dragon', 'Water'), ('Dragon', 'Steel'), ('Dragon', 'Fire'), ('Dark', 'Water'), ('Dark', 'Steel'), ('Dark', 'Fire'), ('Water', 'Steel'), ('Water', 'Fire'), ('Steel', 'Fire')]\n"
     ]
    }
   ],
   "source": [
    "# using itertools\n",
    "from itertools import combinations\n",
    "combos_obj = combinations(poke_types, 2)\n",
    "print(type(combos_obj))\n",
    "combos = [*combos_obj]\n",
    "print(combos)"
   ]
  },
  {
   "cell_type": "markdown",
   "metadata": {},
   "source": [
    "## 1.7 Set Theory\n",
    "\n",
    "If we want to compare similiarity and differences between the contents of 2 objects, we can use set theory.      \n",
    "\n",
    "Built-in \"set\" datatype with accompanying methods:          \n",
    "intersection(): all elements that are in both sets       \n",
    "difference(): all elements in one set but not the other        \n",
    "symmetric_difference(): all elements in exactly one set     \n",
    "union(): all elements that are in either set       \n",
    "\n",
    "we can consider to store data in set datatype if we wish to compare them.       \n",
    "they also have the ability to quickly check if a value exist within its memeber using \"in\" operator.     \n",
    "\n",
    "A set is defined as a collection of distinct elements. We can use a set to collect unique items from an existing object."
   ]
  },
  {
   "cell_type": "code",
   "execution_count": 59,
   "metadata": {},
   "outputs": [
    {
     "name": "stdout",
     "output_type": "stream",
     "text": [
      "['Squirtle']\n"
     ]
    }
   ],
   "source": [
    "list_a = [\"Bulbasaur\", \"Charmander\", \"Squirtle\"]\n",
    "list_b = [\"Caterpie\", \"Pidgey\", \"Squirtle\"]\n",
    "\n",
    "# find intersec\n",
    "# inefficent\n",
    "in_common = []\n",
    "\n",
    "for pokemon_a in list_a:\n",
    "    for pokemon_b in list_b:\n",
    "        if pokemon_a == pokemon_b:\n",
    "            in_common.append(pokemon_a)\n",
    "            \n",
    "print(in_common)"
   ]
  },
  {
   "cell_type": "code",
   "execution_count": 60,
   "metadata": {},
   "outputs": [
    {
     "name": "stdout",
     "output_type": "stream",
     "text": [
      "{'Charmander', 'Squirtle', 'Bulbasaur'}\n"
     ]
    }
   ],
   "source": [
    "# using the set datatype\n",
    "set_a = set(list_a)\n",
    "print(set_a)"
   ]
  },
  {
   "cell_type": "code",
   "execution_count": 61,
   "metadata": {},
   "outputs": [
    {
     "name": "stdout",
     "output_type": "stream",
     "text": [
      "{'Pidgey', 'Caterpie', 'Squirtle'}\n"
     ]
    }
   ],
   "source": [
    "set_b = set(list_b)\n",
    "print(set_b)"
   ]
  },
  {
   "cell_type": "code",
   "execution_count": 62,
   "metadata": {},
   "outputs": [
    {
     "data": {
      "text/plain": [
       "{'Squirtle'}"
      ]
     },
     "execution_count": 62,
     "metadata": {},
     "output_type": "execute_result"
    }
   ],
   "source": [
    "set_a.intersection(set_b)"
   ]
  },
  {
   "cell_type": "code",
   "execution_count": 64,
   "metadata": {},
   "outputs": [
    {
     "name": "stdout",
     "output_type": "stream",
     "text": [
      "{'Charmander', 'Bulbasaur'}\n",
      "{'Pidgey', 'Caterpie'}\n"
     ]
    }
   ],
   "source": [
    "# in set_a but not in set_b\n",
    "print(set_a.difference(set_b))\n",
    "# in set_b but not in set_a\n",
    "print(set_b.difference(set_a))"
   ]
  },
  {
   "cell_type": "code",
   "execution_count": 66,
   "metadata": {},
   "outputs": [
    {
     "data": {
      "text/plain": [
       "{'Bulbasaur', 'Caterpie', 'Charmander', 'Pidgey'}"
      ]
     },
     "execution_count": 66,
     "metadata": {},
     "output_type": "execute_result"
    }
   ],
   "source": [
    "set_a.symmetric_difference(set_b)"
   ]
  },
  {
   "cell_type": "code",
   "execution_count": 67,
   "metadata": {},
   "outputs": [
    {
     "data": {
      "text/plain": [
       "{'Bulbasaur', 'Caterpie', 'Charmander', 'Pidgey', 'Squirtle'}"
      ]
     },
     "execution_count": 67,
     "metadata": {},
     "output_type": "execute_result"
    }
   ],
   "source": [
    "set_a.union(set_b)"
   ]
  },
  {
   "cell_type": "code",
   "execution_count": 69,
   "metadata": {},
   "outputs": [
    {
     "name": "stdout",
     "output_type": "stream",
     "text": [
      "['Grass', 'Dark', 'Fire', 'Water', 'Steel', 'Dragon']\n"
     ]
    }
   ],
   "source": [
    "# collect unique items\n",
    "\n",
    "#inefficient\n",
    "unique_types = []\n",
    "\n",
    "for prim_type in poke_types:\n",
    "    if prim_type not in unique_types:\n",
    "        unique_types.append(prim_type)\n",
    "        \n",
    "print(unique_types)"
   ]
  },
  {
   "cell_type": "code",
   "execution_count": 70,
   "metadata": {},
   "outputs": [
    {
     "name": "stdout",
     "output_type": "stream",
     "text": [
      "{'Grass', 'Steel', 'Dark', 'Water', 'Dragon', 'Fire'}\n"
     ]
    }
   ],
   "source": [
    "# using set\n",
    "unique_type_set = set(poke_types)\n",
    "print(unique_type_set)"
   ]
  },
  {
   "cell_type": "markdown",
   "metadata": {},
   "source": [
    "## 1.9 Eliminating loops\n",
    "\n"
   ]
  },
  {
   "cell_type": "code",
   "execution_count": 71,
   "metadata": {},
   "outputs": [
    {
     "name": "stdout",
     "output_type": "stream",
     "text": [
      "[317, 150, 320]\n"
     ]
    }
   ],
   "source": [
    "poke_stats = [\n",
    "    [90, 92, 75, 60],\n",
    "    [25, 20, 15, 90],\n",
    "    [55, 130, 60, 75]\n",
    "]\n",
    "\n",
    "# sum of each row\n",
    "\n",
    "# for loop: inefficient\n",
    "totals = []\n",
    "for row in poke_stats:\n",
    "    totals.append(sum(row))\n",
    "    \n",
    "print(totals)"
   ]
  },
  {
   "cell_type": "code",
   "execution_count": 72,
   "metadata": {},
   "outputs": [
    {
     "name": "stdout",
     "output_type": "stream",
     "text": [
      "[317, 150, 320]\n",
      "[317, 150, 320]\n"
     ]
    }
   ],
   "source": [
    "# list comprehension\n",
    "# faster\n",
    "totals_comp = [sum(row) for row in poke_stats]\n",
    "print(totals_comp)\n",
    "\n",
    "# built-in map()\n",
    "# even faster\n",
    "totals_comp = [*map(sum, poke_stats)]\n",
    "print(totals_comp)"
   ]
  },
  {
   "cell_type": "code",
   "execution_count": 73,
   "metadata": {},
   "outputs": [
    {
     "name": "stdout",
     "output_type": "stream",
     "text": [
      "[79.25, 37.5, 80.0]\n"
     ]
    }
   ],
   "source": [
    "# use numpy\n",
    "poke_stats = np.array([\n",
    "    [90, 92, 75, 60],\n",
    "    [25, 20, 15, 90],\n",
    "    [55, 130, 60, 75]\n",
    "])\n",
    "\n",
    "# avg of row\n",
    "# inefficent\n",
    "avgs = []\n",
    "for row in poke_stats:\n",
    "    avg = np.mean(row)\n",
    "    avgs.append(avg)\n",
    "print(avgs)"
   ]
  },
  {
   "cell_type": "code",
   "execution_count": 74,
   "metadata": {},
   "outputs": [
    {
     "name": "stdout",
     "output_type": "stream",
     "text": [
      "[79.25 37.5  80.  ]\n"
     ]
    }
   ],
   "source": [
    "# vectorisation\n",
    "avgs_np = poke_stats.mean(axis=1)\n",
    "print(avgs_np)"
   ]
  },
  {
   "cell_type": "code",
   "execution_count": null,
   "metadata": {},
   "outputs": [],
   "source": []
  },
  {
   "cell_type": "code",
   "execution_count": null,
   "metadata": {},
   "outputs": [],
   "source": []
  },
  {
   "cell_type": "code",
   "execution_count": null,
   "metadata": {},
   "outputs": [],
   "source": []
  },
  {
   "cell_type": "code",
   "execution_count": null,
   "metadata": {},
   "outputs": [],
   "source": []
  }
 ],
 "metadata": {
  "kernelspec": {
   "display_name": "Python 3",
   "language": "python",
   "name": "python3"
  },
  "language_info": {
   "codemirror_mode": {
    "name": "ipython",
    "version": 3
   },
   "file_extension": ".py",
   "mimetype": "text/x-python",
   "name": "python",
   "nbconvert_exporter": "python",
   "pygments_lexer": "ipython3",
   "version": "3.7.6"
  }
 },
 "nbformat": 4,
 "nbformat_minor": 4
}
