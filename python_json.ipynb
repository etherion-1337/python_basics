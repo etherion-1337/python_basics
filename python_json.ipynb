{
 "cells": [
  {
   "cell_type": "markdown",
   "metadata": {},
   "source": [
    "# Python library - JSON\n",
    "\n",
    "JavaScript Object Notation     \n"
   ]
  },
  {
   "cell_type": "code",
   "execution_count": 1,
   "metadata": {},
   "outputs": [],
   "source": [
    "import json"
   ]
  },
  {
   "cell_type": "markdown",
   "metadata": {},
   "source": [
    "## 1. loads()\n",
    "\n",
    "load a string in JSON format into list or dict depending on the content"
   ]
  },
  {
   "cell_type": "code",
   "execution_count": 2,
   "metadata": {},
   "outputs": [
    {
     "name": "stdout",
     "output_type": "stream",
     "text": [
      "\n",
      "\n",
      "\n",
      "{\n",
      " \"resultCount\":25,\n",
      " \"results\": [\n",
      "{\"wrapperType\":\"track\", \"kind\":\"podcast\", \"collectionId\":10892}]}\n",
      "------\n",
      "<class 'dict'>\n",
      "dict_keys(['resultCount', 'results'])\n",
      "25\n"
     ]
    }
   ],
   "source": [
    "a_string = '\\n\\n\\n{\\n \"resultCount\":25,\\n \"results\": [\\n{\"wrapperType\":\"track\", \"kind\":\"podcast\", \"collectionId\":10892}]}'\n",
    "print(a_string)\n",
    "d = json.loads(a_string)\n",
    "print(\"------\")\n",
    "print(type(d))\n",
    "print(d.keys())\n",
    "print(d['resultCount'])"
   ]
  },
  {
   "cell_type": "markdown",
   "metadata": {},
   "source": [
    "## 2. dumps()\n",
    "\n",
    "dump list or dictionay into string (JSON format) , while specifying indent etc"
   ]
  },
  {
   "cell_type": "code",
   "execution_count": 6,
   "metadata": {},
   "outputs": [
    {
     "name": "stdout",
     "output_type": "stream",
     "text": [
      "{'key1': {'c': True, 'a': 90, 5: 50}, 'key2': {'b': 3, 'c': 'yes'}}\n",
      "--------\n",
      "{\n",
      "  \"key1\": {\n",
      "    \"c\": true,\n",
      "    \"a\": 90,\n",
      "    \"5\": 50\n",
      "  },\n",
      "  \"key2\": {\n",
      "    \"b\": 3,\n",
      "    \"c\": \"yes\"\n",
      "  }\n",
      "}\n"
     ]
    }
   ],
   "source": [
    "def pretty(obj):\n",
    "    return json.dumps(obj,indent = 2)\n",
    "\n",
    "d = {'key1': {'c': True, 'a': 90, 5: 50}, 'key2':{'b': 3, 'c': \"yes\"}}\n",
    "\n",
    "print(d)\n",
    "print('--------')\n",
    "print(pretty(d))"
   ]
  },
  {
   "cell_type": "code",
   "execution_count": null,
   "metadata": {},
   "outputs": [],
   "source": []
  }
 ],
 "metadata": {
  "kernelspec": {
   "display_name": "Python 3",
   "language": "python",
   "name": "python3"
  },
  "language_info": {
   "codemirror_mode": {
    "name": "ipython",
    "version": 3
   },
   "file_extension": ".py",
   "mimetype": "text/x-python",
   "name": "python",
   "nbconvert_exporter": "python",
   "pygments_lexer": "ipython3",
   "version": "3.7.3"
  }
 },
 "nbformat": 4,
 "nbformat_minor": 4
}
