{
 "cells": [
  {
   "cell_type": "markdown",
   "metadata": {},
   "source": [
    "# Python Plotting Library - Bokeh"
   ]
  },
  {
   "cell_type": "code",
   "execution_count": 1,
   "metadata": {},
   "outputs": [],
   "source": [
    "import pandas as pd\n",
    "import numpy as np\n",
    "from bokeh.io import output_file, show #enable save the fig to html and opens at browser, can also output jyperNB\n",
    "from bokeh.plotting import figure #create basic empty plot with simple defaults"
   ]
  },
  {
   "cell_type": "markdown",
   "metadata": {},
   "source": [
    "## 1. Plotting with glyph\n",
    "\n",
    "We can plot glyph to connect with the visuals with the data.   \n",
    "\n",
    "glyph:    \n",
    "They are visual shapes that can be drawn on the screen, can be point like marker like circle or more complex one like rectangle, line etc.    \n",
    "They are visual shapes that can include position, x/y coordinates, size or radius,filled or transpancy (alpha)\n",
    "\n",
    "The three most important arguments to customize scatter glyphs are color, size, and alpha. Bokeh accepts colors as hexadecimal strings, tuples of RGB values between 0 and 255, and any of the 147 CSS color names. Size values are supplied in screen space units with 100 meaning the size of the entire figure.    \n",
    "\n",
    "The alpha parameter controls transparency. It takes in floating point numbers between 0.0, meaning completely transparent, and 1.0, meaning completely opaque.   "
   ]
  },
  {
   "cell_type": "code",
   "execution_count": 5,
   "metadata": {},
   "outputs": [],
   "source": [
    "#define plot canvas size, plot_height uses default value. \n",
    "# tools accept string for built-in tools, or self-defined tools (in a list)\n",
    "# pan: panning the plot region, tool to draw retangular region to zoom in on.\n",
    "plot = figure(plot_width=400, tools =\"pan,box_zoom\")\n",
    "# circle method, 2 lists: x and y coordinates of the circle\n",
    "# all other properetes: size, color etc uses default\n",
    "plot.circle([1,2,3,4,5],[8,6,5,2,3])\n",
    "#display the figure and save\n",
    "#output_file(\"circle.html\") # save at the current directory\n",
    "show(plot)"
   ]
  },
  {
   "cell_type": "markdown",
   "metadata": {},
   "source": [
    "## 1.1 glyph properties\n",
    "\n",
    "can use any sequence of values (list, array, turple).   \n",
    "can use single values (like size or color), will be used on all glyph.    \n",
    "can change markers as well."
   ]
  },
  {
   "cell_type": "code",
   "execution_count": 6,
   "metadata": {},
   "outputs": [],
   "source": [
    "plot = figure()\n",
    "plot.circle(x=10,y=[2,5,8,10],size=[10,20,30,40])\n",
    "show(plot)"
   ]
  },
  {
   "cell_type": "markdown",
   "metadata": {},
   "source": [
    "## Example: a simple scatter plot"
   ]
  },
  {
   "cell_type": "code",
   "execution_count": 7,
   "metadata": {},
   "outputs": [
    {
     "name": "stdout",
     "output_type": "stream",
     "text": [
      "    Country  Continent female literacy fertility    population\n",
      "0      Chine       ASI            90.5     1.769  1.324655e+09\n",
      "1       Inde       ASI            50.8     2.682  1.139965e+09\n",
      "2        USA       NAM              99     2.077  3.040600e+08\n",
      "3  Indonésie       ASI            88.8     2.132  2.273451e+08\n",
      "4     Brésil       LAT            90.2     1.827  1.919715e+08\n",
      "<class 'pandas.core.frame.DataFrame'>\n",
      "RangeIndex: 182 entries, 0 to 181\n",
      "Data columns (total 5 columns):\n",
      "Country            169 non-null object\n",
      "Continent          164 non-null object\n",
      "female literacy    169 non-null object\n",
      "fertility          163 non-null object\n",
      "population         162 non-null float64\n",
      "dtypes: float64(1), object(4)\n",
      "memory usage: 7.2+ KB\n",
      "None\n",
      "Country             object\n",
      "Continent           object\n",
      "female literacy     object\n",
      "fertility           object\n",
      "population         float64\n",
      "dtype: object\n"
     ]
    }
   ],
   "source": [
    "# prepare the lists needed for the plot\n",
    "data1 = pd.read_csv(\"../python_basics/data/literacy_birth_rate.csv\")\n",
    "print(data1.head())\n",
    "print(data1.info())\n",
    "print(data1.dtypes)"
   ]
  },
  {
   "cell_type": "code",
   "execution_count": 9,
   "metadata": {},
   "outputs": [
    {
     "name": "stdout",
     "output_type": "stream",
     "text": [
      "Country             object\n",
      "Continent           object\n",
      "female literacy    float64\n",
      "fertility          float64\n",
      "population         float64\n",
      "dtype: object\n",
      "    Country  Continent  female literacy  fertility    population\n",
      "0      Chine       ASI             90.5      1.769  1.324655e+09\n",
      "1       Inde       ASI             50.8      2.682  1.139965e+09\n",
      "2        USA       NAM             99.0      2.077  3.040600e+08\n",
      "3  Indonésie       ASI             88.8      2.132  2.273451e+08\n",
      "4     Brésil       LAT             90.2      1.827  1.919715e+08\n"
     ]
    }
   ],
   "source": [
    "#convert from string to numerical\n",
    "data1[\"female literacy\"] = pd.to_numeric(data1[\"female literacy\"],errors='coerce')\n",
    "data1[\"fertility\"] = pd.to_numeric(data1[\"fertility\"],errors='coerce')\n",
    "print(data1.dtypes)\n",
    "print(data1.head())"
   ]
  },
  {
   "cell_type": "code",
   "execution_count": 10,
   "metadata": {},
   "outputs": [],
   "source": [
    "#make into a list\n",
    "fertility = data1.fertility.tolist()\n",
    "female_literacy = data1[\"female literacy\"].tolist()\n",
    "population = data1[\"population\"].tolist()"
   ]
  },
  {
   "cell_type": "code",
   "execution_count": 11,
   "metadata": {},
   "outputs": [],
   "source": [
    "#plot\n",
    "p = figure(x_axis_label='fertility (children per woman)', y_axis_label='female_literacy (% population)')\n",
    "\n",
    "# Add a circle glyph to the figure p\n",
    "p.circle(fertility, female_literacy, color=\"red\",size=10,alpha=0.8) # circle mark\n",
    "p.x(fertility,population) # x mark\n",
    "\n",
    "# Call the output_file() function and specify the name of the file\n",
    "#output_file(\"fert_lit.html\")\n",
    "\n",
    "# Display the plot\n",
    "show(p)"
   ]
  },
  {
   "cell_type": "markdown",
   "metadata": {},
   "source": [
    "## 1.2 Additional glyph: lines, patches"
   ]
  },
  {
   "cell_type": "markdown",
   "metadata": {},
   "source": [
    "### 1.2.1 lines"
   ]
  },
  {
   "cell_type": "code",
   "execution_count": 12,
   "metadata": {},
   "outputs": [],
   "source": [
    "#Lines\n",
    "x=[1,2,3,4,5]\n",
    "y=[8,6,5,2,3]\n",
    "plot = figure()\n",
    "plot.line(x,y,line_width=3)\n",
    "show(plot)"
   ]
  },
  {
   "cell_type": "code",
   "execution_count": 13,
   "metadata": {},
   "outputs": [],
   "source": [
    "# draw line AND circle together\n",
    "x=[1,2,3,4,5]\n",
    "y=[8,6,5,2,3]\n",
    "plot=figure()\n",
    "plot.line(x,y,line_width=2)\n",
    "plot.circle(x,y,fill_color=\"white\",size=10)\n",
    "show(plot)"
   ]
  },
  {
   "cell_type": "markdown",
   "metadata": {},
   "source": [
    "### 1.2.2 patches\n",
    "\n",
    "useful for showing geographic regions    \n",
    "can draw multiple polygon by given a list of patch coordinates.    \n",
    "coordinate data for patches is a list of list, because each entry (i.e. patch, also has multiple coordicates for each point of the polygon.    \n",
    "2 list of lists: 1 for x coordinate, 1 for y coordinate, the length of each list has to match.    \n"
   ]
  },
  {
   "cell_type": "code",
   "execution_count": 14,
   "metadata": {},
   "outputs": [],
   "source": [
    "xs=[[1,1,2,2],[2,2,4],[2,2,3,3]]\n",
    "ys=[[2,5,5,2],[3,5,5],[2,3,4,2]]\n",
    "\n",
    "plot = figure()\n",
    "plot.patches(xs,ys,fill_color=[\"red\",\"blue\",\"green\"], line_color=\"white\")\n",
    "show(plot)"
   ]
  },
  {
   "cell_type": "markdown",
   "metadata": {},
   "source": [
    "## 2. Data formats for glyph properties\n",
    "\n",
    "1) list (as shown above) can be passed to alter glyph properties.     \n",
    "\n",
    "2) numpy array       \n",
    "\n",
    "3) Pandas    \n",
    "\n",
    "4) Column Data Source:     \n",
    "common fundamental data structure for Bokeh.     \n",
    "take care of data from python to html.    \n",
    "a strip down simple version of dataframe.     \n",
    "map string name to sequence of data (like a col in DF, or a dict)     \n",
    "often created automatically for us.      \n",
    "Can be shared between glyphs to link selection.     \n",
    "Extra columns can be used with hover tool tips.     \n"
   ]
  },
  {
   "cell_type": "code",
   "execution_count": 15,
   "metadata": {},
   "outputs": [],
   "source": [
    "#numpy array\n",
    "x=np.linspace(0,10,1000)\n",
    "y=np.sin(x) + np.random.random(1000)*0.2\n",
    "plot=figure()\n",
    "plot.line(x,y)\n",
    "show(plot)"
   ]
  },
  {
   "cell_type": "code",
   "execution_count": 16,
   "metadata": {},
   "outputs": [],
   "source": [
    "#Pandas\n",
    "plot=figure()\n",
    "plot.circle(data1[\"female literacy\"],data1[\"fertility\"],size=10)\n",
    "show(plot)"
   ]
  },
  {
   "cell_type": "code",
   "execution_count": 17,
   "metadata": {},
   "outputs": [],
   "source": [
    "#pandas\n",
    "auto = pd.read_csv(\"../python_basics/data/auto-mpg_full.csv\")\n",
    "# Create the figure: p\n",
    "p = figure(x_axis_label='HP', y_axis_label='MPG')\n",
    "\n",
    "# Plot mpg vs hp by color\n",
    "p.circle(auto[\"mpg\"],auto[\"hp\"], color=auto[\"color\"],size=10)\n",
    "\n",
    "# Specify the name of the output file and show the result\n",
    "#output_file('auto-df.html')\n",
    "show(p)"
   ]
  },
  {
   "cell_type": "markdown",
   "metadata": {},
   "source": [
    "## 2.1 Column Data Source"
   ]
  },
  {
   "cell_type": "code",
   "execution_count": 18,
   "metadata": {},
   "outputs": [],
   "source": [
    "from bokeh.models import ColumnDataSource"
   ]
  },
  {
   "cell_type": "code",
   "execution_count": 34,
   "metadata": {},
   "outputs": [],
   "source": [
    "# create an instance of the columndatasource\n",
    "source = ColumnDataSource(data={\n",
    "    \"x\":[1,2,3,4,5],\n",
    "    \"y\":[8,6,5,2,3]\n",
    "}) # dict\n",
    "#all col in the data source MUST be the same length"
   ]
  },
  {
   "cell_type": "code",
   "execution_count": 36,
   "metadata": {},
   "outputs": [
    {
     "data": {
      "text/plain": [
       "{'x': [1, 2, 3, 4, 5], 'y': [8, 6, 5, 2, 3]}"
      ]
     },
     "execution_count": 36,
     "metadata": {},
     "output_type": "execute_result"
    }
   ],
   "source": [
    "source.data #convert back to dict, just like Pandas"
   ]
  },
  {
   "cell_type": "code",
   "execution_count": 42,
   "metadata": {},
   "outputs": [
    {
     "data": {
      "text/plain": [
       "pandas.core.frame.DataFrame"
      ]
     },
     "execution_count": 42,
     "metadata": {},
     "output_type": "execute_result"
    }
   ],
   "source": [
    "#convert from Pandas dataframe to columndatasource\n",
    "from bokeh.sampledata.iris import flowers as df_flower\n",
    "type(df_flower)\n",
    "#df_flower.head()\n",
    "#source = ColumnDataSource(df_flower)"
   ]
  },
  {
   "cell_type": "code",
   "execution_count": 20,
   "metadata": {},
   "outputs": [],
   "source": [
    "sprint = pd.read_csv(\"../python_basics/data/sprint.csv\")\n",
    "# Create a ColumnDataSource from df: source\n",
    "type(sprint)\n",
    "source = ColumnDataSource(sprint)\n",
    "# Add circle glyphs to the figure p\n",
    "p.circle(\"Year\",\"Time\",source=source, color=\"color\",size=8)\n",
    "\n",
    "# Specify the name of the output file and show the result\n",
    "#output_file('sprint.html')\n",
    "show(p)\n"
   ]
  },
  {
   "cell_type": "markdown",
   "metadata": {},
   "source": [
    "## 3. Cusomization"
   ]
  },
  {
   "cell_type": "markdown",
   "metadata": {},
   "source": [
    "### 3.1 Selection appearance"
   ]
  },
  {
   "cell_type": "code",
   "execution_count": 21,
   "metadata": {},
   "outputs": [],
   "source": [
    "plot = figure(tools=\"box_select, lasso_select\")\n",
    "plot.circle(auto[\"mpg\"],auto[\"hp\"], color=auto[\"color\"],selection_color=\"red\",nonselection_fill_alpha=0.2,nonselection_fill_color=\"gray\")\n",
    "show(plot)"
   ]
  },
  {
   "cell_type": "markdown",
   "metadata": {},
   "source": [
    "### 3.2 Hover appearence"
   ]
  },
  {
   "cell_type": "code",
   "execution_count": 22,
   "metadata": {},
   "outputs": [],
   "source": [
    "from bokeh.models import HoverTool\n",
    "hover = HoverTool(tooltips=None,mode=\"hline\") #hovertool initialiser\n",
    "plot = figure(tools=[hover,\"crosshair\"])\n",
    "plot.circle(auto[\"mpg\"],auto[\"hp\"], color=auto[\"color\"],size=10,hover_color=\"red\")\n",
    "show(plot)"
   ]
  },
  {
   "cell_type": "markdown",
   "metadata": {},
   "source": [
    "### 3.3 color mapping"
   ]
  },
  {
   "cell_type": "code",
   "execution_count": 27,
   "metadata": {},
   "outputs": [],
   "source": [
    "# Convert df to a ColumnDataSource: source\n",
    "auto = pd.read_csv(\"../python_basics/data/auto-mpg_full.csv\")\n",
    "source = ColumnDataSource(auto)\n",
    "\n",
    "# Make a CategoricalColorMapper object: color_mapper\n",
    "color_mapper = CategoricalColorMapper(factors=['Europe', 'Asia', 'US'],\n",
    "                                      palette=['red', 'green', 'blue'])\n",
    "\n",
    "# Add a circle glyph to the figure p\n",
    "p.circle(\"weight\", 'mpg', source=source,\n",
    "            color={\"field\":'origin', \"transform\":color_mapper},\n",
    "            legend='origin')\n",
    "\n",
    "# Specify the name of the output file and show the result\n",
    "#output_file('colormap.html')\n",
    "show(p)\n"
   ]
  },
  {
   "cell_type": "markdown",
   "metadata": {},
   "source": [
    "## 4. Layouts of the plots"
   ]
  },
  {
   "cell_type": "markdown",
   "metadata": {},
   "source": [
    "### 4.1 arranging multiple plots\n",
    "\n",
    "Possible configuration:   \n",
    "rows, columns    \n",
    "grid arrangement     \n",
    "tabbed layouts    \n",
    "\n",
    "we explore the fist one below:"
   ]
  },
  {
   "cell_type": "markdown",
   "metadata": {},
   "source": [
    "### 4.1.1 rows of plots"
   ]
  },
  {
   "cell_type": "code",
   "execution_count": 28,
   "metadata": {},
   "outputs": [],
   "source": [
    "from bokeh.layouts import row\n",
    "p1 = figure(x_axis_label='fertility (children per woman)', y_axis_label='female_literacy (% population)')\n",
    "p1.circle(fertility, female_literacy, color=\"red\",size=10,alpha=0.8) # circle mark\n",
    "p2 = figure(x_axis_label='fertility (children per woman)', y_axis_label='population')\n",
    "p2.circle(fertility, population, color=\"blue\",size=10,alpha=0.8) # circle mark\n",
    "p3 = figure(x_axis_label='female_literacy (% population)', y_axis_label='population')\n",
    "p3.circle(female_literacy, population, color=\"green\",size=10,alpha=0.8) # circle mark\n",
    "\n",
    "\n",
    "#p1, p2,p3 are plots (i.e. p.circle etc)\n",
    "layout = row(p1,p2,p3)\n",
    "#output_file(\"row.html\")\n",
    "show(layout)"
   ]
  },
  {
   "cell_type": "markdown",
   "metadata": {},
   "source": [
    "## 4.1.2 columns of plots"
   ]
  },
  {
   "cell_type": "code",
   "execution_count": 69,
   "metadata": {},
   "outputs": [],
   "source": [
    "from bokeh.layouts import column\n",
    "p1 = figure(x_axis_label='fertility (children per woman)', y_axis_label='female_literacy (% population)')\n",
    "p1.circle(fertility, female_literacy, color=\"red\",size=10,alpha=0.8) # circle mark\n",
    "p2 = figure(x_axis_label='fertility (children per woman)', y_axis_label='population')\n",
    "p2.circle(fertility, population, color=\"blue\",size=10,alpha=0.8) # circle mark\n",
    "p3 = figure(x_axis_label='female_literacy (% population)', y_axis_label='population')\n",
    "p3.circle(female_literacy, population, color=\"green\",size=10,alpha=0.8) # circle mark\n",
    "\n",
    "\n",
    "#p1, p2,p3 are plots (i.e. p.circle etc)\n",
    "layout = column(p1,p2,p3)\n",
    "#output_file(\"row.html\")\n",
    "show(layout)"
   ]
  },
  {
   "cell_type": "markdown",
   "metadata": {},
   "source": [
    "### 4.1.3 nested layout"
   ]
  },
  {
   "cell_type": "code",
   "execution_count": 29,
   "metadata": {},
   "outputs": [],
   "source": [
    "from bokeh.layouts import column, row\n",
    "p1 = figure(x_axis_label='fertility (children per woman)', y_axis_label='female_literacy (% population)')\n",
    "p1.circle(fertility, female_literacy, color=\"red\",size=10,alpha=0.8) # circle mark\n",
    "p2 = figure(x_axis_label='fertility (children per woman)', y_axis_label='population')\n",
    "p2.circle(fertility, population, color=\"blue\",size=10,alpha=0.8) # circle mark\n",
    "p3 = figure(x_axis_label='female_literacy (% population)', y_axis_label='population')\n",
    "p3.circle(female_literacy, population, color=\"green\",size=10,alpha=0.8) # circle mark\n",
    "\n",
    "\n",
    "#p1, p2,p3 are plots (i.e. p.circle etc)\n",
    "layout = row(column(p1,p2),p3)\n",
    "#output_file(\"row.html\")\n",
    "show(layout)"
   ]
  },
  {
   "cell_type": "markdown",
   "metadata": {},
   "source": [
    "## 4.2 Grid and tabbed layout"
   ]
  },
  {
   "cell_type": "markdown",
   "metadata": {},
   "source": [
    "### 4.2.1 Gridplot"
   ]
  },
  {
   "cell_type": "code",
   "execution_count": 30,
   "metadata": {},
   "outputs": [],
   "source": [
    "from bokeh.layouts import gridplot\n",
    "p1 = figure(x_axis_label='fertility (children per woman)', y_axis_label='female_literacy (% population)')\n",
    "p1.circle(fertility, female_literacy, color=\"red\",size=10,alpha=0.8) # circle mark\n",
    "p2 = figure(x_axis_label='fertility (children per woman)', y_axis_label='population')\n",
    "p2.circle(fertility, population, color=\"blue\",size=10,alpha=0.8) # circle mark\n",
    "p3 = figure(x_axis_label='female_literacy (% population)', y_axis_label='population')\n",
    "p3.circle(female_literacy, population, color=\"green\",size=10,alpha=0.8) # circle mark\n",
    "\n",
    "#note all tool will be activated in all plots\n",
    "layout = gridplot([[None,p1],[p2,p3]],toolbar_location=None) #give a list of rows for layout, need to be same length\n",
    "\n",
    "show(layout)"
   ]
  },
  {
   "cell_type": "markdown",
   "metadata": {},
   "source": [
    "### 4.2.2 tabbed layout"
   ]
  },
  {
   "cell_type": "code",
   "execution_count": 31,
   "metadata": {},
   "outputs": [],
   "source": [
    "from bokeh.models.widgets import Tabs, Panel\n",
    "\n",
    "p1 = figure(x_axis_label='fertility (children per woman)', y_axis_label='female_literacy (% population)')\n",
    "p1.circle(fertility, female_literacy, color=\"red\",size=10,alpha=0.8) # circle mark\n",
    "p2 = figure(x_axis_label='fertility (children per woman)', y_axis_label='population')\n",
    "p2.circle(fertility, population, color=\"blue\",size=10,alpha=0.8) # circle mark\n",
    "p3 = figure(x_axis_label='female_literacy (% population)', y_axis_label='population')\n",
    "p3.circle(female_literacy, population, color=\"green\",size=10,alpha=0.8) # circle mark\n",
    "\n",
    "#create a Panel with a title for each tab\n",
    "first = Panel(child=row(p1,p2),title=\"first\")\n",
    "second = Panel(child=row(p3),title=\"second\")\n",
    "\n",
    "#put the Panels in a Tabs project\n",
    "tabs = Tabs(tabs=[first,second])\n",
    "\n",
    "show(tabs)"
   ]
  },
  {
   "cell_type": "markdown",
   "metadata": {},
   "source": [
    "## 4.3 Linking plots"
   ]
  },
  {
   "cell_type": "markdown",
   "metadata": {},
   "source": [
    "### 4.3.1 link axis"
   ]
  },
  {
   "cell_type": "code",
   "execution_count": 32,
   "metadata": {},
   "outputs": [],
   "source": [
    "from bokeh.layouts import row\n",
    "p1 = figure(x_axis_label='fertility (children per woman)', y_axis_label='female_literacy (% population)')\n",
    "p1.circle(fertility, female_literacy, color=\"red\",size=10,alpha=0.8) # circle mark\n",
    "p2 = figure(x_axis_label='fertility (children per woman)', y_axis_label='population')\n",
    "p2.circle(fertility, population, color=\"blue\",size=10,alpha=0.8) # circle mark\n",
    "p3 = figure(x_axis_label='female_literacy (% population)', y_axis_label='population')\n",
    "p3.circle(female_literacy, population, color=\"green\",size=10,alpha=0.8) # circle mark\n",
    "\n",
    "p3.x_range = p2.x_range=p1.x_range\n",
    "p3.y_range = p2.y_range=p1.y_range\n",
    "\n",
    "#p1, p2,p3 are plots (i.e. p.circle etc)\n",
    "layout = row(p1,p2,p3)\n",
    "#output_file(\"row.html\")\n",
    "show(layout)\n"
   ]
  },
  {
   "cell_type": "markdown",
   "metadata": {},
   "source": [
    "### 4.3.1 link selection"
   ]
  },
  {
   "cell_type": "code",
   "execution_count": 34,
   "metadata": {},
   "outputs": [],
   "source": [
    "#use source = source\n",
    "auto = pd.read_csv(\"../python_basics/data/auto-mpg_full.csv\")\n",
    "source = ColumnDataSource(auto)\n",
    "# Create the figure: p\n",
    "p1 = figure(x_axis_label='HP', y_axis_label='MPG',tools=\"box_select, lasso_select\")\n",
    "p1.circle(\"mpg\",\"hp\",source=source)\n",
    "#create the figure p2\n",
    "p2 = figure(x_axis_label='HP', y_axis_label='ACCEL',tools=\"box_select, lasso_select\")\n",
    "p2.circle(\"mpg\",\"accel\",source=source)\n",
    "\n",
    "#p1, p2,p3 are plots (i.e. p.circle etc)\n",
    "layout = row(p1,p2)\n",
    "#output_file(\"row.html\")\n",
    "show(layout)"
   ]
  },
  {
   "cell_type": "markdown",
   "metadata": {},
   "source": [
    "## 5. Anotation and Guides"
   ]
  },
  {
   "cell_type": "code",
   "execution_count": 36,
   "metadata": {},
   "outputs": [
    {
     "name": "stdout",
     "output_type": "stream",
     "text": [
      "   sepal_length  sepal_width  petal_length  petal_width species\n",
      "0           5.1          3.5           1.4          0.2  setosa\n",
      "1           4.9          3.0           1.4          0.2  setosa\n",
      "2           4.7          3.2           1.3          0.2  setosa\n",
      "3           4.6          3.1           1.5          0.2  setosa\n",
      "4           5.0          3.6           1.4          0.2  setosa\n"
     ]
    }
   ],
   "source": [
    "import pandas as pd\n",
    "import numpy as np\n",
    "from bokeh.io import output_file, show #enable save the fig to html and opens at browser, can also output jyperNB\n",
    "from bokeh.plotting import figure\n",
    "from bokeh.models import ColumnDataSource\n",
    "from bokeh.models import CategoricalColorMapper\n",
    "from bokeh.layouts import row\n",
    "#convert from Pandas dataframe to columndatasource\n",
    "from bokeh.sampledata.iris import flowers as df_flower\n",
    "type(df_flower)\n",
    "print(df_flower.head())\n",
    "source = ColumnDataSource(df_flower)\n",
    "\n",
    "mapper = CategoricalColorMapper(\n",
    "factors=[\"setosa\",\"virginica\",\"versicolor\"],\n",
    "palette=[\"red\",\"green\",\"blue\"])\n",
    "plot = figure(x_axis_label=\"petal_length\",y_axis_label=\"sepal_length\")\n",
    "\n",
    "plot.circle(\"petal_length\",\"sepal_length\",\n",
    "            size=10, source=source,\n",
    "            color = {\"field\":\"species\",\n",
    "                     \"transform\":mapper},\n",
    "                     legend=\"species\")\n",
    "\n",
    "plot.legend.location=\"top_left\"\n",
    "show(plot)"
   ]
  },
  {
   "cell_type": "markdown",
   "metadata": {},
   "source": [
    "## 5.1 Hover tools"
   ]
  },
  {
   "cell_type": "code",
   "execution_count": 38,
   "metadata": {},
   "outputs": [],
   "source": [
    "import pandas as pd\n",
    "import numpy as np\n",
    "from bokeh.io import output_file, show #enable save the fig to html and opens at browser, can also output jyperNB\n",
    "from bokeh.plotting import figure\n",
    "from bokeh.models import ColumnDataSource\n",
    "from bokeh.models import CategoricalColorMapper\n",
    "from bokeh.layouts import row\n",
    "from bokeh.models import HoverTool\n",
    "\n",
    "#convert from Pandas dataframe to columndatasource\n",
    "from bokeh.sampledata.iris import flowers as df_flower\n",
    "type(df_flower)\n",
    "#df_flower.head()\n",
    "source = ColumnDataSource(df_flower)\n",
    "hover = HoverTool(tooltips=[(\"species name\",\"@species\"),\n",
    "                            (\"petal length\",\"@petal_length\"),\n",
    "                            (\"sepal length\",\"@sepal_length\"),\n",
    "                            ])\n",
    "\n",
    "mapper = CategoricalColorMapper(\n",
    "factors=[\"setosa\",\"virginica\",\"versicolor\"],\n",
    "palette=[\"red\",\"green\",\"blue\"])\n",
    "plot = figure(x_axis_label=\"petal_length\",y_axis_label=\"sepal_length\",tools=[hover,\"pan\",\"wheel_zoom\"])\n",
    "\n",
    "plot.circle(\"petal_length\",\"sepal_length\",\n",
    "            size=10, source=source,\n",
    "            color = {\"field\":\"species\",\n",
    "                     \"transform\":mapper},\n",
    "                     legend=\"species\"\n",
    "                    )\n",
    "\n",
    "plot.legend.location=\"top_left\"\n",
    "show(plot)\n"
   ]
  },
  {
   "cell_type": "markdown",
   "metadata": {},
   "source": [
    "## 6. Bokeh server"
   ]
  },
  {
   "cell_type": "markdown",
   "metadata": {},
   "source": [
    "### 6.1 Using current document\n",
    "\n",
    "Let's get started with building an interactive Bokeh app. This typically begins with importing the curdoc, or \"current document\", function from bokeh.io. This current document will eventually hold all the plots, controls, and layouts that you create. "
   ]
  },
  {
   "cell_type": "code",
   "execution_count": 3,
   "metadata": {},
   "outputs": [],
   "source": [
    "# Perform necessary imports\n",
    "from bokeh.io import curdoc\n",
    "from bokeh.plotting import figure\n",
    "\n",
    "# Create a new plot: plot\n",
    "plot = figure()\n",
    "\n",
    "# Add a line to the plot\n",
    "x=[1,2,3,4,5]\n",
    "y=[2,5,4,6,7]\n",
    "\n",
    "plot.line(x,y)\n",
    "\n",
    "# Add the plot to the current document\n",
    "curdoc().add_root(plot)\n",
    "\n",
    "#call the display, run this command in the cmd window\n",
    "#bokeh serve script.py\n",
    "#bokeh serve --show script.py"
   ]
  },
  {
   "cell_type": "code",
   "execution_count": null,
   "metadata": {},
   "outputs": [],
   "source": [
    "# create a widget called slider\n",
    "# Perform the necessary imports\n",
    "from bokeh.io import curdoc\n",
    "from bokeh.layouts import widgetbox\n",
    "from bokeh.models import Slider\n",
    "\n",
    "# Create a slider: slider\n",
    "slider = Slider(title='my slider', start=0, end=10, step=0.1, value=2)\n",
    "\n",
    "# Create a widgetbox layout: layout\n",
    "layout = widgetbox(slider)\n",
    "\n",
    "# Add the layout to the current document\n",
    "curdoc().add_root(layout)"
   ]
  },
  {
   "cell_type": "code",
   "execution_count": null,
   "metadata": {},
   "outputs": [],
   "source": [
    "# connecting slider with actual plot\n",
    "#using slider\n",
    "from bokeh.io import curdoc\n",
    "from bokeh.layouts import column\n",
    "from bokeh.models import ColumnDataSource, Slider\n",
    "from bokeh.plotting import figure\n",
    "from numpy.random import random\n",
    "\n",
    "N=300\n",
    "source=ColumnDataSource(data={\"x\": random(N), \"y\": random(N)})\n",
    "\n",
    "#create plots and widges\n",
    "plot=figure()\n",
    "plot.circle(x=\"x\", y=\"y\",source=source)\n",
    "\n",
    "slider = Slider(start = 100, end = 1000, value=N, step = 10, title = \"Number of points\")\n",
    "\n",
    "#callback\n",
    "# define a function\n",
    "# Callbacks are functions that a user can define, like def callback(attr, old, new), \n",
    "# that can be called automatically when some property of a Bokeh object (e.g., the value of a Slider) changes.\n",
    "def callback(attr,old,new):\n",
    "    N = slider.value #N depends on the slider value\n",
    "    source.data={\"x\":random(N),\"y\":random(N)} #overwrite new data into source\n",
    "#thats how you call callback function in bokeh  \n",
    "# Attach the callback to the 'value' property of slider\n",
    "slider.on_change(\"value\",callback)\n",
    "    \n",
    "#slider abv plot\n",
    "layout = column(slider, plot)\n",
    "\n",
    "curdoc().add_root(layout)"
   ]
  },
  {
   "cell_type": "code",
   "execution_count": null,
   "metadata": {},
   "outputs": [],
   "source": [
    "#dropdown manus\n",
    "from bokeh.io import curdoc\n",
    "from bokeh.layouts import column\n",
    "from bokeh.models import ColumnDataSource, Select\n",
    "from bokeh.plotting import figure\n",
    "from numpy.random import random\n",
    "\n",
    "N=300\n",
    "source=ColumnDataSource(data={\"x\": random(N), \"y\": random(N)})\n",
    "\n",
    "#create plots and widges\n",
    "plot=figure()\n",
    "plot.circle(x=\"x\", y=\"y\",source=source)\n",
    "\n",
    "#slider = Slider(start = 100, end = 1000, value=N, step = 10, title = \"Number of points\")\n",
    "menu = Select(options=[\"uniform\",\"normal\",\"lognormal\",value=\"uniform\",title=\"Distribution\"]) #initial value is \"uniform\"\n",
    "#callback\n",
    "# define a function\n",
    "# Callbacks are functions that a user can define, like def callback(attr, old, new), \n",
    "# that can be called automatically when some property of a Bokeh object (e.g., the value of a Slider) changes.\n",
    "\n",
    "def callback(attr,old,new):\n",
    "    if menu.value == \"uniform\": f=random\n",
    "    elif menu.value == \"normal\": f=normal\n",
    "    else: f=lognormal\n",
    "    source.data={\"x\":f(size=N),\"y\":f(size=N)}\n",
    "\n",
    "#thats how you call callback function in bokeh  \n",
    "# Attach the callback to the 'value' property of slider\n",
    "menu.on_change(\"value\",callback)\n",
    "    \n",
    "#slider abv plot\n",
    "layout = column(menu, plot)\n",
    "\n",
    "curdoc().add_root(layout)"
   ]
  },
  {
   "cell_type": "markdown",
   "metadata": {},
   "source": [
    "## Example: Gapminder (DO NOT RUN, ONLY WORKS IN SPYDER PARTIALLY)\n"
   ]
  },
  {
   "cell_type": "code",
   "execution_count": 39,
   "metadata": {},
   "outputs": [
    {
     "data": {
      "text/html": [
       "<div>\n",
       "<style scoped>\n",
       "    .dataframe tbody tr th:only-of-type {\n",
       "        vertical-align: middle;\n",
       "    }\n",
       "\n",
       "    .dataframe tbody tr th {\n",
       "        vertical-align: top;\n",
       "    }\n",
       "\n",
       "    .dataframe thead th {\n",
       "        text-align: right;\n",
       "    }\n",
       "</style>\n",
       "<table border=\"1\" class=\"dataframe\">\n",
       "  <thead>\n",
       "    <tr style=\"text-align: right;\">\n",
       "      <th></th>\n",
       "      <th>Country</th>\n",
       "      <th>fertility</th>\n",
       "      <th>life</th>\n",
       "      <th>population</th>\n",
       "      <th>child_mortality</th>\n",
       "      <th>gdp</th>\n",
       "      <th>region</th>\n",
       "    </tr>\n",
       "    <tr>\n",
       "      <th>Year</th>\n",
       "      <th></th>\n",
       "      <th></th>\n",
       "      <th></th>\n",
       "      <th></th>\n",
       "      <th></th>\n",
       "      <th></th>\n",
       "      <th></th>\n",
       "    </tr>\n",
       "  </thead>\n",
       "  <tbody>\n",
       "    <tr>\n",
       "      <th>1964</th>\n",
       "      <td>Afghanistan</td>\n",
       "      <td>7.671</td>\n",
       "      <td>33.639</td>\n",
       "      <td>10474903.0</td>\n",
       "      <td>339.7</td>\n",
       "      <td>1182.0</td>\n",
       "      <td>South Asia</td>\n",
       "    </tr>\n",
       "    <tr>\n",
       "      <th>1965</th>\n",
       "      <td>Afghanistan</td>\n",
       "      <td>7.671</td>\n",
       "      <td>34.152</td>\n",
       "      <td>10697983.0</td>\n",
       "      <td>334.1</td>\n",
       "      <td>1182.0</td>\n",
       "      <td>South Asia</td>\n",
       "    </tr>\n",
       "    <tr>\n",
       "      <th>1966</th>\n",
       "      <td>Afghanistan</td>\n",
       "      <td>7.671</td>\n",
       "      <td>34.662</td>\n",
       "      <td>10927724.0</td>\n",
       "      <td>328.7</td>\n",
       "      <td>1168.0</td>\n",
       "      <td>South Asia</td>\n",
       "    </tr>\n",
       "    <tr>\n",
       "      <th>1967</th>\n",
       "      <td>Afghanistan</td>\n",
       "      <td>7.671</td>\n",
       "      <td>35.170</td>\n",
       "      <td>11163656.0</td>\n",
       "      <td>323.3</td>\n",
       "      <td>1173.0</td>\n",
       "      <td>South Asia</td>\n",
       "    </tr>\n",
       "    <tr>\n",
       "      <th>1968</th>\n",
       "      <td>Afghanistan</td>\n",
       "      <td>7.671</td>\n",
       "      <td>35.674</td>\n",
       "      <td>11411022.0</td>\n",
       "      <td>318.1</td>\n",
       "      <td>1187.0</td>\n",
       "      <td>South Asia</td>\n",
       "    </tr>\n",
       "  </tbody>\n",
       "</table>\n",
       "</div>"
      ],
      "text/plain": [
       "          Country  fertility    life  population  child_mortality     gdp  \\\n",
       "Year                                                                        \n",
       "1964  Afghanistan      7.671  33.639  10474903.0            339.7  1182.0   \n",
       "1965  Afghanistan      7.671  34.152  10697983.0            334.1  1182.0   \n",
       "1966  Afghanistan      7.671  34.662  10927724.0            328.7  1168.0   \n",
       "1967  Afghanistan      7.671  35.170  11163656.0            323.3  1173.0   \n",
       "1968  Afghanistan      7.671  35.674  11411022.0            318.1  1187.0   \n",
       "\n",
       "          region  \n",
       "Year              \n",
       "1964  South Asia  \n",
       "1965  South Asia  \n",
       "1966  South Asia  \n",
       "1967  South Asia  \n",
       "1968  South Asia  "
      ]
     },
     "execution_count": 39,
     "metadata": {},
     "output_type": "execute_result"
    }
   ],
   "source": [
    "data = pd.read_csv(\"../python_basics/data/gapminder_tidy.csv\",index_col=[1])\n",
    "data.head()"
   ]
  },
  {
   "cell_type": "code",
   "execution_count": 40,
   "metadata": {},
   "outputs": [],
   "source": [
    "# Perform necessary imports\n",
    "from bokeh.io import output_file, show\n",
    "from bokeh.plotting import figure\n",
    "from bokeh.models import HoverTool, ColumnDataSource\n",
    "from bokeh.io import curdoc\n",
    "from bokeh.models import CategoricalColorMapper\n",
    "from bokeh.palettes import Spectral6\n",
    "from bokeh.layouts import row, widgetbox\n",
    "from bokeh.models import Slider\n",
    "\n",
    "# Make the ColumnDataSource: source\n",
    "source = ColumnDataSource(data={\n",
    "    'x'       : data.loc[1970].fertility,\n",
    "    'y'       : data.loc[1970].life,\n",
    "    'country' : data.loc[1970].Country,\n",
    "})\n",
    "\n",
    "# Create the figure: p\n",
    "p = figure(title='1970', x_axis_label='Fertility (children per woman)', y_axis_label='Life Expectancy (years)',\n",
    "           plot_height=400, plot_width=700,\n",
    "           tools=[HoverTool(tooltips='@country')])\n",
    "\n",
    "# Add a circle glyph to the figure p\n",
    "p.circle(x='x', y='y', source=source)\n",
    "\n",
    "# Output the file and show the figure\n",
    "#output_file('gapminder.html')\n",
    "show(p)"
   ]
  },
  {
   "cell_type": "code",
   "execution_count": null,
   "metadata": {},
   "outputs": [],
   "source": [
    "# Make the ColumnDataSource: source\n",
    "source = ColumnDataSource(data={\n",
    "    'x'       : data.loc[1970].fertility,\n",
    "    'y'       : data.loc[1970].life,\n",
    "    \"country\"      : data.loc[1970].Country,\n",
    "    \"pop\"      : (data.loc[1970].population / 20000000) + 2,\n",
    "    \"region\"      : data.loc[1970].region,\n",
    "})\n",
    "\n",
    "# Save the minimum and maximum values of the fertility column: xmin, xmax\n",
    "xmin, xmax = min(data.fertility), max(data.fertility)\n",
    "\n",
    "# Save the minimum and maximum values of the life expectancy column: ymin, ymax\n",
    "ymin, ymax = min(data.life), max(data.life)\n",
    "\n",
    "# Create the figure: plot\n",
    "plot = figure(title='Gapminder Data for 1970', plot_height=400, plot_width=700,\n",
    "              x_range=(xmin, xmax), y_range=(ymin, ymax))\n",
    "\n",
    "# Add circle glyphs to the plot\n",
    "plot.circle(x=\"x\", y=\"y\", fill_alpha=0.8, source=source)\n",
    "\n",
    "# Set the x-axis label\n",
    "plot.xaxis.axis_label ='Fertility (children per woman)'\n",
    "\n",
    "# Set the y-axis label\n",
    "plot.yaxis.axis_label = 'Life Expectancy (years)'\n",
    "\n",
    "# Add the plot to the current document and add a title\n",
    "curdoc().add_root(plot)\n",
    "curdoc().title = 'Gapminder'\n",
    "\n"
   ]
  },
  {
   "cell_type": "code",
   "execution_count": null,
   "metadata": {},
   "outputs": [],
   "source": [
    "# Make a list of the unique values from the region column: regions_list\n",
    "regions_list = data.region.unique().tolist()\n",
    "\n",
    "# Make a color mapper: color_mapper\n",
    "color_mapper = CategoricalColorMapper(factors=regions_list, palette=Spectral6)\n",
    "\n",
    "# Add the color mapper to the circle glyph\n",
    "plot.circle(x='x', y='y', fill_alpha=0.8, source=source,\n",
    "            color=dict(field=\"region\", transform=color_mapper), legend=\"region\")\n",
    "\n",
    "# Set the legend.location attribute of the plot to 'top_right'\n",
    "plot.legend.location = 'top_right'\n",
    "\n",
    "# Add the plot to the current document and add the title\n",
    "curdoc().add_root(plot)\n",
    "curdoc().title = 'Gapminder'"
   ]
  },
  {
   "cell_type": "code",
   "execution_count": null,
   "metadata": {},
   "outputs": [],
   "source": [
    "# Define the callback function: update_plot\n",
    "def update_plot(attr, old, new):\n",
    "    # Set the yr name to slider.value and new_data to source.data\n",
    "    yr = slider.value\n",
    "    new_data = {\n",
    "        'x'       : data.loc[yr].fertility,\n",
    "        'y'       : data.loc[yr].life,\n",
    "        'country' : data.loc[yr].Country,\n",
    "        'pop'     : (data.loc[yr].population / 20000000) + 2,\n",
    "        'region'  : data.loc[yr].region,\n",
    "    }\n",
    "    source.data = new_data\n",
    "\n",
    "\n",
    "# Make a slider object: slider\n",
    "slider = Slider(start=1970,end=2010,step=1,value=1970,title = \"Year\")\n",
    "\n",
    "# Attach the callback to the 'value' property of slider\n",
    "slider.on_change(\"value\",update_plot)\n",
    "\n",
    "# Make a row layout of widgetbox(slider) and plot and add it to the current document\n",
    "layout = row(widgetbox(slider), plot)\n",
    "curdoc().add_root(layout)"
   ]
  },
  {
   "cell_type": "code",
   "execution_count": null,
   "metadata": {},
   "outputs": [],
   "source": [
    "# re-define the callback function so that the title chanages with the slider\n",
    "# Define the callback function: update_plot\n",
    "def update_plot(attr, old, new):\n",
    "    # Assign the value of the slider: yr\n",
    "    yr = slider.value\n",
    "    # Set new_data\n",
    "    new_data = {\n",
    "        'x'       : data.loc[yr].fertility,\n",
    "        'y'       : data.loc[yr].life,\n",
    "        'country' : data.loc[yr].Country,\n",
    "        'pop'     : (data.loc[yr].population / 20000000) + 2,\n",
    "        'region'  : data.loc[yr].region,\n",
    "    }\n",
    "    # Assign new_data to: source.data\n",
    "    source.data = new_data\n",
    "\n",
    "    # Add title to figure: plot.title.text\n",
    "    plot.title.text = 'Gapminder data for %d' % yr\n",
    "\n",
    "# Make a slider object: slider\n",
    "slider = Slider(start=1970,end=2010,step=1,value=1970,title=\"Year\")\n",
    "\n",
    "# Attach the callback to the 'value' property of slider\n",
    "slider.on_change(\"value\", update_plot)\n",
    "\n",
    "# Make a row layout of widgetbox(slider) and plot and add it to the current document\n",
    "layout = row(widgetbox(slider), plot)\n",
    "curdoc().add_root(layout)"
   ]
  },
  {
   "cell_type": "code",
   "execution_count": null,
   "metadata": {},
   "outputs": [],
   "source": [
    "# Import HoverTool from bokeh.models\n",
    "from bokeh.models import HoverTool\n",
    "\n",
    "# Create a HoverTool: hover\n",
    "hover = HoverTool(tooltips=[(\"Country\",\"@country\")])\n",
    "\n",
    "# Add the HoverTool to the plot\n",
    "plot.add_tools(hover)\n",
    "# Create layout: layout\n",
    "layout = row(widgetbox(slider),plot)\n",
    "\n",
    "# Add layout to current document\n",
    "curdoc().add_root(layout)"
   ]
  },
  {
   "cell_type": "code",
   "execution_count": null,
   "metadata": {},
   "outputs": [],
   "source": [
    "#adding dropdown menu\n",
    "# modified slider to accomodate\n",
    "# add a select widge for dropdown\n",
    "# Define the callback: update_plot\n",
    "def update_plot(attr, old, new):\n",
    "    # Read the current value off the slider and 2 dropdowns: yr, x, y\n",
    "    yr = slider.value\n",
    "    x = x_select.value\n",
    "    y = y_select.value\n",
    "    # Label axes of plot\n",
    "    plot.xaxis.axis_label = x\n",
    "    plot.yaxis.axis_label = y\n",
    "    # Set new_data\n",
    "    new_data = {\n",
    "        'x'       : data.loc[yr][x],\n",
    "        'y'       : data.loc[yr][y],\n",
    "        'country' : data.loc[yr].Country,\n",
    "        'pop'     : (data.loc[yr].population / 20000000) + 2,\n",
    "        'region'  : data.loc[yr].region,\n",
    "    }\n",
    "    # Assign new_data to source.data\n",
    "    source.data = new_data\n",
    "\n",
    "    # Set the range of all axes\n",
    "    plot.x_range.start = min(data[x])\n",
    "    plot.x_range.end = max(data[x])\n",
    "    plot.y_range.start = min(data[y])\n",
    "    plot.y_range.end = max(data[y])\n",
    "\n",
    "    # Add title to plot\n",
    "    plot.title.text = 'Gapminder data for %d' % yr\n",
    "\n",
    "# Create a dropdown slider widget: slider\n",
    "slider = Slider(start=1970, end=2010, step=1, value=1970, title='Year')\n",
    "\n",
    "# Attach the callback to the 'value' property of slider\n",
    "slider.on_change('value', update_plot)\n",
    "\n",
    "# Create a dropdown Select widget for the x data: x_select\n",
    "x_select = Select(\n",
    "    options=['fertility', 'life', 'child_mortality', 'gdp'],\n",
    "    value='fertility',\n",
    "    title='x-axis data'\n",
    ")\n",
    "\n",
    "# Attach the update_plot callback to the 'value' property of x_select\n",
    "x_select.on_change('value', update_plot)\n",
    "\n",
    "# Create a dropdown Select widget for the y data: y_select\n",
    "y_select = Select(\n",
    "    options=['fertility', 'life', 'child_mortality', 'gdp'],\n",
    "    value='life',\n",
    "    title='y-axis data'\n",
    ")\n",
    "\n",
    "# Attach the update_plot callback to the 'value' property of y_select\n",
    "y_select.on_change(\"value\",update_plot)\n",
    "\n",
    "# Create layout and add to current document\n",
    "layout = row(widgetbox(slider, x_select, y_select), plot)\n",
    "curdoc().add_root(layout)"
   ]
  }
 ],
 "metadata": {
  "kernelspec": {
   "display_name": "Python 3",
   "language": "python",
   "name": "python3"
  },
  "language_info": {
   "codemirror_mode": {
    "name": "ipython",
    "version": 3
   },
   "file_extension": ".py",
   "mimetype": "text/x-python",
   "name": "python",
   "nbconvert_exporter": "python",
   "pygments_lexer": "ipython3",
   "version": "3.7.4"
  }
 },
 "nbformat": 4,
 "nbformat_minor": 4
}
