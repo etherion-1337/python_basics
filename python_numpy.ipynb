{
 "cells": [
  {
   "cell_type": "markdown",
   "metadata": {},
   "source": [
    "# Python Library - NumPy"
   ]
  },
  {
   "cell_type": "markdown",
   "metadata": {},
   "source": [
    "Import NumPy in Python"
   ]
  },
  {
   "cell_type": "code",
   "execution_count": 1,
   "metadata": {},
   "outputs": [],
   "source": [
    "import numpy as np\n",
    "#or use from numpy import array for example, so no need use np.array(), just use array(), not recommended\n",
    "import pandas as pd"
   ]
  },
  {
   "cell_type": "markdown",
   "metadata": {},
   "source": [
    "## 1. array properties\n",
    "Array can only contain a single type, i.e. all entries are int, or all are floats, or all are booleans."
   ]
  },
  {
   "cell_type": "code",
   "execution_count": 2,
   "metadata": {},
   "outputs": [
    {
     "name": "stdout",
     "output_type": "stream",
     "text": [
      "['1.0' 'is' 'True']\n"
     ]
    }
   ],
   "source": [
    "a = np.array([1.0, \"is\", True])\n",
    "print(a)\n",
    "#in this case everything converts into string"
   ]
  },
  {
   "cell_type": "markdown",
   "metadata": {},
   "source": [
    "## 2. array creation from scratch"
   ]
  },
  {
   "cell_type": "code",
   "execution_count": 3,
   "metadata": {},
   "outputs": [
    {
     "name": "stdout",
     "output_type": "stream",
     "text": [
      "[1 2 3]\n",
      "<class 'numpy.ndarray'>\n"
     ]
    }
   ],
   "source": [
    "a=np.array([1,2,3])\n",
    "print(a)\n",
    "print(type(a))"
   ]
  },
  {
   "cell_type": "markdown",
   "metadata": {},
   "source": [
    "## 3. convert list into array"
   ]
  },
  {
   "cell_type": "code",
   "execution_count": 4,
   "metadata": {},
   "outputs": [
    {
     "name": "stdout",
     "output_type": "stream",
     "text": [
      "[65.4 59.2 63.6 88.4 68.7]\n",
      "[1.73 1.68 1.71 1.89 1.79]\n",
      "<class 'numpy.ndarray'>\n",
      "<class 'numpy.ndarray'>\n"
     ]
    }
   ],
   "source": [
    "height = [1.73, 1.68, 1.71, 1.89, 1.79]\n",
    "weight = [65.4, 59.2, 63.6, 88.4, 68.7]\n",
    "np_weight = np.array(weight)\n",
    "np_height = np.array(height)\n",
    "print(np_weight)\n",
    "print(np_height)\n",
    "print(type(np_weight))\n",
    "print(type(np_height))"
   ]
  },
  {
   "cell_type": "markdown",
   "metadata": {},
   "source": [
    "## 4. element-wise computation in the whole array\n",
    "note that adding two array will do element-wise addition, NOT stiching two array together (like list)."
   ]
  },
  {
   "cell_type": "code",
   "execution_count": 5,
   "metadata": {},
   "outputs": [
    {
     "name": "stdout",
     "output_type": "stream",
     "text": [
      "[21.85171573 20.97505669 21.75028214 24.7473475  21.44127836]\n"
     ]
    }
   ],
   "source": [
    "bmi = np_weight/np_height ** 2\n",
    "print(bmi)"
   ]
  },
  {
   "cell_type": "markdown",
   "metadata": {},
   "source": [
    "## 5. subsetting/slicing array"
   ]
  },
  {
   "cell_type": "code",
   "execution_count": 6,
   "metadata": {},
   "outputs": [
    {
     "data": {
      "text/plain": [
       "20.97505668934241"
      ]
     },
     "execution_count": 6,
     "metadata": {},
     "output_type": "execute_result"
    }
   ],
   "source": [
    "bmi[1]"
   ]
  },
  {
   "cell_type": "markdown",
   "metadata": {},
   "source": [
    "## 6. subsetting/slicing with booleans"
   ]
  },
  {
   "cell_type": "code",
   "execution_count": 7,
   "metadata": {},
   "outputs": [
    {
     "data": {
      "text/plain": [
       "array([False, False, False,  True, False])"
      ]
     },
     "execution_count": 7,
     "metadata": {},
     "output_type": "execute_result"
    }
   ],
   "source": [
    "bmi > 23 #creating an array of 23, then compare element wise, fill in the boolean"
   ]
  },
  {
   "cell_type": "code",
   "execution_count": 8,
   "metadata": {},
   "outputs": [
    {
     "data": {
      "text/plain": [
       "array([24.7473475])"
      ]
     },
     "execution_count": 8,
     "metadata": {},
     "output_type": "execute_result"
    }
   ],
   "source": [
    "bmi[bmi > 23]"
   ]
  },
  {
   "cell_type": "code",
   "execution_count": 9,
   "metadata": {},
   "outputs": [
    {
     "data": {
      "text/plain": [
       "array([ True, False,  True, False,  True])"
      ]
     },
     "execution_count": 9,
     "metadata": {},
     "output_type": "execute_result"
    }
   ],
   "source": [
    "np.logical_and(bmi>21,bmi<22) #logical_or(),logical_not() for array equivalent, they do element-wise boolean compare"
   ]
  },
  {
   "cell_type": "code",
   "execution_count": 10,
   "metadata": {},
   "outputs": [
    {
     "data": {
      "text/plain": [
       "array([21.85171573, 21.75028214, 21.44127836])"
      ]
     },
     "execution_count": 10,
     "metadata": {},
     "output_type": "execute_result"
    }
   ],
   "source": [
    "bmi[np.logical_and(bmi>21,bmi<22)]"
   ]
  },
  {
   "cell_type": "markdown",
   "metadata": {},
   "source": [
    "## 7. 2D array\n",
    "2D array can be created from a list of list"
   ]
  },
  {
   "cell_type": "code",
   "execution_count": 11,
   "metadata": {},
   "outputs": [
    {
     "name": "stdout",
     "output_type": "stream",
     "text": [
      "[[ 1.73  1.68  1.71  1.89  1.79]\n",
      " [65.4  59.2  63.6  88.4  68.7 ]]\n"
     ]
    },
    {
     "data": {
      "text/plain": [
       "(2, 5)"
      ]
     },
     "execution_count": 11,
     "metadata": {},
     "output_type": "execute_result"
    }
   ],
   "source": [
    "np_2d = np.array([[1.73, 1.68, 1.71, 1.89, 1.79],[65.4, 59.2, 63.6, 88.4, 68.7]])\n",
    "print(np_2d)\n",
    "np_2d.shape #(row,col)"
   ]
  },
  {
   "cell_type": "markdown",
   "metadata": {},
   "source": [
    "subsetting a row in 2D array"
   ]
  },
  {
   "cell_type": "code",
   "execution_count": 12,
   "metadata": {},
   "outputs": [
    {
     "data": {
      "text/plain": [
       "array([1.73, 1.68, 1.71, 1.89, 1.79])"
      ]
     },
     "execution_count": 12,
     "metadata": {},
     "output_type": "execute_result"
    }
   ],
   "source": [
    "np_2d[0]"
   ]
  },
  {
   "cell_type": "markdown",
   "metadata": {},
   "source": [
    "subsetting a particular element(s)"
   ]
  },
  {
   "cell_type": "code",
   "execution_count": 13,
   "metadata": {},
   "outputs": [
    {
     "data": {
      "text/plain": [
       "1.71"
      ]
     },
     "execution_count": 13,
     "metadata": {},
     "output_type": "execute_result"
    }
   ],
   "source": [
    "np_2d[0][2]"
   ]
  },
  {
   "cell_type": "code",
   "execution_count": 14,
   "metadata": {},
   "outputs": [
    {
     "data": {
      "text/plain": [
       "1.71"
      ]
     },
     "execution_count": 14,
     "metadata": {},
     "output_type": "execute_result"
    }
   ],
   "source": [
    "np_2d[0,2] #alternatively, you can do this, think of it as intersection of row indice and col indice"
   ]
  },
  {
   "cell_type": "code",
   "execution_count": 15,
   "metadata": {},
   "outputs": [
    {
     "data": {
      "text/plain": [
       "array([[ 1.68,  1.71],\n",
       "       [59.2 , 63.6 ]])"
      ]
     },
     "execution_count": 15,
     "metadata": {},
     "output_type": "execute_result"
    }
   ],
   "source": [
    "np_2d[:,1:3] #select all row first, then get col 1 -> 3"
   ]
  },
  {
   "cell_type": "markdown",
   "metadata": {},
   "source": [
    "## 8. generating data"
   ]
  },
  {
   "cell_type": "code",
   "execution_count": 16,
   "metadata": {},
   "outputs": [],
   "source": [
    "height = np.round(np.random.normal(1.75, 0.20, 5000),2) #normal dist, distribution mean,stdev,samples\n",
    "weight = np.round(np.random.normal(60.32, 15, 5000),2)\n",
    "np_city = np.column_stack((height,weight)) #paste the col together"
   ]
  },
  {
   "cell_type": "markdown",
   "metadata": {},
   "source": [
    "## 9. simple stats (mean,median,corr,stdev)"
   ]
  },
  {
   "cell_type": "code",
   "execution_count": 17,
   "metadata": {},
   "outputs": [
    {
     "name": "stdout",
     "output_type": "stream",
     "text": [
      "1.7471879999999997\n",
      "1.74\n",
      "[[1.         0.00709868]\n",
      " [0.00709868 1.        ]]\n",
      "0.20121315229378023\n"
     ]
    }
   ],
   "source": [
    "print(np.mean(np_city[:,0])) #height mean\n",
    "print(np.median(np_city[:,0])) #height median\n",
    "print(np.corrcoef(np_city[:,0],np_city[:,1])) #correlation between height and weight\n",
    "print(np.std(np_city[:,0]))"
   ]
  },
  {
   "cell_type": "markdown",
   "metadata": {},
   "source": [
    "## 10. for loop"
   ]
  },
  {
   "cell_type": "code",
   "execution_count": 18,
   "metadata": {},
   "outputs": [
    {
     "name": "stdout",
     "output_type": "stream",
     "text": [
      "[21.85171573 20.97505669 21.75028214 24.7473475  21.44127836]\n",
      "21.85171572722109\n",
      "20.97505668934241\n",
      "21.750282138093777\n",
      "24.74734749867025\n",
      "21.44127836209856\n"
     ]
    }
   ],
   "source": [
    "print(bmi)\n",
    "for val in bmi:\n",
    "    print(val)"
   ]
  },
  {
   "cell_type": "code",
   "execution_count": 19,
   "metadata": {},
   "outputs": [
    {
     "name": "stdout",
     "output_type": "stream",
     "text": [
      "[1.73 1.68 1.71 1.89 1.79]\n",
      "[65.4 59.2 63.6 88.4 68.7]\n",
      "1.73\n",
      "1.68\n",
      "1.71\n",
      "1.89\n",
      "1.79\n",
      "65.4\n",
      "59.2\n",
      "63.6\n",
      "88.4\n",
      "68.7\n"
     ]
    }
   ],
   "source": [
    "np_h=np.array([1.73,1.68,1.71,1.89,1.79])\n",
    "np_w=np.array([65.4,59.2,63.6,88.4,68.7])\n",
    "meas=np.array([np_h,np_w]) #2D array\n",
    "\n",
    "for val in meas:\n",
    "    print(val)\n",
    "    \n",
    "for val in np.nditer(meas): #first height(1st row), then weight(2nd row), use nditer function !\n",
    "    print(val)"
   ]
  },
  {
   "cell_type": "markdown",
   "metadata": {},
   "source": [
    "## 11. Import file"
   ]
  },
  {
   "cell_type": "markdown",
   "metadata": {},
   "source": [
    "### 11.1 *loadtxt()*\n",
    "\n",
    "tend to breakdown when we have mixed data type. Although numpy can handle it, but it is most natural to handle them in dataframe."
   ]
  },
  {
   "cell_type": "code",
   "execution_count": 23,
   "metadata": {},
   "outputs": [
    {
     "data": {
      "text/plain": [
       "array([[1., 0., 0., ..., 0., 0., 0.],\n",
       "       [0., 0., 0., ..., 0., 0., 0.],\n",
       "       [1., 0., 0., ..., 0., 0., 0.],\n",
       "       ...,\n",
       "       [2., 0., 0., ..., 0., 0., 0.],\n",
       "       [0., 0., 0., ..., 0., 0., 0.],\n",
       "       [5., 0., 0., ..., 0., 0., 0.]])"
      ]
     },
     "execution_count": 23,
     "metadata": {},
     "output_type": "execute_result"
    }
   ],
   "source": [
    "filename = \"/Users/XavierTang/Documents/Data Science/Python/data/mnist_kaggle_some_rows.csv\"\n",
    "data = np.loadtxt(filename, delimiter = \",\")\n",
    "data"
   ]
  },
  {
   "cell_type": "markdown",
   "metadata": {},
   "source": [
    "### 11.1.1 skip certain rows (e.g. first row for header)"
   ]
  },
  {
   "cell_type": "code",
   "execution_count": 21,
   "metadata": {},
   "outputs": [
    {
     "data": {
      "text/plain": [
       "array([[0., 0., 0., ..., 0., 0., 0.],\n",
       "       [1., 0., 0., ..., 0., 0., 0.],\n",
       "       [4., 0., 0., ..., 0., 0., 0.],\n",
       "       ...,\n",
       "       [2., 0., 0., ..., 0., 0., 0.],\n",
       "       [0., 0., 0., ..., 0., 0., 0.],\n",
       "       [5., 0., 0., ..., 0., 0., 0.]])"
      ]
     },
     "execution_count": 21,
     "metadata": {},
     "output_type": "execute_result"
    }
   ],
   "source": [
    "filename = \"/Users/XavierTang/Documents/Data Science/Python/data/mnist_kaggle_some_rows.csv\"\n",
    "data = np.loadtxt(filename, delimiter = \",\", skiprows=1) #skip the first row for header\n",
    "data"
   ]
  },
  {
   "cell_type": "markdown",
   "metadata": {},
   "source": [
    "### 11.1.2 use only certain column"
   ]
  },
  {
   "cell_type": "code",
   "execution_count": 24,
   "metadata": {},
   "outputs": [
    {
     "data": {
      "text/plain": [
       "array([[1., 0.],\n",
       "       [0., 0.],\n",
       "       [1., 0.],\n",
       "       [4., 0.],\n",
       "       [0., 0.],\n",
       "       [0., 0.],\n",
       "       [7., 0.],\n",
       "       [3., 0.],\n",
       "       [5., 0.],\n",
       "       [3., 0.],\n",
       "       [8., 0.],\n",
       "       [9., 0.],\n",
       "       [1., 0.],\n",
       "       [3., 0.],\n",
       "       [3., 0.],\n",
       "       [1., 0.],\n",
       "       [2., 0.],\n",
       "       [0., 0.],\n",
       "       [7., 0.],\n",
       "       [5., 0.],\n",
       "       [8., 0.],\n",
       "       [6., 0.],\n",
       "       [2., 0.],\n",
       "       [0., 0.],\n",
       "       [2., 0.],\n",
       "       [3., 0.],\n",
       "       [6., 0.],\n",
       "       [9., 0.],\n",
       "       [9., 0.],\n",
       "       [7., 0.],\n",
       "       [8., 0.],\n",
       "       [9., 0.],\n",
       "       [4., 0.],\n",
       "       [9., 0.],\n",
       "       [2., 0.],\n",
       "       [1., 0.],\n",
       "       [3., 0.],\n",
       "       [1., 0.],\n",
       "       [1., 0.],\n",
       "       [4., 0.],\n",
       "       [9., 0.],\n",
       "       [1., 0.],\n",
       "       [4., 0.],\n",
       "       [4., 0.],\n",
       "       [2., 0.],\n",
       "       [6., 0.],\n",
       "       [3., 0.],\n",
       "       [7., 0.],\n",
       "       [7., 0.],\n",
       "       [4., 0.],\n",
       "       [7., 0.],\n",
       "       [5., 0.],\n",
       "       [1., 0.],\n",
       "       [9., 0.],\n",
       "       [0., 0.],\n",
       "       [2., 0.],\n",
       "       [2., 0.],\n",
       "       [3., 0.],\n",
       "       [9., 0.],\n",
       "       [1., 0.],\n",
       "       [1., 0.],\n",
       "       [1., 0.],\n",
       "       [5., 0.],\n",
       "       [0., 0.],\n",
       "       [6., 0.],\n",
       "       [3., 0.],\n",
       "       [4., 0.],\n",
       "       [8., 0.],\n",
       "       [1., 0.],\n",
       "       [0., 0.],\n",
       "       [3., 0.],\n",
       "       [9., 0.],\n",
       "       [6., 0.],\n",
       "       [2., 0.],\n",
       "       [6., 0.],\n",
       "       [4., 0.],\n",
       "       [7., 0.],\n",
       "       [1., 0.],\n",
       "       [4., 0.],\n",
       "       [1., 0.],\n",
       "       [5., 0.],\n",
       "       [4., 0.],\n",
       "       [8., 0.],\n",
       "       [9., 0.],\n",
       "       [2., 0.],\n",
       "       [9., 0.],\n",
       "       [9., 0.],\n",
       "       [8., 0.],\n",
       "       [9., 0.],\n",
       "       [6., 0.],\n",
       "       [3., 0.],\n",
       "       [6., 0.],\n",
       "       [4., 0.],\n",
       "       [6., 0.],\n",
       "       [2., 0.],\n",
       "       [9., 0.],\n",
       "       [1., 0.],\n",
       "       [2., 0.],\n",
       "       [0., 0.],\n",
       "       [5., 0.]])"
      ]
     },
     "execution_count": 24,
     "metadata": {},
     "output_type": "execute_result"
    }
   ],
   "source": [
    "filename = \"/Users/XavierTang/Documents/Data Science/Python/data/mnist_kaggle_some_rows.csv\"\n",
    "data = np.loadtxt(filename, delimiter = \",\", usecols=[0,2]) #only use 1st AND 3rd columns\n",
    "data"
   ]
  },
  {
   "cell_type": "markdown",
   "metadata": {},
   "source": [
    "### 11.1.3 import only certain data type\n",
    "\n",
    "in this file (seaslug.txt), first row is header (string), if directly use *loadtxt()*, it will give ValueError as it cannot convert string to float. Two ways around it:   \n",
    "1) set data type argument to str (dtype = str)   \n",
    "2) skip the first row"
   ]
  },
  {
   "cell_type": "code",
   "execution_count": 30,
   "metadata": {},
   "outputs": [
    {
     "name": "stdout",
     "output_type": "stream",
     "text": [
      "[['Time' 'Percent']\n",
      " ['99' '0.067']\n",
      " ['99' '0.133']\n",
      " ['99' '0.067']\n",
      " ['99' '0']\n",
      " ['99' '0']\n",
      " ['0' '0.5']\n",
      " ['0' '0.467']\n",
      " ['0' '0.857']\n",
      " ['0' '0.5']\n",
      " ['0' '0.357']\n",
      " ['0' '0.533']\n",
      " ['5' '0.467']\n",
      " ['5' '0.467']\n",
      " ['5' '0.125']\n",
      " ['5' '0.4']\n",
      " ['5' '0.214']\n",
      " ['5' '0.4']\n",
      " ['10' '0.067']\n",
      " ['10' '0.067']\n",
      " ['10' '0.333']\n",
      " ['10' '0.333']\n",
      " ['10' '0.133']\n",
      " ['10' '0.133']\n",
      " ['15' '0.267']\n",
      " ['15' '0.286']\n",
      " ['15' '0.333']\n",
      " ['15' '0.214']\n",
      " ['15' '0']\n",
      " ['15' '0']\n",
      " ['20' '0.267']\n",
      " ['20' '0.2']\n",
      " ['20' '0.267']\n",
      " ['20' '0.437']\n",
      " ['20' '0.077']\n",
      " ['20' '0.067']\n",
      " ['25' '0.133']\n",
      " ['25' '0.267']\n",
      " ['25' '0.412']\n",
      " ['25' '0']\n",
      " ['25' '0.067']\n",
      " ['25' '0.133']\n",
      " ['30' '0']\n",
      " ['30' '0.071']\n",
      " ['30' '0']\n",
      " ['30' '0.067']\n",
      " ['30' '0.067']\n",
      " ['30' '0.133']]\n",
      "[[9.90e+01 6.70e-02]\n",
      " [9.90e+01 1.33e-01]\n",
      " [9.90e+01 6.70e-02]\n",
      " [9.90e+01 0.00e+00]\n",
      " [9.90e+01 0.00e+00]\n",
      " [0.00e+00 5.00e-01]\n",
      " [0.00e+00 4.67e-01]\n",
      " [0.00e+00 8.57e-01]\n",
      " [0.00e+00 5.00e-01]\n",
      " [0.00e+00 3.57e-01]\n",
      " [0.00e+00 5.33e-01]\n",
      " [5.00e+00 4.67e-01]\n",
      " [5.00e+00 4.67e-01]\n",
      " [5.00e+00 1.25e-01]\n",
      " [5.00e+00 4.00e-01]\n",
      " [5.00e+00 2.14e-01]\n",
      " [5.00e+00 4.00e-01]\n",
      " [1.00e+01 6.70e-02]\n",
      " [1.00e+01 6.70e-02]\n",
      " [1.00e+01 3.33e-01]\n",
      " [1.00e+01 3.33e-01]\n",
      " [1.00e+01 1.33e-01]\n",
      " [1.00e+01 1.33e-01]\n",
      " [1.50e+01 2.67e-01]\n",
      " [1.50e+01 2.86e-01]\n",
      " [1.50e+01 3.33e-01]\n",
      " [1.50e+01 2.14e-01]\n",
      " [1.50e+01 0.00e+00]\n",
      " [1.50e+01 0.00e+00]\n",
      " [2.00e+01 2.67e-01]\n",
      " [2.00e+01 2.00e-01]\n",
      " [2.00e+01 2.67e-01]\n",
      " [2.00e+01 4.37e-01]\n",
      " [2.00e+01 7.70e-02]\n",
      " [2.00e+01 6.70e-02]\n",
      " [2.50e+01 1.33e-01]\n",
      " [2.50e+01 2.67e-01]\n",
      " [2.50e+01 4.12e-01]\n",
      " [2.50e+01 0.00e+00]\n",
      " [2.50e+01 6.70e-02]\n",
      " [2.50e+01 1.33e-01]\n",
      " [3.00e+01 0.00e+00]\n",
      " [3.00e+01 7.10e-02]\n",
      " [3.00e+01 0.00e+00]\n",
      " [3.00e+01 6.70e-02]\n",
      " [3.00e+01 6.70e-02]\n",
      " [3.00e+01 1.33e-01]]\n"
     ]
    }
   ],
   "source": [
    "filename=\"/Users/XavierTang/Documents/Data Science/Python/data/seaslug.txt\"\n",
    "data = np.loadtxt(filename, delimiter = \"\\t\", dtype=str)\n",
    "print(data)\n",
    "\n",
    "data_float = np.loadtxt(filename, delimiter=\"\\t\", dtype=float, skiprows=1)\n",
    "print(data_float)"
   ]
  },
  {
   "cell_type": "markdown",
   "metadata": {},
   "source": [
    "### 11.2 genfromtxt()\n",
    "\n",
    "one column of data may contain strings and another floats, use *genfromtxt()* in this case."
   ]
  },
  {
   "cell_type": "code",
   "execution_count": 32,
   "metadata": {},
   "outputs": [
    {
     "name": "stderr",
     "output_type": "stream",
     "text": [
      "/Users/XavierTang/anaconda3/lib/python3.7/site-packages/ipykernel_launcher.py:2: VisibleDeprecationWarning: Reading unicode strings without specifying the encoding argument is deprecated. Set the encoding, use None for the system default.\n",
      "  \n"
     ]
    },
    {
     "data": {
      "text/plain": [
       "array([0, 1, 1, 1, 0, 0, 0, 0, 1, 1, 1, 1, 0, 0, 0, 1, 0, 1, 0, 1, 0, 1,\n",
       "       1, 1, 0, 1, 0, 0, 1, 0, 0, 1, 1, 0, 0, 0, 1, 0, 0, 1, 0, 0, 0, 1,\n",
       "       1, 0, 0, 1, 0, 0, 0, 0, 1, 1, 0, 1, 1, 0, 1, 0, 0, 1, 0, 0, 0, 1,\n",
       "       1, 0, 1, 0, 0, 0, 0, 0, 1, 0, 0, 0, 1, 1, 0, 1, 1, 0, 1, 1, 0, 0,\n",
       "       1, 0, 0, 0, 0, 0, 0, 0, 0, 1, 1, 0, 0, 0, 0, 0, 0, 0, 1, 1, 0, 1,\n",
       "       0, 0, 0, 0, 0, 0, 0, 0, 0, 0, 0, 0, 0, 1, 0, 1, 0, 1, 1, 0, 0, 0,\n",
       "       0, 1, 0, 0, 1, 0, 0, 0, 0, 1, 1, 0, 0, 0, 1, 0, 0, 0, 0, 1, 0, 0,\n",
       "       0, 0, 1, 0, 0, 0, 0, 1, 0, 0, 0, 1, 1, 0, 0, 0, 0, 0, 1, 0, 0, 0,\n",
       "       0, 0, 0, 0, 0, 0, 0, 1, 1, 0, 1, 1, 0, 0, 1, 0, 1, 1, 1, 1, 0, 0,\n",
       "       1, 0, 0, 0, 0, 0, 1, 0, 0, 1, 1, 1, 0, 1, 0, 0, 0, 1, 1, 0, 1, 0,\n",
       "       1, 0, 0, 0, 1, 0, 1, 0, 0, 0, 1, 0, 0, 1, 0, 0, 0, 1, 0, 0, 0, 1,\n",
       "       0, 0, 0, 0, 0, 1, 1, 0, 0, 0, 0, 0, 0, 1, 1, 1, 1, 1, 0, 1, 0, 0,\n",
       "       0, 0, 0, 1, 1, 1, 0, 1, 1, 0, 1, 1, 0, 0, 0, 1, 0, 0, 0, 1, 0, 0,\n",
       "       1, 0, 1, 1, 1, 1, 0, 0, 0, 0, 0, 0, 1, 1, 1, 1, 0, 1, 0, 1, 1, 1,\n",
       "       0, 1, 1, 1, 0, 0, 0, 1, 1, 0, 1, 1, 0, 0, 1, 1, 0, 1, 0, 1, 1, 1,\n",
       "       1, 0, 0, 0, 1, 0, 0, 1, 1, 0, 1, 1, 0, 0, 0, 1, 1, 1, 1, 0, 0, 0,\n",
       "       0, 0, 0, 0, 1, 0, 1, 1, 0, 0, 0, 0, 0, 0, 1, 1, 1, 1, 1, 0, 0, 0,\n",
       "       0, 1, 1, 0, 0, 0, 1, 1, 0, 1, 0, 0, 0, 1, 0, 1, 1, 1, 0, 1, 1, 0,\n",
       "       0, 0, 0, 1, 1, 0, 0, 0, 0, 0, 0, 1, 0, 0, 0, 0, 1, 0, 1, 0, 1, 1,\n",
       "       0, 0, 0, 0, 0, 0, 0, 0, 1, 1, 0, 1, 1, 1, 1, 0, 0, 1, 0, 1, 0, 0,\n",
       "       1, 0, 0, 1, 1, 1, 1, 1, 1, 1, 0, 0, 0, 1, 0, 1, 0, 1, 1, 0, 1, 0,\n",
       "       0, 0, 0, 0, 0, 0, 0, 1, 0, 0, 1, 1, 0, 0, 0, 0, 0, 1, 0, 0, 0, 1,\n",
       "       1, 0, 1, 0, 0, 1, 0, 0, 0, 0, 0, 0, 1, 0, 0, 0, 0, 0, 0, 0, 1, 0,\n",
       "       1, 1, 0, 1, 1, 0, 1, 1, 0, 0, 1, 0, 1, 0, 1, 0, 0, 1, 0, 0, 1, 0,\n",
       "       0, 0, 1, 0, 0, 1, 0, 1, 0, 1, 0, 1, 1, 0, 0, 1, 0, 0, 1, 1, 0, 1,\n",
       "       1, 0, 0, 1, 1, 0, 1, 0, 1, 1, 0, 0, 0, 0, 0, 0, 0, 0, 0, 1, 1, 1,\n",
       "       1, 1, 0, 0, 1, 1, 0, 1, 1, 1, 0, 0, 0, 1, 0, 1, 0, 0, 0, 1, 0, 0,\n",
       "       0, 0, 1, 0, 0, 1, 1, 0, 0, 0, 1, 0, 0, 1, 1, 1, 0, 0, 1, 0, 0, 1,\n",
       "       0, 0, 1, 0, 0, 1, 1, 0, 0, 0, 0, 1, 0, 0, 1, 0, 1, 0, 0, 1, 0, 0,\n",
       "       0, 0, 0, 1, 0, 1, 1, 1, 0, 1, 0, 1, 0, 1, 0, 1, 0, 0, 0, 0, 0, 0,\n",
       "       1, 0, 0, 0, 1, 0, 0, 0, 0, 1, 1, 0, 0, 1, 0, 0, 0, 1, 0, 1, 0, 1,\n",
       "       0, 0, 0, 0, 0, 0, 0, 1, 1, 1, 1, 0, 0, 0, 0, 1, 0, 0, 1, 1, 0, 0,\n",
       "       0, 0, 1, 1, 1, 1, 1, 0, 1, 0, 0, 0, 1, 1, 0, 0, 1, 0, 0, 0, 1, 0,\n",
       "       1, 1, 0, 0, 1, 0, 0, 0, 0, 0, 0, 1, 0, 0, 1, 0, 1, 0, 1, 0, 0, 1,\n",
       "       0, 0, 1, 1, 0, 0, 1, 1, 0, 0, 0, 1, 0, 0, 1, 1, 0, 1, 0, 0, 0, 0,\n",
       "       0, 0, 0, 0, 1, 0, 0, 1, 0, 1, 1, 1, 0, 0, 0, 0, 1, 0, 1, 0, 0, 0,\n",
       "       0, 0, 0, 0, 1, 1, 0, 0, 0, 1, 1, 1, 1, 0, 0, 0, 0, 1, 0, 0, 0, 0,\n",
       "       0, 0, 0, 0, 0, 0, 1, 1, 0, 1, 0, 0, 0, 1, 1, 1, 1, 1, 0, 0, 0, 1,\n",
       "       0, 0, 1, 1, 0, 0, 1, 0, 0, 0, 0, 0, 0, 1, 0, 0, 0, 1, 0, 1, 1, 1,\n",
       "       1, 0, 0, 0, 1, 0, 0, 1, 1, 0, 0, 1, 0, 1, 0, 0, 1, 1, 0, 0, 0, 1,\n",
       "       1, 0, 0, 0, 0, 0, 0, 1, 0, 1, 0])"
      ]
     },
     "execution_count": 32,
     "metadata": {},
     "output_type": "execute_result"
    }
   ],
   "source": [
    "file = \"/Users/XavierTang/Documents/Data Science/Python/data/titanic_sub.csv\"\n",
    "data = np.genfromtxt(file, delimiter=\",\", names=True, dtype=None) #names = True -> got header\n",
    "data[\"Survived\"]"
   ]
  },
  {
   "cell_type": "markdown",
   "metadata": {},
   "source": [
    "### 11.3 recfromcsv()\n",
    "\n",
    "similar to genfromtxt(), but default dtype=None, also included delimiter=\",\" and names=True"
   ]
  },
  {
   "cell_type": "code",
   "execution_count": 33,
   "metadata": {},
   "outputs": [
    {
     "name": "stderr",
     "output_type": "stream",
     "text": [
      "/Users/XavierTang/anaconda3/lib/python3.7/site-packages/numpy/lib/npyio.py:2322: VisibleDeprecationWarning: Reading unicode strings without specifying the encoding argument is deprecated. Set the encoding, use None for the system default.\n",
      "  output = genfromtxt(fname, **kwargs)\n"
     ]
    },
    {
     "data": {
      "text/plain": [
       "rec.array([(  1, 0, 3, b'male', 22.  , 1, 0, b'A/5 21171',   7.25  , b'', b'S'),\n",
       "           (  2, 1, 1, b'female', 38.  , 1, 0, b'PC 17599',  71.2833, b'C85', b'C'),\n",
       "           (  3, 1, 3, b'female', 26.  , 0, 0, b'STON/O2. 3101282',   7.925 , b'', b'S'),\n",
       "           (  4, 1, 1, b'female', 35.  , 1, 0, b'113803',  53.1   , b'C123', b'S'),\n",
       "           (  5, 0, 3, b'male', 35.  , 0, 0, b'373450',   8.05  , b'', b'S'),\n",
       "           (  6, 0, 3, b'male',   nan, 0, 0, b'330877',   8.4583, b'', b'Q'),\n",
       "           (  7, 0, 1, b'male', 54.  , 0, 0, b'17463',  51.8625, b'E46', b'S'),\n",
       "           (  8, 0, 3, b'male',  2.  , 3, 1, b'349909',  21.075 , b'', b'S'),\n",
       "           (  9, 1, 3, b'female', 27.  , 0, 2, b'347742',  11.1333, b'', b'S'),\n",
       "           ( 10, 1, 2, b'female', 14.  , 1, 0, b'237736',  30.0708, b'', b'C'),\n",
       "           ( 11, 1, 3, b'female',  4.  , 1, 1, b'PP 9549',  16.7   , b'G6', b'S'),\n",
       "           ( 12, 1, 1, b'female', 58.  , 0, 0, b'113783',  26.55  , b'C103', b'S'),\n",
       "           ( 13, 0, 3, b'male', 20.  , 0, 0, b'A/5. 2151',   8.05  , b'', b'S'),\n",
       "           ( 14, 0, 3, b'male', 39.  , 1, 5, b'347082',  31.275 , b'', b'S'),\n",
       "           ( 15, 0, 3, b'female', 14.  , 0, 0, b'350406',   7.8542, b'', b'S'),\n",
       "           ( 16, 1, 2, b'female', 55.  , 0, 0, b'248706',  16.    , b'', b'S'),\n",
       "           ( 17, 0, 3, b'male',  2.  , 4, 1, b'382652',  29.125 , b'', b'Q'),\n",
       "           ( 18, 1, 2, b'male',   nan, 0, 0, b'244373',  13.    , b'', b'S'),\n",
       "           ( 19, 0, 3, b'female', 31.  , 1, 0, b'345763',  18.    , b'', b'S'),\n",
       "           ( 20, 1, 3, b'female',   nan, 0, 0, b'2649',   7.225 , b'', b'C'),\n",
       "           ( 21, 0, 2, b'male', 35.  , 0, 0, b'239865',  26.    , b'', b'S'),\n",
       "           ( 22, 1, 2, b'male', 34.  , 0, 0, b'248698',  13.    , b'D56', b'S'),\n",
       "           ( 23, 1, 3, b'female', 15.  , 0, 0, b'330923',   8.0292, b'', b'Q'),\n",
       "           ( 24, 1, 1, b'male', 28.  , 0, 0, b'113788',  35.5   , b'A6', b'S'),\n",
       "           ( 25, 0, 3, b'female',  8.  , 3, 1, b'349909',  21.075 , b'', b'S'),\n",
       "           ( 26, 1, 3, b'female', 38.  , 1, 5, b'347077',  31.3875, b'', b'S'),\n",
       "           ( 27, 0, 3, b'male',   nan, 0, 0, b'2631',   7.225 , b'', b'C'),\n",
       "           ( 28, 0, 1, b'male', 19.  , 3, 2, b'19950', 263.    , b'C23 C25 C27', b'S'),\n",
       "           ( 29, 1, 3, b'female',   nan, 0, 0, b'330959',   7.8792, b'', b'Q'),\n",
       "           ( 30, 0, 3, b'male',   nan, 0, 0, b'349216',   7.8958, b'', b'S'),\n",
       "           ( 31, 0, 1, b'male', 40.  , 0, 0, b'PC 17601',  27.7208, b'', b'C'),\n",
       "           ( 32, 1, 1, b'female',   nan, 1, 0, b'PC 17569', 146.5208, b'B78', b'C'),\n",
       "           ( 33, 1, 3, b'female',   nan, 0, 0, b'335677',   7.75  , b'', b'Q'),\n",
       "           ( 34, 0, 2, b'male', 66.  , 0, 0, b'C.A. 24579',  10.5   , b'', b'S'),\n",
       "           ( 35, 0, 1, b'male', 28.  , 1, 0, b'PC 17604',  82.1708, b'', b'C'),\n",
       "           ( 36, 0, 1, b'male', 42.  , 1, 0, b'113789',  52.    , b'', b'S'),\n",
       "           ( 37, 1, 3, b'male',   nan, 0, 0, b'2677',   7.2292, b'', b'C'),\n",
       "           ( 38, 0, 3, b'male', 21.  , 0, 0, b'A./5. 2152',   8.05  , b'', b'S'),\n",
       "           ( 39, 0, 3, b'female', 18.  , 2, 0, b'345764',  18.    , b'', b'S'),\n",
       "           ( 40, 1, 3, b'female', 14.  , 1, 0, b'2651',  11.2417, b'', b'C'),\n",
       "           ( 41, 0, 3, b'female', 40.  , 1, 0, b'7546',   9.475 , b'', b'S'),\n",
       "           ( 42, 0, 2, b'female', 27.  , 1, 0, b'11668',  21.    , b'', b'S'),\n",
       "           ( 43, 0, 3, b'male',   nan, 0, 0, b'349253',   7.8958, b'', b'C'),\n",
       "           ( 44, 1, 2, b'female',  3.  , 1, 2, b'SC/Paris 2123',  41.5792, b'', b'C'),\n",
       "           ( 45, 1, 3, b'female', 19.  , 0, 0, b'330958',   7.8792, b'', b'Q'),\n",
       "           ( 46, 0, 3, b'male',   nan, 0, 0, b'S.C./A.4. 23567',   8.05  , b'', b'S'),\n",
       "           ( 47, 0, 3, b'male',   nan, 1, 0, b'370371',  15.5   , b'', b'Q'),\n",
       "           ( 48, 1, 3, b'female',   nan, 0, 0, b'14311',   7.75  , b'', b'Q'),\n",
       "           ( 49, 0, 3, b'male',   nan, 2, 0, b'2662',  21.6792, b'', b'C'),\n",
       "           ( 50, 0, 3, b'female', 18.  , 1, 0, b'349237',  17.8   , b'', b'S'),\n",
       "           ( 51, 0, 3, b'male',  7.  , 4, 1, b'3101295',  39.6875, b'', b'S'),\n",
       "           ( 52, 0, 3, b'male', 21.  , 0, 0, b'A/4. 39886',   7.8   , b'', b'S'),\n",
       "           ( 53, 1, 1, b'female', 49.  , 1, 0, b'PC 17572',  76.7292, b'D33', b'C'),\n",
       "           ( 54, 1, 2, b'female', 29.  , 1, 0, b'2926',  26.    , b'', b'S'),\n",
       "           ( 55, 0, 1, b'male', 65.  , 0, 1, b'113509',  61.9792, b'B30', b'C'),\n",
       "           ( 56, 1, 1, b'male',   nan, 0, 0, b'19947',  35.5   , b'C52', b'S'),\n",
       "           ( 57, 1, 2, b'female', 21.  , 0, 0, b'C.A. 31026',  10.5   , b'', b'S'),\n",
       "           ( 58, 0, 3, b'male', 28.5 , 0, 0, b'2697',   7.2292, b'', b'C'),\n",
       "           ( 59, 1, 2, b'female',  5.  , 1, 2, b'C.A. 34651',  27.75  , b'', b'S'),\n",
       "           ( 60, 0, 3, b'male', 11.  , 5, 2, b'CA 2144',  46.9   , b'', b'S'),\n",
       "           ( 61, 0, 3, b'male', 22.  , 0, 0, b'2669',   7.2292, b'', b'C'),\n",
       "           ( 62, 1, 1, b'female', 38.  , 0, 0, b'113572',  80.    , b'B28', b''),\n",
       "           ( 63, 0, 1, b'male', 45.  , 1, 0, b'36973',  83.475 , b'C83', b'S'),\n",
       "           ( 64, 0, 3, b'male',  4.  , 3, 2, b'347088',  27.9   , b'', b'S'),\n",
       "           ( 65, 0, 1, b'male',   nan, 0, 0, b'PC 17605',  27.7208, b'', b'C'),\n",
       "           ( 66, 1, 3, b'male',   nan, 1, 1, b'2661',  15.2458, b'', b'C'),\n",
       "           ( 67, 1, 2, b'female', 29.  , 0, 0, b'C.A. 29395',  10.5   , b'F33', b'S'),\n",
       "           ( 68, 0, 3, b'male', 19.  , 0, 0, b'S.P. 3464',   8.1583, b'', b'S'),\n",
       "           ( 69, 1, 3, b'female', 17.  , 4, 2, b'3101281',   7.925 , b'', b'S'),\n",
       "           ( 70, 0, 3, b'male', 26.  , 2, 0, b'315151',   8.6625, b'', b'S'),\n",
       "           ( 71, 0, 2, b'male', 32.  , 0, 0, b'C.A. 33111',  10.5   , b'', b'S'),\n",
       "           ( 72, 0, 3, b'female', 16.  , 5, 2, b'CA 2144',  46.9   , b'', b'S'),\n",
       "           ( 73, 0, 2, b'male', 21.  , 0, 0, b'S.O.C. 14879',  73.5   , b'', b'S'),\n",
       "           ( 74, 0, 3, b'male', 26.  , 1, 0, b'2680',  14.4542, b'', b'C'),\n",
       "           ( 75, 1, 3, b'male', 32.  , 0, 0, b'1601',  56.4958, b'', b'S'),\n",
       "           ( 76, 0, 3, b'male', 25.  , 0, 0, b'348123',   7.65  , b'F G73', b'S'),\n",
       "           ( 77, 0, 3, b'male',   nan, 0, 0, b'349208',   7.8958, b'', b'S'),\n",
       "           ( 78, 0, 3, b'male',   nan, 0, 0, b'374746',   8.05  , b'', b'S'),\n",
       "           ( 79, 1, 2, b'male',  0.83, 0, 2, b'248738',  29.    , b'', b'S'),\n",
       "           ( 80, 1, 3, b'female', 30.  , 0, 0, b'364516',  12.475 , b'', b'S'),\n",
       "           ( 81, 0, 3, b'male', 22.  , 0, 0, b'345767',   9.    , b'', b'S'),\n",
       "           ( 82, 1, 3, b'male', 29.  , 0, 0, b'345779',   9.5   , b'', b'S'),\n",
       "           ( 83, 1, 3, b'female',   nan, 0, 0, b'330932',   7.7875, b'', b'Q'),\n",
       "           ( 84, 0, 1, b'male', 28.  , 0, 0, b'113059',  47.1   , b'', b'S'),\n",
       "           ( 85, 1, 2, b'female', 17.  , 0, 0, b'SO/C 14885',  10.5   , b'', b'S'),\n",
       "           ( 86, 1, 3, b'female', 33.  , 3, 0, b'3101278',  15.85  , b'', b'S'),\n",
       "           ( 87, 0, 3, b'male', 16.  , 1, 3, b'W./C. 6608',  34.375 , b'', b'S'),\n",
       "           ( 88, 0, 3, b'male',   nan, 0, 0, b'SOTON/OQ 392086',   8.05  , b'', b'S'),\n",
       "           ( 89, 1, 1, b'female', 23.  , 3, 2, b'19950', 263.    , b'C23 C25 C27', b'S'),\n",
       "           ( 90, 0, 3, b'male', 24.  , 0, 0, b'343275',   8.05  , b'', b'S'),\n",
       "           ( 91, 0, 3, b'male', 29.  , 0, 0, b'343276',   8.05  , b'', b'S'),\n",
       "           ( 92, 0, 3, b'male', 20.  , 0, 0, b'347466',   7.8542, b'', b'S'),\n",
       "           ( 93, 0, 1, b'male', 46.  , 1, 0, b'W.E.P. 5734',  61.175 , b'E31', b'S'),\n",
       "           ( 94, 0, 3, b'male', 26.  , 1, 2, b'C.A. 2315',  20.575 , b'', b'S'),\n",
       "           ( 95, 0, 3, b'male', 59.  , 0, 0, b'364500',   7.25  , b'', b'S'),\n",
       "           ( 96, 0, 3, b'male',   nan, 0, 0, b'374910',   8.05  , b'', b'S'),\n",
       "           ( 97, 0, 1, b'male', 71.  , 0, 0, b'PC 17754',  34.6542, b'A5', b'C'),\n",
       "           ( 98, 1, 1, b'male', 23.  , 0, 1, b'PC 17759',  63.3583, b'D10 D12', b'C'),\n",
       "           ( 99, 1, 2, b'female', 34.  , 0, 1, b'231919',  23.    , b'', b'S'),\n",
       "           (100, 0, 2, b'male', 34.  , 1, 0, b'244367',  26.    , b'', b'S'),\n",
       "           (101, 0, 3, b'female', 28.  , 0, 0, b'349245',   7.8958, b'', b'S'),\n",
       "           (102, 0, 3, b'male',   nan, 0, 0, b'349215',   7.8958, b'', b'S'),\n",
       "           (103, 0, 1, b'male', 21.  , 0, 1, b'35281',  77.2875, b'D26', b'S'),\n",
       "           (104, 0, 3, b'male', 33.  , 0, 0, b'7540',   8.6542, b'', b'S'),\n",
       "           (105, 0, 3, b'male', 37.  , 2, 0, b'3101276',   7.925 , b'', b'S'),\n",
       "           (106, 0, 3, b'male', 28.  , 0, 0, b'349207',   7.8958, b'', b'S'),\n",
       "           (107, 1, 3, b'female', 21.  , 0, 0, b'343120',   7.65  , b'', b'S'),\n",
       "           (108, 1, 3, b'male',   nan, 0, 0, b'312991',   7.775 , b'', b'S'),\n",
       "           (109, 0, 3, b'male', 38.  , 0, 0, b'349249',   7.8958, b'', b'S'),\n",
       "           (110, 1, 3, b'female',   nan, 1, 0, b'371110',  24.15  , b'', b'Q'),\n",
       "           (111, 0, 1, b'male', 47.  , 0, 0, b'110465',  52.    , b'C110', b'S'),\n",
       "           (112, 0, 3, b'female', 14.5 , 1, 0, b'2665',  14.4542, b'', b'C'),\n",
       "           (113, 0, 3, b'male', 22.  , 0, 0, b'324669',   8.05  , b'', b'S'),\n",
       "           (114, 0, 3, b'female', 20.  , 1, 0, b'4136',   9.825 , b'', b'S'),\n",
       "           (115, 0, 3, b'female', 17.  , 0, 0, b'2627',  14.4583, b'', b'C'),\n",
       "           (116, 0, 3, b'male', 21.  , 0, 0, b'STON/O 2. 3101294',   7.925 , b'', b'S'),\n",
       "           (117, 0, 3, b'male', 70.5 , 0, 0, b'370369',   7.75  , b'', b'Q'),\n",
       "           (118, 0, 2, b'male', 29.  , 1, 0, b'11668',  21.    , b'', b'S'),\n",
       "           (119, 0, 1, b'male', 24.  , 0, 1, b'PC 17558', 247.5208, b'B58 B60', b'C'),\n",
       "           (120, 0, 3, b'female',  2.  , 4, 2, b'347082',  31.275 , b'', b'S'),\n",
       "           (121, 0, 2, b'male', 21.  , 2, 0, b'S.O.C. 14879',  73.5   , b'', b'S'),\n",
       "           (122, 0, 3, b'male',   nan, 0, 0, b'A4. 54510',   8.05  , b'', b'S'),\n",
       "           (123, 0, 2, b'male', 32.5 , 1, 0, b'237736',  30.0708, b'', b'C'),\n",
       "           (124, 1, 2, b'female', 32.5 , 0, 0, b'27267',  13.    , b'E101', b'S'),\n",
       "           (125, 0, 1, b'male', 54.  , 0, 1, b'35281',  77.2875, b'D26', b'S'),\n",
       "           (126, 1, 3, b'male', 12.  , 1, 0, b'2651',  11.2417, b'', b'C'),\n",
       "           (127, 0, 3, b'male',   nan, 0, 0, b'370372',   7.75  , b'', b'Q'),\n",
       "           (128, 1, 3, b'male', 24.  , 0, 0, b'C 17369',   7.1417, b'', b'S'),\n",
       "           (129, 1, 3, b'female',   nan, 1, 1, b'2668',  22.3583, b'F E69', b'C'),\n",
       "           (130, 0, 3, b'male', 45.  , 0, 0, b'347061',   6.975 , b'', b'S'),\n",
       "           (131, 0, 3, b'male', 33.  , 0, 0, b'349241',   7.8958, b'', b'C'),\n",
       "           (132, 0, 3, b'male', 20.  , 0, 0, b'SOTON/O.Q. 3101307',   7.05  , b'', b'S'),\n",
       "           (133, 0, 3, b'female', 47.  , 1, 0, b'A/5. 3337',  14.5   , b'', b'S'),\n",
       "           (134, 1, 2, b'female', 29.  , 1, 0, b'228414',  26.    , b'', b'S'),\n",
       "           (135, 0, 2, b'male', 25.  , 0, 0, b'C.A. 29178',  13.    , b'', b'S'),\n",
       "           (136, 0, 2, b'male', 23.  , 0, 0, b'SC/PARIS 2133',  15.0458, b'', b'C'),\n",
       "           (137, 1, 1, b'female', 19.  , 0, 2, b'11752',  26.2833, b'D47', b'S'),\n",
       "           (138, 0, 1, b'male', 37.  , 1, 0, b'113803',  53.1   , b'C123', b'S'),\n",
       "           (139, 0, 3, b'male', 16.  , 0, 0, b'7534',   9.2167, b'', b'S'),\n",
       "           (140, 0, 1, b'male', 24.  , 0, 0, b'PC 17593',  79.2   , b'B86', b'C'),\n",
       "           (141, 0, 3, b'female',   nan, 0, 2, b'2678',  15.2458, b'', b'C'),\n",
       "           (142, 1, 3, b'female', 22.  , 0, 0, b'347081',   7.75  , b'', b'S'),\n",
       "           (143, 1, 3, b'female', 24.  , 1, 0, b'STON/O2. 3101279',  15.85  , b'', b'S'),\n",
       "           (144, 0, 3, b'male', 19.  , 0, 0, b'365222',   6.75  , b'', b'Q'),\n",
       "           (145, 0, 2, b'male', 18.  , 0, 0, b'231945',  11.5   , b'', b'S'),\n",
       "           (146, 0, 2, b'male', 19.  , 1, 1, b'C.A. 33112',  36.75  , b'', b'S'),\n",
       "           (147, 1, 3, b'male', 27.  , 0, 0, b'350043',   7.7958, b'', b'S'),\n",
       "           (148, 0, 3, b'female',  9.  , 2, 2, b'W./C. 6608',  34.375 , b'', b'S'),\n",
       "           (149, 0, 2, b'male', 36.5 , 0, 2, b'230080',  26.    , b'F2', b'S'),\n",
       "           (150, 0, 2, b'male', 42.  , 0, 0, b'244310',  13.    , b'', b'S'),\n",
       "           (151, 0, 2, b'male', 51.  , 0, 0, b'S.O.P. 1166',  12.525 , b'', b'S'),\n",
       "           (152, 1, 1, b'female', 22.  , 1, 0, b'113776',  66.6   , b'C2', b'S'),\n",
       "           (153, 0, 3, b'male', 55.5 , 0, 0, b'A.5. 11206',   8.05  , b'', b'S'),\n",
       "           (154, 0, 3, b'male', 40.5 , 0, 2, b'A/5. 851',  14.5   , b'', b'S'),\n",
       "           (155, 0, 3, b'male',   nan, 0, 0, b'Fa 265302',   7.3125, b'', b'S'),\n",
       "           (156, 0, 1, b'male', 51.  , 0, 1, b'PC 17597',  61.3792, b'', b'C'),\n",
       "           (157, 1, 3, b'female', 16.  , 0, 0, b'35851',   7.7333, b'', b'Q'),\n",
       "           (158, 0, 3, b'male', 30.  , 0, 0, b'SOTON/OQ 392090',   8.05  , b'', b'S'),\n",
       "           (159, 0, 3, b'male',   nan, 0, 0, b'315037',   8.6625, b'', b'S'),\n",
       "           (160, 0, 3, b'male',   nan, 8, 2, b'CA. 2343',  69.55  , b'', b'S'),\n",
       "           (161, 0, 3, b'male', 44.  , 0, 1, b'371362',  16.1   , b'', b'S'),\n",
       "           (162, 1, 2, b'female', 40.  , 0, 0, b'C.A. 33595',  15.75  , b'', b'S'),\n",
       "           (163, 0, 3, b'male', 26.  , 0, 0, b'347068',   7.775 , b'', b'S'),\n",
       "           (164, 0, 3, b'male', 17.  , 0, 0, b'315093',   8.6625, b'', b'S'),\n",
       "           (165, 0, 3, b'male',  1.  , 4, 1, b'3101295',  39.6875, b'', b'S'),\n",
       "           (166, 1, 3, b'male',  9.  , 0, 2, b'363291',  20.525 , b'', b'S'),\n",
       "           (167, 1, 1, b'female',   nan, 0, 1, b'113505',  55.    , b'E33', b'S'),\n",
       "           (168, 0, 3, b'female', 45.  , 1, 4, b'347088',  27.9   , b'', b'S'),\n",
       "           (169, 0, 1, b'male',   nan, 0, 0, b'PC 17318',  25.925 , b'', b'S'),\n",
       "           (170, 0, 3, b'male', 28.  , 0, 0, b'1601',  56.4958, b'', b'S'),\n",
       "           (171, 0, 1, b'male', 61.  , 0, 0, b'111240',  33.5   , b'B19', b'S'),\n",
       "           (172, 0, 3, b'male',  4.  , 4, 1, b'382652',  29.125 , b'', b'Q'),\n",
       "           (173, 1, 3, b'female',  1.  , 1, 1, b'347742',  11.1333, b'', b'S'),\n",
       "           (174, 0, 3, b'male', 21.  , 0, 0, b'STON/O 2. 3101280',   7.925 , b'', b'S'),\n",
       "           (175, 0, 1, b'male', 56.  , 0, 0, b'17764',  30.6958, b'A7', b'C'),\n",
       "           (176, 0, 3, b'male', 18.  , 1, 1, b'350404',   7.8542, b'', b'S'),\n",
       "           (177, 0, 3, b'male',   nan, 3, 1, b'4133',  25.4667, b'', b'S'),\n",
       "           (178, 0, 1, b'female', 50.  , 0, 0, b'PC 17595',  28.7125, b'C49', b'C'),\n",
       "           (179, 0, 2, b'male', 30.  , 0, 0, b'250653',  13.    , b'', b'S'),\n",
       "           (180, 0, 3, b'male', 36.  , 0, 0, b'LINE',   0.    , b'', b'S'),\n",
       "           (181, 0, 3, b'female',   nan, 8, 2, b'CA. 2343',  69.55  , b'', b'S'),\n",
       "           (182, 0, 2, b'male',   nan, 0, 0, b'SC/PARIS 2131',  15.05  , b'', b'C'),\n",
       "           (183, 0, 3, b'male',  9.  , 4, 2, b'347077',  31.3875, b'', b'S'),\n",
       "           (184, 1, 2, b'male',  1.  , 2, 1, b'230136',  39.    , b'F4', b'S'),\n",
       "           (185, 1, 3, b'female',  4.  , 0, 2, b'315153',  22.025 , b'', b'S'),\n",
       "           (186, 0, 1, b'male',   nan, 0, 0, b'113767',  50.    , b'A32', b'S'),\n",
       "           (187, 1, 3, b'female',   nan, 1, 0, b'370365',  15.5   , b'', b'Q'),\n",
       "           (188, 1, 1, b'male', 45.  , 0, 0, b'111428',  26.55  , b'', b'S'),\n",
       "           (189, 0, 3, b'male', 40.  , 1, 1, b'364849',  15.5   , b'', b'Q'),\n",
       "           (190, 0, 3, b'male', 36.  , 0, 0, b'349247',   7.8958, b'', b'S'),\n",
       "           (191, 1, 2, b'female', 32.  , 0, 0, b'234604',  13.    , b'', b'S'),\n",
       "           (192, 0, 2, b'male', 19.  , 0, 0, b'28424',  13.    , b'', b'S'),\n",
       "           (193, 1, 3, b'female', 19.  , 1, 0, b'350046',   7.8542, b'', b'S'),\n",
       "           (194, 1, 2, b'male',  3.  , 1, 1, b'230080',  26.    , b'F2', b'S'),\n",
       "           (195, 1, 1, b'female', 44.  , 0, 0, b'PC 17610',  27.7208, b'B4', b'C'),\n",
       "           (196, 1, 1, b'female', 58.  , 0, 0, b'PC 17569', 146.5208, b'B80', b'C'),\n",
       "           (197, 0, 3, b'male',   nan, 0, 0, b'368703',   7.75  , b'', b'Q'),\n",
       "           (198, 0, 3, b'male', 42.  , 0, 1, b'4579',   8.4042, b'', b'S'),\n",
       "           (199, 1, 3, b'female',   nan, 0, 0, b'370370',   7.75  , b'', b'Q'),\n",
       "           (200, 0, 2, b'female', 24.  , 0, 0, b'248747',  13.    , b'', b'S'),\n",
       "           (201, 0, 3, b'male', 28.  , 0, 0, b'345770',   9.5   , b'', b'S'),\n",
       "           (202, 0, 3, b'male',   nan, 8, 2, b'CA. 2343',  69.55  , b'', b'S'),\n",
       "           (203, 0, 3, b'male', 34.  , 0, 0, b'3101264',   6.4958, b'', b'S'),\n",
       "           (204, 0, 3, b'male', 45.5 , 0, 0, b'2628',   7.225 , b'', b'C'),\n",
       "           (205, 1, 3, b'male', 18.  , 0, 0, b'A/5 3540',   8.05  , b'', b'S'),\n",
       "           (206, 0, 3, b'female',  2.  , 0, 1, b'347054',  10.4625, b'G6', b'S'),\n",
       "           (207, 0, 3, b'male', 32.  , 1, 0, b'3101278',  15.85  , b'', b'S'),\n",
       "           (208, 1, 3, b'male', 26.  , 0, 0, b'2699',  18.7875, b'', b'C'),\n",
       "           (209, 1, 3, b'female', 16.  , 0, 0, b'367231',   7.75  , b'', b'Q'),\n",
       "           (210, 1, 1, b'male', 40.  , 0, 0, b'112277',  31.    , b'A31', b'C'),\n",
       "           (211, 0, 3, b'male', 24.  , 0, 0, b'SOTON/O.Q. 3101311',   7.05  , b'', b'S'),\n",
       "           (212, 1, 2, b'female', 35.  , 0, 0, b'F.C.C. 13528',  21.    , b'', b'S'),\n",
       "           (213, 0, 3, b'male', 22.  , 0, 0, b'A/5 21174',   7.25  , b'', b'S'),\n",
       "           (214, 0, 2, b'male', 30.  , 0, 0, b'250646',  13.    , b'', b'S'),\n",
       "           (215, 0, 3, b'male',   nan, 1, 0, b'367229',   7.75  , b'', b'Q'),\n",
       "           (216, 1, 1, b'female', 31.  , 1, 0, b'35273', 113.275 , b'D36', b'C'),\n",
       "           (217, 1, 3, b'female', 27.  , 0, 0, b'STON/O2. 3101283',   7.925 , b'', b'S'),\n",
       "           (218, 0, 2, b'male', 42.  , 1, 0, b'243847',  27.    , b'', b'S'),\n",
       "           (219, 1, 1, b'female', 32.  , 0, 0, b'11813',  76.2917, b'D15', b'C'),\n",
       "           (220, 0, 2, b'male', 30.  , 0, 0, b'W/C 14208',  10.5   , b'', b'S'),\n",
       "           (221, 1, 3, b'male', 16.  , 0, 0, b'SOTON/OQ 392089',   8.05  , b'', b'S'),\n",
       "           (222, 0, 2, b'male', 27.  , 0, 0, b'220367',  13.    , b'', b'S'),\n",
       "           (223, 0, 3, b'male', 51.  , 0, 0, b'21440',   8.05  , b'', b'S'),\n",
       "           (224, 0, 3, b'male',   nan, 0, 0, b'349234',   7.8958, b'', b'S'),\n",
       "           (225, 1, 1, b'male', 38.  , 1, 0, b'19943',  90.    , b'C93', b'S'),\n",
       "           (226, 0, 3, b'male', 22.  , 0, 0, b'PP 4348',   9.35  , b'', b'S'),\n",
       "           (227, 1, 2, b'male', 19.  , 0, 0, b'SW/PP 751',  10.5   , b'', b'S'),\n",
       "           (228, 0, 3, b'male', 20.5 , 0, 0, b'A/5 21173',   7.25  , b'', b'S'),\n",
       "           (229, 0, 2, b'male', 18.  , 0, 0, b'236171',  13.    , b'', b'S'),\n",
       "           (230, 0, 3, b'female',   nan, 3, 1, b'4133',  25.4667, b'', b'S'),\n",
       "           (231, 1, 1, b'female', 35.  , 1, 0, b'36973',  83.475 , b'C83', b'S'),\n",
       "           (232, 0, 3, b'male', 29.  , 0, 0, b'347067',   7.775 , b'', b'S'),\n",
       "           (233, 0, 2, b'male', 59.  , 0, 0, b'237442',  13.5   , b'', b'S'),\n",
       "           (234, 1, 3, b'female',  5.  , 4, 2, b'347077',  31.3875, b'', b'S'),\n",
       "           (235, 0, 2, b'male', 24.  , 0, 0, b'C.A. 29566',  10.5   , b'', b'S'),\n",
       "           (236, 0, 3, b'female',   nan, 0, 0, b'W./C. 6609',   7.55  , b'', b'S'),\n",
       "           (237, 0, 2, b'male', 44.  , 1, 0, b'26707',  26.    , b'', b'S'),\n",
       "           (238, 1, 2, b'female',  8.  , 0, 2, b'C.A. 31921',  26.25  , b'', b'S'),\n",
       "           (239, 0, 2, b'male', 19.  , 0, 0, b'28665',  10.5   , b'', b'S'),\n",
       "           (240, 0, 2, b'male', 33.  , 0, 0, b'SCO/W 1585',  12.275 , b'', b'S'),\n",
       "           (241, 0, 3, b'female',   nan, 1, 0, b'2665',  14.4542, b'', b'C'),\n",
       "           (242, 1, 3, b'female',   nan, 1, 0, b'367230',  15.5   , b'', b'Q'),\n",
       "           (243, 0, 2, b'male', 29.  , 0, 0, b'W./C. 14263',  10.5   , b'', b'S'),\n",
       "           (244, 0, 3, b'male', 22.  , 0, 0, b'STON/O 2. 3101275',   7.125 , b'', b'S'),\n",
       "           (245, 0, 3, b'male', 30.  , 0, 0, b'2694',   7.225 , b'', b'C'),\n",
       "           (246, 0, 1, b'male', 44.  , 2, 0, b'19928',  90.    , b'C78', b'Q'),\n",
       "           (247, 0, 3, b'female', 25.  , 0, 0, b'347071',   7.775 , b'', b'S'),\n",
       "           (248, 1, 2, b'female', 24.  , 0, 2, b'250649',  14.5   , b'', b'S'),\n",
       "           (249, 1, 1, b'male', 37.  , 1, 1, b'11751',  52.5542, b'D35', b'S'),\n",
       "           (250, 0, 2, b'male', 54.  , 1, 0, b'244252',  26.    , b'', b'S'),\n",
       "           (251, 0, 3, b'male',   nan, 0, 0, b'362316',   7.25  , b'', b'S'),\n",
       "           (252, 0, 3, b'female', 29.  , 1, 1, b'347054',  10.4625, b'G6', b'S'),\n",
       "           (253, 0, 1, b'male', 62.  , 0, 0, b'113514',  26.55  , b'C87', b'S'),\n",
       "           (254, 0, 3, b'male', 30.  , 1, 0, b'A/5. 3336',  16.1   , b'', b'S'),\n",
       "           (255, 0, 3, b'female', 41.  , 0, 2, b'370129',  20.2125, b'', b'S'),\n",
       "           (256, 1, 3, b'female', 29.  , 0, 2, b'2650',  15.2458, b'', b'C'),\n",
       "           (257, 1, 1, b'female',   nan, 0, 0, b'PC 17585',  79.2   , b'', b'C'),\n",
       "           (258, 1, 1, b'female', 30.  , 0, 0, b'110152',  86.5   , b'B77', b'S'),\n",
       "           (259, 1, 1, b'female', 35.  , 0, 0, b'PC 17755', 512.3292, b'', b'C'),\n",
       "           (260, 1, 2, b'female', 50.  , 0, 1, b'230433',  26.    , b'', b'S'),\n",
       "           (261, 0, 3, b'male',   nan, 0, 0, b'384461',   7.75  , b'', b'Q'),\n",
       "           (262, 1, 3, b'male',  3.  , 4, 2, b'347077',  31.3875, b'', b'S'),\n",
       "           (263, 0, 1, b'male', 52.  , 1, 1, b'110413',  79.65  , b'E67', b'S'),\n",
       "           (264, 0, 1, b'male', 40.  , 0, 0, b'112059',   0.    , b'B94', b'S'),\n",
       "           (265, 0, 3, b'female',   nan, 0, 0, b'382649',   7.75  , b'', b'Q'),\n",
       "           (266, 0, 2, b'male', 36.  , 0, 0, b'C.A. 17248',  10.5   , b'', b'S'),\n",
       "           (267, 0, 3, b'male', 16.  , 4, 1, b'3101295',  39.6875, b'', b'S'),\n",
       "           (268, 1, 3, b'male', 25.  , 1, 0, b'347083',   7.775 , b'', b'S'),\n",
       "           (269, 1, 1, b'female', 58.  , 0, 1, b'PC 17582', 153.4625, b'C125', b'S'),\n",
       "           (270, 1, 1, b'female', 35.  , 0, 0, b'PC 17760', 135.6333, b'C99', b'S'),\n",
       "           (271, 0, 1, b'male',   nan, 0, 0, b'113798',  31.    , b'', b'S'),\n",
       "           (272, 1, 3, b'male', 25.  , 0, 0, b'LINE',   0.    , b'', b'S'),\n",
       "           (273, 1, 2, b'female', 41.  , 0, 1, b'250644',  19.5   , b'', b'S'),\n",
       "           (274, 0, 1, b'male', 37.  , 0, 1, b'PC 17596',  29.7   , b'C118', b'C'),\n",
       "           (275, 1, 3, b'female',   nan, 0, 0, b'370375',   7.75  , b'', b'Q'),\n",
       "           (276, 1, 1, b'female', 63.  , 1, 0, b'13502',  77.9583, b'D7', b'S'),\n",
       "           (277, 0, 3, b'female', 45.  , 0, 0, b'347073',   7.75  , b'', b'S'),\n",
       "           (278, 0, 2, b'male',   nan, 0, 0, b'239853',   0.    , b'', b'S'),\n",
       "           (279, 0, 3, b'male',  7.  , 4, 1, b'382652',  29.125 , b'', b'Q'),\n",
       "           (280, 1, 3, b'female', 35.  , 1, 1, b'C.A. 2673',  20.25  , b'', b'S'),\n",
       "           (281, 0, 3, b'male', 65.  , 0, 0, b'336439',   7.75  , b'', b'Q'),\n",
       "           (282, 0, 3, b'male', 28.  , 0, 0, b'347464',   7.8542, b'', b'S'),\n",
       "           (283, 0, 3, b'male', 16.  , 0, 0, b'345778',   9.5   , b'', b'S'),\n",
       "           (284, 1, 3, b'male', 19.  , 0, 0, b'A/5. 10482',   8.05  , b'', b'S'),\n",
       "           (285, 0, 1, b'male',   nan, 0, 0, b'113056',  26.    , b'A19', b'S'),\n",
       "           (286, 0, 3, b'male', 33.  , 0, 0, b'349239',   8.6625, b'', b'C'),\n",
       "           (287, 1, 3, b'male', 30.  , 0, 0, b'345774',   9.5   , b'', b'S'),\n",
       "           (288, 0, 3, b'male', 22.  , 0, 0, b'349206',   7.8958, b'', b'S'),\n",
       "           (289, 1, 2, b'male', 42.  , 0, 0, b'237798',  13.    , b'', b'S'),\n",
       "           (290, 1, 3, b'female', 22.  , 0, 0, b'370373',   7.75  , b'', b'Q'),\n",
       "           (291, 1, 1, b'female', 26.  , 0, 0, b'19877',  78.85  , b'', b'S'),\n",
       "           (292, 1, 1, b'female', 19.  , 1, 0, b'11967',  91.0792, b'B49', b'C'),\n",
       "           (293, 0, 2, b'male', 36.  , 0, 0, b'SC/Paris 2163',  12.875 , b'D', b'C'),\n",
       "           (294, 0, 3, b'female', 24.  , 0, 0, b'349236',   8.85  , b'', b'S'),\n",
       "           (295, 0, 3, b'male', 24.  , 0, 0, b'349233',   7.8958, b'', b'S'),\n",
       "           (296, 0, 1, b'male',   nan, 0, 0, b'PC 17612',  27.7208, b'', b'C'),\n",
       "           (297, 0, 3, b'male', 23.5 , 0, 0, b'2693',   7.2292, b'', b'C'),\n",
       "           (298, 0, 1, b'female',  2.  , 1, 2, b'113781', 151.55  , b'C22 C26', b'S'),\n",
       "           (299, 1, 1, b'male',   nan, 0, 0, b'19988',  30.5   , b'C106', b'S'),\n",
       "           (300, 1, 1, b'female', 50.  , 0, 1, b'PC 17558', 247.5208, b'B58 B60', b'C'),\n",
       "           (301, 1, 3, b'female',   nan, 0, 0, b'9234',   7.75  , b'', b'Q'),\n",
       "           (302, 1, 3, b'male',   nan, 2, 0, b'367226',  23.25  , b'', b'Q'),\n",
       "           (303, 0, 3, b'male', 19.  , 0, 0, b'LINE',   0.    , b'', b'S'),\n",
       "           (304, 1, 2, b'female',   nan, 0, 0, b'226593',  12.35  , b'E101', b'Q'),\n",
       "           (305, 0, 3, b'male',   nan, 0, 0, b'A/5 2466',   8.05  , b'', b'S'),\n",
       "           (306, 1, 1, b'male',  0.92, 1, 2, b'113781', 151.55  , b'C22 C26', b'S'),\n",
       "           (307, 1, 1, b'female',   nan, 0, 0, b'17421', 110.8833, b'', b'C'),\n",
       "           (308, 1, 1, b'female', 17.  , 1, 0, b'PC 17758', 108.9   , b'C65', b'C'),\n",
       "           (309, 0, 2, b'male', 30.  , 1, 0, b'P/PP 3381',  24.    , b'', b'C'),\n",
       "           (310, 1, 1, b'female', 30.  , 0, 0, b'PC 17485',  56.9292, b'E36', b'C'),\n",
       "           (311, 1, 1, b'female', 24.  , 0, 0, b'11767',  83.1583, b'C54', b'C'),\n",
       "           (312, 1, 1, b'female', 18.  , 2, 2, b'PC 17608', 262.375 , b'B57 B59 B63 B66', b'C'),\n",
       "           (313, 0, 2, b'female', 26.  , 1, 1, b'250651',  26.    , b'', b'S'),\n",
       "           (314, 0, 3, b'male', 28.  , 0, 0, b'349243',   7.8958, b'', b'S'),\n",
       "           (315, 0, 2, b'male', 43.  , 1, 1, b'F.C.C. 13529',  26.25  , b'', b'S'),\n",
       "           (316, 1, 3, b'female', 26.  , 0, 0, b'347470',   7.8542, b'', b'S'),\n",
       "           (317, 1, 2, b'female', 24.  , 1, 0, b'244367',  26.    , b'', b'S'),\n",
       "           (318, 0, 2, b'male', 54.  , 0, 0, b'29011',  14.    , b'', b'S'),\n",
       "           (319, 1, 1, b'female', 31.  , 0, 2, b'36928', 164.8667, b'C7', b'S'),\n",
       "           (320, 1, 1, b'female', 40.  , 1, 1, b'16966', 134.5   , b'E34', b'C'),\n",
       "           (321, 0, 3, b'male', 22.  , 0, 0, b'A/5 21172',   7.25  , b'', b'S'),\n",
       "           (322, 0, 3, b'male', 27.  , 0, 0, b'349219',   7.8958, b'', b'S'),\n",
       "           (323, 1, 2, b'female', 30.  , 0, 0, b'234818',  12.35  , b'', b'Q'),\n",
       "           (324, 1, 2, b'female', 22.  , 1, 1, b'248738',  29.    , b'', b'S'),\n",
       "           (325, 0, 3, b'male',   nan, 8, 2, b'CA. 2343',  69.55  , b'', b'S'),\n",
       "           (326, 1, 1, b'female', 36.  , 0, 0, b'PC 17760', 135.6333, b'C32', b'C'),\n",
       "           (327, 0, 3, b'male', 61.  , 0, 0, b'345364',   6.2375, b'', b'S'),\n",
       "           (328, 1, 2, b'female', 36.  , 0, 0, b'28551',  13.    , b'D', b'S'),\n",
       "           (329, 1, 3, b'female', 31.  , 1, 1, b'363291',  20.525 , b'', b'S'),\n",
       "           (330, 1, 1, b'female', 16.  , 0, 1, b'111361',  57.9792, b'B18', b'C'),\n",
       "           (331, 1, 3, b'female',   nan, 2, 0, b'367226',  23.25  , b'', b'Q'),\n",
       "           (332, 0, 1, b'male', 45.5 , 0, 0, b'113043',  28.5   , b'C124', b'S'),\n",
       "           (333, 0, 1, b'male', 38.  , 0, 1, b'PC 17582', 153.4625, b'C91', b'S'),\n",
       "           (334, 0, 3, b'male', 16.  , 2, 0, b'345764',  18.    , b'', b'S'),\n",
       "           (335, 1, 1, b'female',   nan, 1, 0, b'PC 17611', 133.65  , b'', b'S'),\n",
       "           (336, 0, 3, b'male',   nan, 0, 0, b'349225',   7.8958, b'', b'S'),\n",
       "           (337, 0, 1, b'male', 29.  , 1, 0, b'113776',  66.6   , b'C2', b'S'),\n",
       "           (338, 1, 1, b'female', 41.  , 0, 0, b'16966', 134.5   , b'E40', b'C'),\n",
       "           (339, 1, 3, b'male', 45.  , 0, 0, b'7598',   8.05  , b'', b'S'),\n",
       "           (340, 0, 1, b'male', 45.  , 0, 0, b'113784',  35.5   , b'T', b'S'),\n",
       "           (341, 1, 2, b'male',  2.  , 1, 1, b'230080',  26.    , b'F2', b'S'),\n",
       "           (342, 1, 1, b'female', 24.  , 3, 2, b'19950', 263.    , b'C23 C25 C27', b'S'),\n",
       "           (343, 0, 2, b'male', 28.  , 0, 0, b'248740',  13.    , b'', b'S'),\n",
       "           (344, 0, 2, b'male', 25.  , 0, 0, b'244361',  13.    , b'', b'S'),\n",
       "           (345, 0, 2, b'male', 36.  , 0, 0, b'229236',  13.    , b'', b'S'),\n",
       "           (346, 1, 2, b'female', 24.  , 0, 0, b'248733',  13.    , b'F33', b'S'),\n",
       "           (347, 1, 2, b'female', 40.  , 0, 0, b'31418',  13.    , b'', b'S'),\n",
       "           (348, 1, 3, b'female',   nan, 1, 0, b'386525',  16.1   , b'', b'S'),\n",
       "           (349, 1, 3, b'male',  3.  , 1, 1, b'C.A. 37671',  15.9   , b'', b'S'),\n",
       "           (350, 0, 3, b'male', 42.  , 0, 0, b'315088',   8.6625, b'', b'S'),\n",
       "           (351, 0, 3, b'male', 23.  , 0, 0, b'7267',   9.225 , b'', b'S'),\n",
       "           (352, 0, 1, b'male',   nan, 0, 0, b'113510',  35.    , b'C128', b'S'),\n",
       "           (353, 0, 3, b'male', 15.  , 1, 1, b'2695',   7.2292, b'', b'C'),\n",
       "           (354, 0, 3, b'male', 25.  , 1, 0, b'349237',  17.8   , b'', b'S'),\n",
       "           (355, 0, 3, b'male',   nan, 0, 0, b'2647',   7.225 , b'', b'C'),\n",
       "           (356, 0, 3, b'male', 28.  , 0, 0, b'345783',   9.5   , b'', b'S'),\n",
       "           (357, 1, 1, b'female', 22.  , 0, 1, b'113505',  55.    , b'E33', b'S'),\n",
       "           (358, 0, 2, b'female', 38.  , 0, 0, b'237671',  13.    , b'', b'S'),\n",
       "           (359, 1, 3, b'female',   nan, 0, 0, b'330931',   7.8792, b'', b'Q'),\n",
       "           (360, 1, 3, b'female',   nan, 0, 0, b'330980',   7.8792, b'', b'Q'),\n",
       "           (361, 0, 3, b'male', 40.  , 1, 4, b'347088',  27.9   , b'', b'S'),\n",
       "           (362, 0, 2, b'male', 29.  , 1, 0, b'SC/PARIS 2167',  27.7208, b'', b'C'),\n",
       "           (363, 0, 3, b'female', 45.  , 0, 1, b'2691',  14.4542, b'', b'C'),\n",
       "           (364, 0, 3, b'male', 35.  , 0, 0, b'SOTON/O.Q. 3101310',   7.05  , b'', b'S'),\n",
       "           (365, 0, 3, b'male',   nan, 1, 0, b'370365',  15.5   , b'', b'Q'),\n",
       "           (366, 0, 3, b'male', 30.  , 0, 0, b'C 7076',   7.25  , b'', b'S'),\n",
       "           (367, 1, 1, b'female', 60.  , 1, 0, b'110813',  75.25  , b'D37', b'C'),\n",
       "           (368, 1, 3, b'female',   nan, 0, 0, b'2626',   7.2292, b'', b'C'),\n",
       "           (369, 1, 3, b'female',   nan, 0, 0, b'14313',   7.75  , b'', b'Q'),\n",
       "           (370, 1, 1, b'female', 24.  , 0, 0, b'PC 17477',  69.3   , b'B35', b'C'),\n",
       "           (371, 1, 1, b'male', 25.  , 1, 0, b'11765',  55.4417, b'E50', b'C'),\n",
       "           (372, 0, 3, b'male', 18.  , 1, 0, b'3101267',   6.4958, b'', b'S'),\n",
       "           (373, 0, 3, b'male', 19.  , 0, 0, b'323951',   8.05  , b'', b'S'),\n",
       "           (374, 0, 1, b'male', 22.  , 0, 0, b'PC 17760', 135.6333, b'', b'C'),\n",
       "           (375, 0, 3, b'female',  3.  , 3, 1, b'349909',  21.075 , b'', b'S'),\n",
       "           (376, 1, 1, b'female',   nan, 1, 0, b'PC 17604',  82.1708, b'', b'C'),\n",
       "           (377, 1, 3, b'female', 22.  , 0, 0, b'C 7077',   7.25  , b'', b'S'),\n",
       "           (378, 0, 1, b'male', 27.  , 0, 2, b'113503', 211.5   , b'C82', b'C'),\n",
       "           (379, 0, 3, b'male', 20.  , 0, 0, b'2648',   4.0125, b'', b'C'),\n",
       "           (380, 0, 3, b'male', 19.  , 0, 0, b'347069',   7.775 , b'', b'S'),\n",
       "           (381, 1, 1, b'female', 42.  , 0, 0, b'PC 17757', 227.525 , b'', b'C'),\n",
       "           (382, 1, 3, b'female',  1.  , 0, 2, b'2653',  15.7417, b'', b'C'),\n",
       "           (383, 0, 3, b'male', 32.  , 0, 0, b'STON/O 2. 3101293',   7.925 , b'', b'S'),\n",
       "           (384, 1, 1, b'female', 35.  , 1, 0, b'113789',  52.    , b'', b'S'),\n",
       "           (385, 0, 3, b'male',   nan, 0, 0, b'349227',   7.8958, b'', b'S'),\n",
       "           (386, 0, 2, b'male', 18.  , 0, 0, b'S.O.C. 14879',  73.5   , b'', b'S'),\n",
       "           (387, 0, 3, b'male',  1.  , 5, 2, b'CA 2144',  46.9   , b'', b'S'),\n",
       "           (388, 1, 2, b'female', 36.  , 0, 0, b'27849',  13.    , b'', b'S'),\n",
       "           (389, 0, 3, b'male',   nan, 0, 0, b'367655',   7.7292, b'', b'Q'),\n",
       "           (390, 1, 2, b'female', 17.  , 0, 0, b'SC 1748',  12.    , b'', b'C'),\n",
       "           (391, 1, 1, b'male', 36.  , 1, 2, b'113760', 120.    , b'B96 B98', b'S'),\n",
       "           (392, 1, 3, b'male', 21.  , 0, 0, b'350034',   7.7958, b'', b'S'),\n",
       "           (393, 0, 3, b'male', 28.  , 2, 0, b'3101277',   7.925 , b'', b'S'),\n",
       "           (394, 1, 1, b'female', 23.  , 1, 0, b'35273', 113.275 , b'D36', b'C'),\n",
       "           (395, 1, 3, b'female', 24.  , 0, 2, b'PP 9549',  16.7   , b'G6', b'S'),\n",
       "           (396, 0, 3, b'male', 22.  , 0, 0, b'350052',   7.7958, b'', b'S'),\n",
       "           (397, 0, 3, b'female', 31.  , 0, 0, b'350407',   7.8542, b'', b'S'),\n",
       "           (398, 0, 2, b'male', 46.  , 0, 0, b'28403',  26.    , b'', b'S'),\n",
       "           (399, 0, 2, b'male', 23.  , 0, 0, b'244278',  10.5   , b'', b'S'),\n",
       "           (400, 1, 2, b'female', 28.  , 0, 0, b'240929',  12.65  , b'', b'S'),\n",
       "           (401, 1, 3, b'male', 39.  , 0, 0, b'STON/O 2. 3101289',   7.925 , b'', b'S'),\n",
       "           (402, 0, 3, b'male', 26.  , 0, 0, b'341826',   8.05  , b'', b'S'),\n",
       "           (403, 0, 3, b'female', 21.  , 1, 0, b'4137',   9.825 , b'', b'S'),\n",
       "           (404, 0, 3, b'male', 28.  , 1, 0, b'STON/O2. 3101279',  15.85  , b'', b'S'),\n",
       "           (405, 0, 3, b'female', 20.  , 0, 0, b'315096',   8.6625, b'', b'S'),\n",
       "           (406, 0, 2, b'male', 34.  , 1, 0, b'28664',  21.    , b'', b'S'),\n",
       "           (407, 0, 3, b'male', 51.  , 0, 0, b'347064',   7.75  , b'', b'S'),\n",
       "           (408, 1, 2, b'male',  3.  , 1, 1, b'29106',  18.75  , b'', b'S'),\n",
       "           (409, 0, 3, b'male', 21.  , 0, 0, b'312992',   7.775 , b'', b'S'),\n",
       "           (410, 0, 3, b'female',   nan, 3, 1, b'4133',  25.4667, b'', b'S'),\n",
       "           (411, 0, 3, b'male',   nan, 0, 0, b'349222',   7.8958, b'', b'S'),\n",
       "           (412, 0, 3, b'male',   nan, 0, 0, b'394140',   6.8583, b'', b'Q'),\n",
       "           (413, 1, 1, b'female', 33.  , 1, 0, b'19928',  90.    , b'C78', b'Q'),\n",
       "           (414, 0, 2, b'male',   nan, 0, 0, b'239853',   0.    , b'', b'S'),\n",
       "           (415, 1, 3, b'male', 44.  , 0, 0, b'STON/O 2. 3101269',   7.925 , b'', b'S'),\n",
       "           (416, 0, 3, b'female',   nan, 0, 0, b'343095',   8.05  , b'', b'S'),\n",
       "           (417, 1, 2, b'female', 34.  , 1, 1, b'28220',  32.5   , b'', b'S'),\n",
       "           (418, 1, 2, b'female', 18.  , 0, 2, b'250652',  13.    , b'', b'S'),\n",
       "           (419, 0, 2, b'male', 30.  , 0, 0, b'28228',  13.    , b'', b'S'),\n",
       "           (420, 0, 3, b'female', 10.  , 0, 2, b'345773',  24.15  , b'', b'S'),\n",
       "           (421, 0, 3, b'male',   nan, 0, 0, b'349254',   7.8958, b'', b'C'),\n",
       "           (422, 0, 3, b'male', 21.  , 0, 0, b'A/5. 13032',   7.7333, b'', b'Q'),\n",
       "           (423, 0, 3, b'male', 29.  , 0, 0, b'315082',   7.875 , b'', b'S'),\n",
       "           (424, 0, 3, b'female', 28.  , 1, 1, b'347080',  14.4   , b'', b'S'),\n",
       "           (425, 0, 3, b'male', 18.  , 1, 1, b'370129',  20.2125, b'', b'S'),\n",
       "           (426, 0, 3, b'male',   nan, 0, 0, b'A/4. 34244',   7.25  , b'', b'S'),\n",
       "           (427, 1, 2, b'female', 28.  , 1, 0, b'2003',  26.    , b'', b'S'),\n",
       "           (428, 1, 2, b'female', 19.  , 0, 0, b'250655',  26.    , b'', b'S'),\n",
       "           (429, 0, 3, b'male',   nan, 0, 0, b'364851',   7.75  , b'', b'Q'),\n",
       "           (430, 1, 3, b'male', 32.  , 0, 0, b'SOTON/O.Q. 392078',   8.05  , b'E10', b'S'),\n",
       "           (431, 1, 1, b'male', 28.  , 0, 0, b'110564',  26.55  , b'C52', b'S'),\n",
       "           (432, 1, 3, b'female',   nan, 1, 0, b'376564',  16.1   , b'', b'S'),\n",
       "           (433, 1, 2, b'female', 42.  , 1, 0, b'SC/AH 3085',  26.    , b'', b'S'),\n",
       "           (434, 0, 3, b'male', 17.  , 0, 0, b'STON/O 2. 3101274',   7.125 , b'', b'S'),\n",
       "           (435, 0, 1, b'male', 50.  , 1, 0, b'13507',  55.9   , b'E44', b'S'),\n",
       "           (436, 1, 1, b'female', 14.  , 1, 2, b'113760', 120.    , b'B96 B98', b'S'),\n",
       "           (437, 0, 3, b'female', 21.  , 2, 2, b'W./C. 6608',  34.375 , b'', b'S'),\n",
       "           (438, 1, 2, b'female', 24.  , 2, 3, b'29106',  18.75  , b'', b'S'),\n",
       "           (439, 0, 1, b'male', 64.  , 1, 4, b'19950', 263.    , b'C23 C25 C27', b'S'),\n",
       "           (440, 0, 2, b'male', 31.  , 0, 0, b'C.A. 18723',  10.5   , b'', b'S'),\n",
       "           (441, 1, 2, b'female', 45.  , 1, 1, b'F.C.C. 13529',  26.25  , b'', b'S'),\n",
       "           (442, 0, 3, b'male', 20.  , 0, 0, b'345769',   9.5   , b'', b'S'),\n",
       "           (443, 0, 3, b'male', 25.  , 1, 0, b'347076',   7.775 , b'', b'S'),\n",
       "           (444, 1, 2, b'female', 28.  , 0, 0, b'230434',  13.    , b'', b'S'),\n",
       "           (445, 1, 3, b'male',   nan, 0, 0, b'65306',   8.1125, b'', b'S'),\n",
       "           (446, 1, 1, b'male',  4.  , 0, 2, b'33638',  81.8583, b'A34', b'S'),\n",
       "           (447, 1, 2, b'female', 13.  , 0, 1, b'250644',  19.5   , b'', b'S'),\n",
       "           (448, 1, 1, b'male', 34.  , 0, 0, b'113794',  26.55  , b'', b'S'),\n",
       "           (449, 1, 3, b'female',  5.  , 2, 1, b'2666',  19.2583, b'', b'C'),\n",
       "           (450, 1, 1, b'male', 52.  , 0, 0, b'113786',  30.5   , b'C104', b'S'),\n",
       "           (451, 0, 2, b'male', 36.  , 1, 2, b'C.A. 34651',  27.75  , b'', b'S'),\n",
       "           (452, 0, 3, b'male',   nan, 1, 0, b'65303',  19.9667, b'', b'S'),\n",
       "           (453, 0, 1, b'male', 30.  , 0, 0, b'113051',  27.75  , b'C111', b'C'),\n",
       "           (454, 1, 1, b'male', 49.  , 1, 0, b'17453',  89.1042, b'C92', b'C'),\n",
       "           (455, 0, 3, b'male',   nan, 0, 0, b'A/5 2817',   8.05  , b'', b'S'),\n",
       "           (456, 1, 3, b'male', 29.  , 0, 0, b'349240',   7.8958, b'', b'C'),\n",
       "           (457, 0, 1, b'male', 65.  , 0, 0, b'13509',  26.55  , b'E38', b'S'),\n",
       "           (458, 1, 1, b'female',   nan, 1, 0, b'17464',  51.8625, b'D21', b'S'),\n",
       "           (459, 1, 2, b'female', 50.  , 0, 0, b'F.C.C. 13531',  10.5   , b'', b'S'),\n",
       "           (460, 0, 3, b'male',   nan, 0, 0, b'371060',   7.75  , b'', b'Q'),\n",
       "           (461, 1, 1, b'male', 48.  , 0, 0, b'19952',  26.55  , b'E12', b'S'),\n",
       "           (462, 0, 3, b'male', 34.  , 0, 0, b'364506',   8.05  , b'', b'S'),\n",
       "           (463, 0, 1, b'male', 47.  , 0, 0, b'111320',  38.5   , b'E63', b'S'),\n",
       "           (464, 0, 2, b'male', 48.  , 0, 0, b'234360',  13.    , b'', b'S'),\n",
       "           (465, 0, 3, b'male',   nan, 0, 0, b'A/S 2816',   8.05  , b'', b'S'),\n",
       "           (466, 0, 3, b'male', 38.  , 0, 0, b'SOTON/O.Q. 3101306',   7.05  , b'', b'S'),\n",
       "           (467, 0, 2, b'male',   nan, 0, 0, b'239853',   0.    , b'', b'S'),\n",
       "           (468, 0, 1, b'male', 56.  , 0, 0, b'113792',  26.55  , b'', b'S'),\n",
       "           (469, 0, 3, b'male',   nan, 0, 0, b'36209',   7.725 , b'', b'Q'),\n",
       "           (470, 1, 3, b'female',  0.75, 2, 1, b'2666',  19.2583, b'', b'C'),\n",
       "           (471, 0, 3, b'male',   nan, 0, 0, b'323592',   7.25  , b'', b'S'),\n",
       "           (472, 0, 3, b'male', 38.  , 0, 0, b'315089',   8.6625, b'', b'S'),\n",
       "           (473, 1, 2, b'female', 33.  , 1, 2, b'C.A. 34651',  27.75  , b'', b'S'),\n",
       "           (474, 1, 2, b'female', 23.  , 0, 0, b'SC/AH Basle 541',  13.7917, b'D', b'C'),\n",
       "           (475, 0, 3, b'female', 22.  , 0, 0, b'7553',   9.8375, b'', b'S'),\n",
       "           (476, 0, 1, b'male',   nan, 0, 0, b'110465',  52.    , b'A14', b'S'),\n",
       "           (477, 0, 2, b'male', 34.  , 1, 0, b'31027',  21.    , b'', b'S'),\n",
       "           (478, 0, 3, b'male', 29.  , 1, 0, b'3460',   7.0458, b'', b'S'),\n",
       "           (479, 0, 3, b'male', 22.  , 0, 0, b'350060',   7.5208, b'', b'S'),\n",
       "           (480, 1, 3, b'female',  2.  , 0, 1, b'3101298',  12.2875, b'', b'S'),\n",
       "           (481, 0, 3, b'male',  9.  , 5, 2, b'CA 2144',  46.9   , b'', b'S'),\n",
       "           (482, 0, 2, b'male',   nan, 0, 0, b'239854',   0.    , b'', b'S'),\n",
       "           (483, 0, 3, b'male', 50.  , 0, 0, b'A/5 3594',   8.05  , b'', b'S'),\n",
       "           (484, 1, 3, b'female', 63.  , 0, 0, b'4134',   9.5875, b'', b'S'),\n",
       "           (485, 1, 1, b'male', 25.  , 1, 0, b'11967',  91.0792, b'B49', b'C'),\n",
       "           (486, 0, 3, b'female',   nan, 3, 1, b'4133',  25.4667, b'', b'S'),\n",
       "           (487, 1, 1, b'female', 35.  , 1, 0, b'19943',  90.    , b'C93', b'S'),\n",
       "           (488, 0, 1, b'male', 58.  , 0, 0, b'11771',  29.7   , b'B37', b'C'),\n",
       "           (489, 0, 3, b'male', 30.  , 0, 0, b'A.5. 18509',   8.05  , b'', b'S'),\n",
       "           (490, 1, 3, b'male',  9.  , 1, 1, b'C.A. 37671',  15.9   , b'', b'S'),\n",
       "           (491, 0, 3, b'male',   nan, 1, 0, b'65304',  19.9667, b'', b'S'),\n",
       "           (492, 0, 3, b'male', 21.  , 0, 0, b'SOTON/OQ 3101317',   7.25  , b'', b'S'),\n",
       "           (493, 0, 1, b'male', 55.  , 0, 0, b'113787',  30.5   , b'C30', b'S'),\n",
       "           (494, 0, 1, b'male', 71.  , 0, 0, b'PC 17609',  49.5042, b'', b'C'),\n",
       "           (495, 0, 3, b'male', 21.  , 0, 0, b'A/4 45380',   8.05  , b'', b'S'),\n",
       "           (496, 0, 3, b'male',   nan, 0, 0, b'2627',  14.4583, b'', b'C'),\n",
       "           (497, 1, 1, b'female', 54.  , 1, 0, b'36947',  78.2667, b'D20', b'C'),\n",
       "           (498, 0, 3, b'male',   nan, 0, 0, b'C.A. 6212',  15.1   , b'', b'S'),\n",
       "           (499, 0, 1, b'female', 25.  , 1, 2, b'113781', 151.55  , b'C22 C26', b'S'),\n",
       "           (500, 0, 3, b'male', 24.  , 0, 0, b'350035',   7.7958, b'', b'S'),\n",
       "           (501, 0, 3, b'male', 17.  , 0, 0, b'315086',   8.6625, b'', b'S'),\n",
       "           (502, 0, 3, b'female', 21.  , 0, 0, b'364846',   7.75  , b'', b'Q'),\n",
       "           (503, 0, 3, b'female',   nan, 0, 0, b'330909',   7.6292, b'', b'Q'),\n",
       "           (504, 0, 3, b'female', 37.  , 0, 0, b'4135',   9.5875, b'', b'S'),\n",
       "           (505, 1, 1, b'female', 16.  , 0, 0, b'110152',  86.5   , b'B79', b'S'),\n",
       "           (506, 0, 1, b'male', 18.  , 1, 0, b'PC 17758', 108.9   , b'C65', b'C'),\n",
       "           (507, 1, 2, b'female', 33.  , 0, 2, b'26360',  26.    , b'', b'S'),\n",
       "           (508, 1, 1, b'male',   nan, 0, 0, b'111427',  26.55  , b'', b'S'),\n",
       "           (509, 0, 3, b'male', 28.  , 0, 0, b'C 4001',  22.525 , b'', b'S'),\n",
       "           (510, 1, 3, b'male', 26.  , 0, 0, b'1601',  56.4958, b'', b'S'),\n",
       "           (511, 1, 3, b'male', 29.  , 0, 0, b'382651',   7.75  , b'', b'Q'),\n",
       "           (512, 0, 3, b'male',   nan, 0, 0, b'SOTON/OQ 3101316',   8.05  , b'', b'S'),\n",
       "           (513, 1, 1, b'male', 36.  , 0, 0, b'PC 17473',  26.2875, b'E25', b'S'),\n",
       "           (514, 1, 1, b'female', 54.  , 1, 0, b'PC 17603',  59.4   , b'', b'C'),\n",
       "           (515, 0, 3, b'male', 24.  , 0, 0, b'349209',   7.4958, b'', b'S'),\n",
       "           (516, 0, 1, b'male', 47.  , 0, 0, b'36967',  34.0208, b'D46', b'S'),\n",
       "           (517, 1, 2, b'female', 34.  , 0, 0, b'C.A. 34260',  10.5   , b'F33', b'S'),\n",
       "           (518, 0, 3, b'male',   nan, 0, 0, b'371110',  24.15  , b'', b'Q'),\n",
       "           (519, 1, 2, b'female', 36.  , 1, 0, b'226875',  26.    , b'', b'S'),\n",
       "           (520, 0, 3, b'male', 32.  , 0, 0, b'349242',   7.8958, b'', b'S'),\n",
       "           (521, 1, 1, b'female', 30.  , 0, 0, b'12749',  93.5   , b'B73', b'S'),\n",
       "           (522, 0, 3, b'male', 22.  , 0, 0, b'349252',   7.8958, b'', b'S'),\n",
       "           (523, 0, 3, b'male',   nan, 0, 0, b'2624',   7.225 , b'', b'C'),\n",
       "           (524, 1, 1, b'female', 44.  , 0, 1, b'111361',  57.9792, b'B18', b'C'),\n",
       "           (525, 0, 3, b'male',   nan, 0, 0, b'2700',   7.2292, b'', b'C'),\n",
       "           (526, 0, 3, b'male', 40.5 , 0, 0, b'367232',   7.75  , b'', b'Q'),\n",
       "           (527, 1, 2, b'female', 50.  , 0, 0, b'W./C. 14258',  10.5   , b'', b'S'),\n",
       "           (528, 0, 1, b'male',   nan, 0, 0, b'PC 17483', 221.7792, b'C95', b'S'),\n",
       "           (529, 0, 3, b'male', 39.  , 0, 0, b'3101296',   7.925 , b'', b'S'),\n",
       "           (530, 0, 2, b'male', 23.  , 2, 1, b'29104',  11.5   , b'', b'S'),\n",
       "           (531, 1, 2, b'female',  2.  , 1, 1, b'26360',  26.    , b'', b'S'),\n",
       "           (532, 0, 3, b'male',   nan, 0, 0, b'2641',   7.2292, b'', b'C'),\n",
       "           (533, 0, 3, b'male', 17.  , 1, 1, b'2690',   7.2292, b'', b'C'),\n",
       "           (534, 1, 3, b'female',   nan, 0, 2, b'2668',  22.3583, b'', b'C'),\n",
       "           (535, 0, 3, b'female', 30.  , 0, 0, b'315084',   8.6625, b'', b'S'),\n",
       "           (536, 1, 2, b'female',  7.  , 0, 2, b'F.C.C. 13529',  26.25  , b'', b'S'),\n",
       "           (537, 0, 1, b'male', 45.  , 0, 0, b'113050',  26.55  , b'B38', b'S'),\n",
       "           (538, 1, 1, b'female', 30.  , 0, 0, b'PC 17761', 106.425 , b'', b'C'),\n",
       "           (539, 0, 3, b'male',   nan, 0, 0, b'364498',  14.5   , b'', b'S'),\n",
       "           (540, 1, 1, b'female', 22.  , 0, 2, b'13568',  49.5   , b'B39', b'C'),\n",
       "           (541, 1, 1, b'female', 36.  , 0, 2, b'WE/P 5735',  71.    , b'B22', b'S'),\n",
       "           (542, 0, 3, b'female',  9.  , 4, 2, b'347082',  31.275 , b'', b'S'),\n",
       "           (543, 0, 3, b'female', 11.  , 4, 2, b'347082',  31.275 , b'', b'S'),\n",
       "           (544, 1, 2, b'male', 32.  , 1, 0, b'2908',  26.    , b'', b'S'),\n",
       "           (545, 0, 1, b'male', 50.  , 1, 0, b'PC 17761', 106.425 , b'C86', b'C'),\n",
       "           (546, 0, 1, b'male', 64.  , 0, 0, b'693',  26.    , b'', b'S'),\n",
       "           (547, 1, 2, b'female', 19.  , 1, 0, b'2908',  26.    , b'', b'S'),\n",
       "           (548, 1, 2, b'male',   nan, 0, 0, b'SC/PARIS 2146',  13.8625, b'', b'C'),\n",
       "           (549, 0, 3, b'male', 33.  , 1, 1, b'363291',  20.525 , b'', b'S'),\n",
       "           (550, 1, 2, b'male',  8.  , 1, 1, b'C.A. 33112',  36.75  , b'', b'S'),\n",
       "           (551, 1, 1, b'male', 17.  , 0, 2, b'17421', 110.8833, b'C70', b'C'),\n",
       "           (552, 0, 2, b'male', 27.  , 0, 0, b'244358',  26.    , b'', b'S'),\n",
       "           (553, 0, 3, b'male',   nan, 0, 0, b'330979',   7.8292, b'', b'Q'),\n",
       "           (554, 1, 3, b'male', 22.  , 0, 0, b'2620',   7.225 , b'', b'C'),\n",
       "           (555, 1, 3, b'female', 22.  , 0, 0, b'347085',   7.775 , b'', b'S'),\n",
       "           (556, 0, 1, b'male', 62.  , 0, 0, b'113807',  26.55  , b'', b'S'),\n",
       "           (557, 1, 1, b'female', 48.  , 1, 0, b'11755',  39.6   , b'A16', b'C'),\n",
       "           (558, 0, 1, b'male',   nan, 0, 0, b'PC 17757', 227.525 , b'', b'C'),\n",
       "           (559, 1, 1, b'female', 39.  , 1, 1, b'110413',  79.65  , b'E67', b'S'),\n",
       "           (560, 1, 3, b'female', 36.  , 1, 0, b'345572',  17.4   , b'', b'S'),\n",
       "           (561, 0, 3, b'male',   nan, 0, 0, b'372622',   7.75  , b'', b'Q'),\n",
       "           (562, 0, 3, b'male', 40.  , 0, 0, b'349251',   7.8958, b'', b'S'),\n",
       "           (563, 0, 2, b'male', 28.  , 0, 0, b'218629',  13.5   , b'', b'S'),\n",
       "           (564, 0, 3, b'male',   nan, 0, 0, b'SOTON/OQ 392082',   8.05  , b'', b'S'),\n",
       "           (565, 0, 3, b'female',   nan, 0, 0, b'SOTON/O.Q. 392087',   8.05  , b'', b'S'),\n",
       "           (566, 0, 3, b'male', 24.  , 2, 0, b'A/4 48871',  24.15  , b'', b'S'),\n",
       "           (567, 0, 3, b'male', 19.  , 0, 0, b'349205',   7.8958, b'', b'S'),\n",
       "           (568, 0, 3, b'female', 29.  , 0, 4, b'349909',  21.075 , b'', b'S'),\n",
       "           (569, 0, 3, b'male',   nan, 0, 0, b'2686',   7.2292, b'', b'C'),\n",
       "           (570, 1, 3, b'male', 32.  , 0, 0, b'350417',   7.8542, b'', b'S'),\n",
       "           (571, 1, 2, b'male', 62.  , 0, 0, b'S.W./PP 752',  10.5   , b'', b'S'),\n",
       "           (572, 1, 1, b'female', 53.  , 2, 0, b'11769',  51.4792, b'C101', b'S'),\n",
       "           (573, 1, 1, b'male', 36.  , 0, 0, b'PC 17474',  26.3875, b'E25', b'S'),\n",
       "           (574, 1, 3, b'female',   nan, 0, 0, b'14312',   7.75  , b'', b'Q'),\n",
       "           (575, 0, 3, b'male', 16.  , 0, 0, b'A/4. 20589',   8.05  , b'', b'S'),\n",
       "           (576, 0, 3, b'male', 19.  , 0, 0, b'358585',  14.5   , b'', b'S'),\n",
       "           (577, 1, 2, b'female', 34.  , 0, 0, b'243880',  13.    , b'', b'S'),\n",
       "           (578, 1, 1, b'female', 39.  , 1, 0, b'13507',  55.9   , b'E44', b'S'),\n",
       "           (579, 0, 3, b'female',   nan, 1, 0, b'2689',  14.4583, b'', b'C'),\n",
       "           (580, 1, 3, b'male', 32.  , 0, 0, b'STON/O 2. 3101286',   7.925 , b'', b'S'),\n",
       "           (581, 1, 2, b'female', 25.  , 1, 1, b'237789',  30.    , b'', b'S'),\n",
       "           (582, 1, 1, b'female', 39.  , 1, 1, b'17421', 110.8833, b'C68', b'C'),\n",
       "           (583, 0, 2, b'male', 54.  , 0, 0, b'28403',  26.    , b'', b'S'),\n",
       "           (584, 0, 1, b'male', 36.  , 0, 0, b'13049',  40.125 , b'A10', b'C'),\n",
       "           (585, 0, 3, b'male',   nan, 0, 0, b'3411',   8.7125, b'', b'C'),\n",
       "           (586, 1, 1, b'female', 18.  , 0, 2, b'110413',  79.65  , b'E68', b'S'),\n",
       "           (587, 0, 2, b'male', 47.  , 0, 0, b'237565',  15.    , b'', b'S'),\n",
       "           (588, 1, 1, b'male', 60.  , 1, 1, b'13567',  79.2   , b'B41', b'C'),\n",
       "           (589, 0, 3, b'male', 22.  , 0, 0, b'14973',   8.05  , b'', b'S'),\n",
       "           (590, 0, 3, b'male',   nan, 0, 0, b'A./5. 3235',   8.05  , b'', b'S'),\n",
       "           (591, 0, 3, b'male', 35.  , 0, 0, b'STON/O 2. 3101273',   7.125 , b'', b'S'),\n",
       "           (592, 1, 1, b'female', 52.  , 1, 0, b'36947',  78.2667, b'D20', b'C'),\n",
       "           (593, 0, 3, b'male', 47.  , 0, 0, b'A/5 3902',   7.25  , b'', b'S'),\n",
       "           (594, 0, 3, b'female',   nan, 0, 2, b'364848',   7.75  , b'', b'Q'),\n",
       "           (595, 0, 2, b'male', 37.  , 1, 0, b'SC/AH 29037',  26.    , b'', b'S'),\n",
       "           (596, 0, 3, b'male', 36.  , 1, 1, b'345773',  24.15  , b'', b'S'),\n",
       "           (597, 1, 2, b'female',   nan, 0, 0, b'248727',  33.    , b'', b'S'),\n",
       "           (598, 0, 3, b'male', 49.  , 0, 0, b'LINE',   0.    , b'', b'S'),\n",
       "           (599, 0, 3, b'male',   nan, 0, 0, b'2664',   7.225 , b'', b'C'),\n",
       "           (600, 1, 1, b'male', 49.  , 1, 0, b'PC 17485',  56.9292, b'A20', b'C'),\n",
       "           (601, 1, 2, b'female', 24.  , 2, 1, b'243847',  27.    , b'', b'S'),\n",
       "           (602, 0, 3, b'male',   nan, 0, 0, b'349214',   7.8958, b'', b'S'),\n",
       "           (603, 0, 1, b'male',   nan, 0, 0, b'113796',  42.4   , b'', b'S'),\n",
       "           (604, 0, 3, b'male', 44.  , 0, 0, b'364511',   8.05  , b'', b'S'),\n",
       "           (605, 1, 1, b'male', 35.  , 0, 0, b'111426',  26.55  , b'', b'C'),\n",
       "           (606, 0, 3, b'male', 36.  , 1, 0, b'349910',  15.55  , b'', b'S'),\n",
       "           (607, 0, 3, b'male', 30.  , 0, 0, b'349246',   7.8958, b'', b'S'),\n",
       "           (608, 1, 1, b'male', 27.  , 0, 0, b'113804',  30.5   , b'', b'S'),\n",
       "           (609, 1, 2, b'female', 22.  , 1, 2, b'SC/Paris 2123',  41.5792, b'', b'C'),\n",
       "           (610, 1, 1, b'female', 40.  , 0, 0, b'PC 17582', 153.4625, b'C125', b'S'),\n",
       "           (611, 0, 3, b'female', 39.  , 1, 5, b'347082',  31.275 , b'', b'S'),\n",
       "           (612, 0, 3, b'male',   nan, 0, 0, b'SOTON/O.Q. 3101305',   7.05  , b'', b'S'),\n",
       "           (613, 1, 3, b'female',   nan, 1, 0, b'367230',  15.5   , b'', b'Q'),\n",
       "           (614, 0, 3, b'male',   nan, 0, 0, b'370377',   7.75  , b'', b'Q'),\n",
       "           (615, 0, 3, b'male', 35.  , 0, 0, b'364512',   8.05  , b'', b'S'),\n",
       "           (616, 1, 2, b'female', 24.  , 1, 2, b'220845',  65.    , b'', b'S'),\n",
       "           (617, 0, 3, b'male', 34.  , 1, 1, b'347080',  14.4   , b'', b'S'),\n",
       "           (618, 0, 3, b'female', 26.  , 1, 0, b'A/5. 3336',  16.1   , b'', b'S'),\n",
       "           (619, 1, 2, b'female',  4.  , 2, 1, b'230136',  39.    , b'F4', b'S'),\n",
       "           (620, 0, 2, b'male', 26.  , 0, 0, b'31028',  10.5   , b'', b'S'),\n",
       "           (621, 0, 3, b'male', 27.  , 1, 0, b'2659',  14.4542, b'', b'C'),\n",
       "           (622, 1, 1, b'male', 42.  , 1, 0, b'11753',  52.5542, b'D19', b'S'),\n",
       "           (623, 1, 3, b'male', 20.  , 1, 1, b'2653',  15.7417, b'', b'C'),\n",
       "           (624, 0, 3, b'male', 21.  , 0, 0, b'350029',   7.8542, b'', b'S'),\n",
       "           (625, 0, 3, b'male', 21.  , 0, 0, b'54636',  16.1   , b'', b'S'),\n",
       "           (626, 0, 1, b'male', 61.  , 0, 0, b'36963',  32.3208, b'D50', b'S'),\n",
       "           (627, 0, 2, b'male', 57.  , 0, 0, b'219533',  12.35  , b'', b'Q'),\n",
       "           (628, 1, 1, b'female', 21.  , 0, 0, b'13502',  77.9583, b'D9', b'S'),\n",
       "           (629, 0, 3, b'male', 26.  , 0, 0, b'349224',   7.8958, b'', b'S'),\n",
       "           (630, 0, 3, b'male',   nan, 0, 0, b'334912',   7.7333, b'', b'Q'),\n",
       "           (631, 1, 1, b'male', 80.  , 0, 0, b'27042',  30.    , b'A23', b'S'),\n",
       "           (632, 0, 3, b'male', 51.  , 0, 0, b'347743',   7.0542, b'', b'S'),\n",
       "           (633, 1, 1, b'male', 32.  , 0, 0, b'13214',  30.5   , b'B50', b'C'),\n",
       "           (634, 0, 1, b'male',   nan, 0, 0, b'112052',   0.    , b'', b'S'),\n",
       "           (635, 0, 3, b'female',  9.  , 3, 2, b'347088',  27.9   , b'', b'S'),\n",
       "           (636, 1, 2, b'female', 28.  , 0, 0, b'237668',  13.    , b'', b'S'),\n",
       "           (637, 0, 3, b'male', 32.  , 0, 0, b'STON/O 2. 3101292',   7.925 , b'', b'S'),\n",
       "           (638, 0, 2, b'male', 31.  , 1, 1, b'C.A. 31921',  26.25  , b'', b'S'),\n",
       "           (639, 0, 3, b'female', 41.  , 0, 5, b'3101295',  39.6875, b'', b'S'),\n",
       "           (640, 0, 3, b'male',   nan, 1, 0, b'376564',  16.1   , b'', b'S'),\n",
       "           (641, 0, 3, b'male', 20.  , 0, 0, b'350050',   7.8542, b'', b'S'),\n",
       "           (642, 1, 1, b'female', 24.  , 0, 0, b'PC 17477',  69.3   , b'B35', b'C'),\n",
       "           (643, 0, 3, b'female',  2.  , 3, 2, b'347088',  27.9   , b'', b'S'),\n",
       "           (644, 1, 3, b'male',   nan, 0, 0, b'1601',  56.4958, b'', b'S'),\n",
       "           (645, 1, 3, b'female',  0.75, 2, 1, b'2666',  19.2583, b'', b'C'),\n",
       "           (646, 1, 1, b'male', 48.  , 1, 0, b'PC 17572',  76.7292, b'D33', b'C'),\n",
       "           (647, 0, 3, b'male', 19.  , 0, 0, b'349231',   7.8958, b'', b'S'),\n",
       "           (648, 1, 1, b'male', 56.  , 0, 0, b'13213',  35.5   , b'A26', b'C'),\n",
       "           (649, 0, 3, b'male',   nan, 0, 0, b'S.O./P.P. 751',   7.55  , b'', b'S'),\n",
       "           (650, 1, 3, b'female', 23.  , 0, 0, b'CA. 2314',   7.55  , b'', b'S'),\n",
       "           (651, 0, 3, b'male',   nan, 0, 0, b'349221',   7.8958, b'', b'S'),\n",
       "           (652, 1, 2, b'female', 18.  , 0, 1, b'231919',  23.    , b'', b'S'),\n",
       "           (653, 0, 3, b'male', 21.  , 0, 0, b'8475',   8.4333, b'', b'S'),\n",
       "           (654, 1, 3, b'female',   nan, 0, 0, b'330919',   7.8292, b'', b'Q'),\n",
       "           (655, 0, 3, b'female', 18.  , 0, 0, b'365226',   6.75  , b'', b'Q'),\n",
       "           (656, 0, 2, b'male', 24.  , 2, 0, b'S.O.C. 14879',  73.5   , b'', b'S'),\n",
       "           (657, 0, 3, b'male',   nan, 0, 0, b'349223',   7.8958, b'', b'S'),\n",
       "           (658, 0, 3, b'female', 32.  , 1, 1, b'364849',  15.5   , b'', b'Q'),\n",
       "           (659, 0, 2, b'male', 23.  , 0, 0, b'29751',  13.    , b'', b'S'),\n",
       "           (660, 0, 1, b'male', 58.  , 0, 2, b'35273', 113.275 , b'D48', b'C'),\n",
       "           (661, 1, 1, b'male', 50.  , 2, 0, b'PC 17611', 133.65  , b'', b'S'),\n",
       "           (662, 0, 3, b'male', 40.  , 0, 0, b'2623',   7.225 , b'', b'C'),\n",
       "           (663, 0, 1, b'male', 47.  , 0, 0, b'5727',  25.5875, b'E58', b'S'),\n",
       "           (664, 0, 3, b'male', 36.  , 0, 0, b'349210',   7.4958, b'', b'S'),\n",
       "           (665, 1, 3, b'male', 20.  , 1, 0, b'STON/O 2. 3101285',   7.925 , b'', b'S'),\n",
       "           (666, 0, 2, b'male', 32.  , 2, 0, b'S.O.C. 14879',  73.5   , b'', b'S'),\n",
       "           (667, 0, 2, b'male', 25.  , 0, 0, b'234686',  13.    , b'', b'S'),\n",
       "           (668, 0, 3, b'male',   nan, 0, 0, b'312993',   7.775 , b'', b'S'),\n",
       "           (669, 0, 3, b'male', 43.  , 0, 0, b'A/5 3536',   8.05  , b'', b'S'),\n",
       "           (670, 1, 1, b'female',   nan, 1, 0, b'19996',  52.    , b'C126', b'S'),\n",
       "           (671, 1, 2, b'female', 40.  , 1, 1, b'29750',  39.    , b'', b'S'),\n",
       "           (672, 0, 1, b'male', 31.  , 1, 0, b'F.C. 12750',  52.    , b'B71', b'S'),\n",
       "           (673, 0, 2, b'male', 70.  , 0, 0, b'C.A. 24580',  10.5   , b'', b'S'),\n",
       "           (674, 1, 2, b'male', 31.  , 0, 0, b'244270',  13.    , b'', b'S'),\n",
       "           (675, 0, 2, b'male',   nan, 0, 0, b'239856',   0.    , b'', b'S'),\n",
       "           (676, 0, 3, b'male', 18.  , 0, 0, b'349912',   7.775 , b'', b'S'),\n",
       "           (677, 0, 3, b'male', 24.5 , 0, 0, b'342826',   8.05  , b'', b'S'),\n",
       "           (678, 1, 3, b'female', 18.  , 0, 0, b'4138',   9.8417, b'', b'S'),\n",
       "           (679, 0, 3, b'female', 43.  , 1, 6, b'CA 2144',  46.9   , b'', b'S'),\n",
       "           (680, 1, 1, b'male', 36.  , 0, 1, b'PC 17755', 512.3292, b'B51 B53 B55', b'C'),\n",
       "           (681, 0, 3, b'female',   nan, 0, 0, b'330935',   8.1375, b'', b'Q'),\n",
       "           (682, 1, 1, b'male', 27.  , 0, 0, b'PC 17572',  76.7292, b'D49', b'C'),\n",
       "           (683, 0, 3, b'male', 20.  , 0, 0, b'6563',   9.225 , b'', b'S'),\n",
       "           (684, 0, 3, b'male', 14.  , 5, 2, b'CA 2144',  46.9   , b'', b'S'),\n",
       "           (685, 0, 2, b'male', 60.  , 1, 1, b'29750',  39.    , b'', b'S'),\n",
       "           (686, 0, 2, b'male', 25.  , 1, 2, b'SC/Paris 2123',  41.5792, b'', b'C'),\n",
       "           (687, 0, 3, b'male', 14.  , 4, 1, b'3101295',  39.6875, b'', b'S'),\n",
       "           (688, 0, 3, b'male', 19.  , 0, 0, b'349228',  10.1708, b'', b'S'),\n",
       "           (689, 0, 3, b'male', 18.  , 0, 0, b'350036',   7.7958, b'', b'S'),\n",
       "           (690, 1, 1, b'female', 15.  , 0, 1, b'24160', 211.3375, b'B5', b'S'),\n",
       "           (691, 1, 1, b'male', 31.  , 1, 0, b'17474',  57.    , b'B20', b'S'),\n",
       "           (692, 1, 3, b'female',  4.  , 0, 1, b'349256',  13.4167, b'', b'C'),\n",
       "           (693, 1, 3, b'male',   nan, 0, 0, b'1601',  56.4958, b'', b'S'),\n",
       "           (694, 0, 3, b'male', 25.  , 0, 0, b'2672',   7.225 , b'', b'C'),\n",
       "           (695, 0, 1, b'male', 60.  , 0, 0, b'113800',  26.55  , b'', b'S'),\n",
       "           (696, 0, 2, b'male', 52.  , 0, 0, b'248731',  13.5   , b'', b'S'),\n",
       "           (697, 0, 3, b'male', 44.  , 0, 0, b'363592',   8.05  , b'', b'S'),\n",
       "           (698, 1, 3, b'female',   nan, 0, 0, b'35852',   7.7333, b'', b'Q'),\n",
       "           (699, 0, 1, b'male', 49.  , 1, 1, b'17421', 110.8833, b'C68', b'C'),\n",
       "           (700, 0, 3, b'male', 42.  , 0, 0, b'348121',   7.65  , b'F G63', b'S'),\n",
       "           (701, 1, 1, b'female', 18.  , 1, 0, b'PC 17757', 227.525 , b'C62 C64', b'C'),\n",
       "           (702, 1, 1, b'male', 35.  , 0, 0, b'PC 17475',  26.2875, b'E24', b'S'),\n",
       "           (703, 0, 3, b'female', 18.  , 0, 1, b'2691',  14.4542, b'', b'C'),\n",
       "           (704, 0, 3, b'male', 25.  , 0, 0, b'36864',   7.7417, b'', b'Q'),\n",
       "           (705, 0, 3, b'male', 26.  , 1, 0, b'350025',   7.8542, b'', b'S'),\n",
       "           (706, 0, 2, b'male', 39.  , 0, 0, b'250655',  26.    , b'', b'S'),\n",
       "           (707, 1, 2, b'female', 45.  , 0, 0, b'223596',  13.5   , b'', b'S'),\n",
       "           (708, 1, 1, b'male', 42.  , 0, 0, b'PC 17476',  26.2875, b'E24', b'S'),\n",
       "           (709, 1, 1, b'female', 22.  , 0, 0, b'113781', 151.55  , b'', b'S'),\n",
       "           (710, 1, 3, b'male',   nan, 1, 1, b'2661',  15.2458, b'', b'C'),\n",
       "           (711, 1, 1, b'female', 24.  , 0, 0, b'PC 17482',  49.5042, b'C90', b'C'),\n",
       "           (712, 0, 1, b'male',   nan, 0, 0, b'113028',  26.55  , b'C124', b'S'),\n",
       "           (713, 1, 1, b'male', 48.  , 1, 0, b'19996',  52.    , b'C126', b'S'),\n",
       "           (714, 0, 3, b'male', 29.  , 0, 0, b'7545',   9.4833, b'', b'S'),\n",
       "           (715, 0, 2, b'male', 52.  , 0, 0, b'250647',  13.    , b'', b'S'),\n",
       "           (716, 0, 3, b'male', 19.  , 0, 0, b'348124',   7.65  , b'F G73', b'S'),\n",
       "           (717, 1, 1, b'female', 38.  , 0, 0, b'PC 17757', 227.525 , b'C45', b'C'),\n",
       "           (718, 1, 2, b'female', 27.  , 0, 0, b'34218',  10.5   , b'E101', b'S'),\n",
       "           (719, 0, 3, b'male',   nan, 0, 0, b'36568',  15.5   , b'', b'Q'),\n",
       "           (720, 0, 3, b'male', 33.  , 0, 0, b'347062',   7.775 , b'', b'S'),\n",
       "           (721, 1, 2, b'female',  6.  , 0, 1, b'248727',  33.    , b'', b'S'),\n",
       "           (722, 0, 3, b'male', 17.  , 1, 0, b'350048',   7.0542, b'', b'S'),\n",
       "           (723, 0, 2, b'male', 34.  , 0, 0, b'12233',  13.    , b'', b'S'),\n",
       "           (724, 0, 2, b'male', 50.  , 0, 0, b'250643',  13.    , b'', b'S'),\n",
       "           (725, 1, 1, b'male', 27.  , 1, 0, b'113806',  53.1   , b'E8', b'S'),\n",
       "           (726, 0, 3, b'male', 20.  , 0, 0, b'315094',   8.6625, b'', b'S'),\n",
       "           (727, 1, 2, b'female', 30.  , 3, 0, b'31027',  21.    , b'', b'S'),\n",
       "           (728, 1, 3, b'female',   nan, 0, 0, b'36866',   7.7375, b'', b'Q'),\n",
       "           (729, 0, 2, b'male', 25.  , 1, 0, b'236853',  26.    , b'', b'S'),\n",
       "           (730, 0, 3, b'female', 25.  , 1, 0, b'STON/O2. 3101271',   7.925 , b'', b'S'),\n",
       "           (731, 1, 1, b'female', 29.  , 0, 0, b'24160', 211.3375, b'B5', b'S'),\n",
       "           (732, 0, 3, b'male', 11.  , 0, 0, b'2699',  18.7875, b'', b'C'),\n",
       "           (733, 0, 2, b'male',   nan, 0, 0, b'239855',   0.    , b'', b'S'),\n",
       "           (734, 0, 2, b'male', 23.  , 0, 0, b'28425',  13.    , b'', b'S'),\n",
       "           (735, 0, 2, b'male', 23.  , 0, 0, b'233639',  13.    , b'', b'S'),\n",
       "           (736, 0, 3, b'male', 28.5 , 0, 0, b'54636',  16.1   , b'', b'S'),\n",
       "           (737, 0, 3, b'female', 48.  , 1, 3, b'W./C. 6608',  34.375 , b'', b'S'),\n",
       "           (738, 1, 1, b'male', 35.  , 0, 0, b'PC 17755', 512.3292, b'B101', b'C'),\n",
       "           (739, 0, 3, b'male',   nan, 0, 0, b'349201',   7.8958, b'', b'S'),\n",
       "           (740, 0, 3, b'male',   nan, 0, 0, b'349218',   7.8958, b'', b'S'),\n",
       "           (741, 1, 1, b'male',   nan, 0, 0, b'16988',  30.    , b'D45', b'S'),\n",
       "           (742, 0, 1, b'male', 36.  , 1, 0, b'19877',  78.85  , b'C46', b'S'),\n",
       "           (743, 1, 1, b'female', 21.  , 2, 2, b'PC 17608', 262.375 , b'B57 B59 B63 B66', b'C'),\n",
       "           (744, 0, 3, b'male', 24.  , 1, 0, b'376566',  16.1   , b'', b'S'),\n",
       "           (745, 1, 3, b'male', 31.  , 0, 0, b'STON/O 2. 3101288',   7.925 , b'', b'S'),\n",
       "           (746, 0, 1, b'male', 70.  , 1, 1, b'WE/P 5735',  71.    , b'B22', b'S'),\n",
       "           (747, 0, 3, b'male', 16.  , 1, 1, b'C.A. 2673',  20.25  , b'', b'S'),\n",
       "           (748, 1, 2, b'female', 30.  , 0, 0, b'250648',  13.    , b'', b'S'),\n",
       "           (749, 0, 1, b'male', 19.  , 1, 0, b'113773',  53.1   , b'D30', b'S'),\n",
       "           (750, 0, 3, b'male', 31.  , 0, 0, b'335097',   7.75  , b'', b'Q'),\n",
       "           (751, 1, 2, b'female',  4.  , 1, 1, b'29103',  23.    , b'', b'S'),\n",
       "           (752, 1, 3, b'male',  6.  , 0, 1, b'392096',  12.475 , b'E121', b'S'),\n",
       "           (753, 0, 3, b'male', 33.  , 0, 0, b'345780',   9.5   , b'', b'S'),\n",
       "           (754, 0, 3, b'male', 23.  , 0, 0, b'349204',   7.8958, b'', b'S'),\n",
       "           (755, 1, 2, b'female', 48.  , 1, 2, b'220845',  65.    , b'', b'S'),\n",
       "           (756, 1, 2, b'male',  0.67, 1, 1, b'250649',  14.5   , b'', b'S'),\n",
       "           (757, 0, 3, b'male', 28.  , 0, 0, b'350042',   7.7958, b'', b'S'),\n",
       "           (758, 0, 2, b'male', 18.  , 0, 0, b'29108',  11.5   , b'', b'S'),\n",
       "           (759, 0, 3, b'male', 34.  , 0, 0, b'363294',   8.05  , b'', b'S'),\n",
       "           (760, 1, 1, b'female', 33.  , 0, 0, b'110152',  86.5   , b'B77', b'S'),\n",
       "           (761, 0, 3, b'male',   nan, 0, 0, b'358585',  14.5   , b'', b'S'),\n",
       "           (762, 0, 3, b'male', 41.  , 0, 0, b'SOTON/O2 3101272',   7.125 , b'', b'S'),\n",
       "           (763, 1, 3, b'male', 20.  , 0, 0, b'2663',   7.2292, b'', b'C'),\n",
       "           (764, 1, 1, b'female', 36.  , 1, 2, b'113760', 120.    , b'B96 B98', b'S'),\n",
       "           (765, 0, 3, b'male', 16.  , 0, 0, b'347074',   7.775 , b'', b'S'),\n",
       "           (766, 1, 1, b'female', 51.  , 1, 0, b'13502',  77.9583, b'D11', b'S'),\n",
       "           (767, 0, 1, b'male',   nan, 0, 0, b'112379',  39.6   , b'', b'C'),\n",
       "           (768, 0, 3, b'female', 30.5 , 0, 0, b'364850',   7.75  , b'', b'Q'),\n",
       "           (769, 0, 3, b'male',   nan, 1, 0, b'371110',  24.15  , b'', b'Q'),\n",
       "           (770, 0, 3, b'male', 32.  , 0, 0, b'8471',   8.3625, b'', b'S'),\n",
       "           (771, 0, 3, b'male', 24.  , 0, 0, b'345781',   9.5   , b'', b'S'),\n",
       "           (772, 0, 3, b'male', 48.  , 0, 0, b'350047',   7.8542, b'', b'S'),\n",
       "           (773, 0, 2, b'female', 57.  , 0, 0, b'S.O./P.P. 3',  10.5   , b'E77', b'S'),\n",
       "           (774, 0, 3, b'male',   nan, 0, 0, b'2674',   7.225 , b'', b'C'),\n",
       "           (775, 1, 2, b'female', 54.  , 1, 3, b'29105',  23.    , b'', b'S'),\n",
       "           (776, 0, 3, b'male', 18.  , 0, 0, b'347078',   7.75  , b'', b'S'),\n",
       "           (777, 0, 3, b'male',   nan, 0, 0, b'383121',   7.75  , b'F38', b'Q'),\n",
       "           (778, 1, 3, b'female',  5.  , 0, 0, b'364516',  12.475 , b'', b'S'),\n",
       "           (779, 0, 3, b'male',   nan, 0, 0, b'36865',   7.7375, b'', b'Q'),\n",
       "           (780, 1, 1, b'female', 43.  , 0, 1, b'24160', 211.3375, b'B3', b'S'),\n",
       "           (781, 1, 3, b'female', 13.  , 0, 0, b'2687',   7.2292, b'', b'C'),\n",
       "           (782, 1, 1, b'female', 17.  , 1, 0, b'17474',  57.    , b'B20', b'S'),\n",
       "           (783, 0, 1, b'male', 29.  , 0, 0, b'113501',  30.    , b'D6', b'S'),\n",
       "           (784, 0, 3, b'male',   nan, 1, 2, b'W./C. 6607',  23.45  , b'', b'S'),\n",
       "           (785, 0, 3, b'male', 25.  , 0, 0, b'SOTON/O.Q. 3101312',   7.05  , b'', b'S'),\n",
       "           (786, 0, 3, b'male', 25.  , 0, 0, b'374887',   7.25  , b'', b'S'),\n",
       "           (787, 1, 3, b'female', 18.  , 0, 0, b'3101265',   7.4958, b'', b'S'),\n",
       "           (788, 0, 3, b'male',  8.  , 4, 1, b'382652',  29.125 , b'', b'Q'),\n",
       "           (789, 1, 3, b'male',  1.  , 1, 2, b'C.A. 2315',  20.575 , b'', b'S'),\n",
       "           (790, 0, 1, b'male', 46.  , 0, 0, b'PC 17593',  79.2   , b'B82 B84', b'C'),\n",
       "           (791, 0, 3, b'male',   nan, 0, 0, b'12460',   7.75  , b'', b'Q'),\n",
       "           (792, 0, 2, b'male', 16.  , 0, 0, b'239865',  26.    , b'', b'S'),\n",
       "           (793, 0, 3, b'female',   nan, 8, 2, b'CA. 2343',  69.55  , b'', b'S'),\n",
       "           (794, 0, 1, b'male',   nan, 0, 0, b'PC 17600',  30.6958, b'', b'C'),\n",
       "           (795, 0, 3, b'male', 25.  , 0, 0, b'349203',   7.8958, b'', b'S'),\n",
       "           (796, 0, 2, b'male', 39.  , 0, 0, b'28213',  13.    , b'', b'S'),\n",
       "           (797, 1, 1, b'female', 49.  , 0, 0, b'17465',  25.9292, b'D17', b'S'),\n",
       "           (798, 1, 3, b'female', 31.  , 0, 0, b'349244',   8.6833, b'', b'S'),\n",
       "           (799, 0, 3, b'male', 30.  , 0, 0, b'2685',   7.2292, b'', b'C'),\n",
       "           (800, 0, 3, b'female', 30.  , 1, 1, b'345773',  24.15  , b'', b'S'),\n",
       "           (801, 0, 2, b'male', 34.  , 0, 0, b'250647',  13.    , b'', b'S'),\n",
       "           (802, 1, 2, b'female', 31.  , 1, 1, b'C.A. 31921',  26.25  , b'', b'S'),\n",
       "           (803, 1, 1, b'male', 11.  , 1, 2, b'113760', 120.    , b'B96 B98', b'S'),\n",
       "           (804, 1, 3, b'male',  0.42, 0, 1, b'2625',   8.5167, b'', b'C'),\n",
       "           (805, 1, 3, b'male', 27.  , 0, 0, b'347089',   6.975 , b'', b'S'),\n",
       "           (806, 0, 3, b'male', 31.  , 0, 0, b'347063',   7.775 , b'', b'S'),\n",
       "           (807, 0, 1, b'male', 39.  , 0, 0, b'112050',   0.    , b'A36', b'S'),\n",
       "           (808, 0, 3, b'female', 18.  , 0, 0, b'347087',   7.775 , b'', b'S'),\n",
       "           (809, 0, 2, b'male', 39.  , 0, 0, b'248723',  13.    , b'', b'S'),\n",
       "           (810, 1, 1, b'female', 33.  , 1, 0, b'113806',  53.1   , b'E8', b'S'),\n",
       "           (811, 0, 3, b'male', 26.  , 0, 0, b'3474',   7.8875, b'', b'S'),\n",
       "           (812, 0, 3, b'male', 39.  , 0, 0, b'A/4 48871',  24.15  , b'', b'S'),\n",
       "           (813, 0, 2, b'male', 35.  , 0, 0, b'28206',  10.5   , b'', b'S'),\n",
       "           (814, 0, 3, b'female',  6.  , 4, 2, b'347082',  31.275 , b'', b'S'),\n",
       "           (815, 0, 3, b'male', 30.5 , 0, 0, b'364499',   8.05  , b'', b'S'),\n",
       "           (816, 0, 1, b'male',   nan, 0, 0, b'112058',   0.    , b'B102', b'S'),\n",
       "           (817, 0, 3, b'female', 23.  , 0, 0, b'STON/O2. 3101290',   7.925 , b'', b'S'),\n",
       "           (818, 0, 2, b'male', 31.  , 1, 1, b'S.C./PARIS 2079',  37.0042, b'', b'C'),\n",
       "           (819, 0, 3, b'male', 43.  , 0, 0, b'C 7075',   6.45  , b'', b'S'),\n",
       "           (820, 0, 3, b'male', 10.  , 3, 2, b'347088',  27.9   , b'', b'S'),\n",
       "           (821, 1, 1, b'female', 52.  , 1, 1, b'12749',  93.5   , b'B69', b'S'),\n",
       "           (822, 1, 3, b'male', 27.  , 0, 0, b'315098',   8.6625, b'', b'S'),\n",
       "           (823, 0, 1, b'male', 38.  , 0, 0, b'19972',   0.    , b'', b'S'),\n",
       "           (824, 1, 3, b'female', 27.  , 0, 1, b'392096',  12.475 , b'E121', b'S'),\n",
       "           (825, 0, 3, b'male',  2.  , 4, 1, b'3101295',  39.6875, b'', b'S'),\n",
       "           (826, 0, 3, b'male',   nan, 0, 0, b'368323',   6.95  , b'', b'Q'),\n",
       "           (827, 0, 3, b'male',   nan, 0, 0, b'1601',  56.4958, b'', b'S'),\n",
       "           (828, 1, 2, b'male',  1.  , 0, 2, b'S.C./PARIS 2079',  37.0042, b'', b'C'),\n",
       "           (829, 1, 3, b'male',   nan, 0, 0, b'367228',   7.75  , b'', b'Q'),\n",
       "           (830, 1, 1, b'female', 62.  , 0, 0, b'113572',  80.    , b'B28', b''),\n",
       "           (831, 1, 3, b'female', 15.  , 1, 0, b'2659',  14.4542, b'', b'C'),\n",
       "           (832, 1, 2, b'male',  0.83, 1, 1, b'29106',  18.75  , b'', b'S'),\n",
       "           (833, 0, 3, b'male',   nan, 0, 0, b'2671',   7.2292, b'', b'C'),\n",
       "           (834, 0, 3, b'male', 23.  , 0, 0, b'347468',   7.8542, b'', b'S'),\n",
       "           (835, 0, 3, b'male', 18.  , 0, 0, b'2223',   8.3   , b'', b'S'),\n",
       "           (836, 1, 1, b'female', 39.  , 1, 1, b'PC 17756',  83.1583, b'E49', b'C'),\n",
       "           (837, 0, 3, b'male', 21.  , 0, 0, b'315097',   8.6625, b'', b'S'),\n",
       "           (838, 0, 3, b'male',   nan, 0, 0, b'392092',   8.05  , b'', b'S'),\n",
       "           (839, 1, 3, b'male', 32.  , 0, 0, b'1601',  56.4958, b'', b'S'),\n",
       "           (840, 1, 1, b'male',   nan, 0, 0, b'11774',  29.7   , b'C47', b'C'),\n",
       "           (841, 0, 3, b'male', 20.  , 0, 0, b'SOTON/O2 3101287',   7.925 , b'', b'S'),\n",
       "           (842, 0, 2, b'male', 16.  , 0, 0, b'S.O./P.P. 3',  10.5   , b'', b'S'),\n",
       "           (843, 1, 1, b'female', 30.  , 0, 0, b'113798',  31.    , b'', b'C'),\n",
       "           (844, 0, 3, b'male', 34.5 , 0, 0, b'2683',   6.4375, b'', b'C'),\n",
       "           (845, 0, 3, b'male', 17.  , 0, 0, b'315090',   8.6625, b'', b'S'),\n",
       "           (846, 0, 3, b'male', 42.  , 0, 0, b'C.A. 5547',   7.55  , b'', b'S'),\n",
       "           (847, 0, 3, b'male',   nan, 8, 2, b'CA. 2343',  69.55  , b'', b'S'),\n",
       "           (848, 0, 3, b'male', 35.  , 0, 0, b'349213',   7.8958, b'', b'C'),\n",
       "           (849, 0, 2, b'male', 28.  , 0, 1, b'248727',  33.    , b'', b'S'),\n",
       "           (850, 1, 1, b'female',   nan, 1, 0, b'17453',  89.1042, b'C92', b'C'),\n",
       "           (851, 0, 3, b'male',  4.  , 4, 2, b'347082',  31.275 , b'', b'S'),\n",
       "           (852, 0, 3, b'male', 74.  , 0, 0, b'347060',   7.775 , b'', b'S'),\n",
       "           (853, 0, 3, b'female',  9.  , 1, 1, b'2678',  15.2458, b'', b'C'),\n",
       "           (854, 1, 1, b'female', 16.  , 0, 1, b'PC 17592',  39.4   , b'D28', b'S'),\n",
       "           (855, 0, 2, b'female', 44.  , 1, 0, b'244252',  26.    , b'', b'S'),\n",
       "           (856, 1, 3, b'female', 18.  , 0, 1, b'392091',   9.35  , b'', b'S'),\n",
       "           (857, 1, 1, b'female', 45.  , 1, 1, b'36928', 164.8667, b'', b'S'),\n",
       "           (858, 1, 1, b'male', 51.  , 0, 0, b'113055',  26.55  , b'E17', b'S'),\n",
       "           (859, 1, 3, b'female', 24.  , 0, 3, b'2666',  19.2583, b'', b'C'),\n",
       "           (860, 0, 3, b'male',   nan, 0, 0, b'2629',   7.2292, b'', b'C'),\n",
       "           (861, 0, 3, b'male', 41.  , 2, 0, b'350026',  14.1083, b'', b'S'),\n",
       "           (862, 0, 2, b'male', 21.  , 1, 0, b'28134',  11.5   , b'', b'S'),\n",
       "           (863, 1, 1, b'female', 48.  , 0, 0, b'17466',  25.9292, b'D17', b'S'),\n",
       "           (864, 0, 3, b'female',   nan, 8, 2, b'CA. 2343',  69.55  , b'', b'S'),\n",
       "           (865, 0, 2, b'male', 24.  , 0, 0, b'233866',  13.    , b'', b'S'),\n",
       "           (866, 1, 2, b'female', 42.  , 0, 0, b'236852',  13.    , b'', b'S'),\n",
       "           (867, 1, 2, b'female', 27.  , 1, 0, b'SC/PARIS 2149',  13.8583, b'', b'C'),\n",
       "           (868, 0, 1, b'male', 31.  , 0, 0, b'PC 17590',  50.4958, b'A24', b'S'),\n",
       "           (869, 0, 3, b'male',   nan, 0, 0, b'345777',   9.5   , b'', b'S'),\n",
       "           (870, 1, 3, b'male',  4.  , 1, 1, b'347742',  11.1333, b'', b'S'),\n",
       "           (871, 0, 3, b'male', 26.  , 0, 0, b'349248',   7.8958, b'', b'S'),\n",
       "           (872, 1, 1, b'female', 47.  , 1, 1, b'11751',  52.5542, b'D35', b'S'),\n",
       "           (873, 0, 1, b'male', 33.  , 0, 0, b'695',   5.    , b'B51 B53 B55', b'S'),\n",
       "           (874, 0, 3, b'male', 47.  , 0, 0, b'345765',   9.    , b'', b'S'),\n",
       "           (875, 1, 2, b'female', 28.  , 1, 0, b'P/PP 3381',  24.    , b'', b'C'),\n",
       "           (876, 1, 3, b'female', 15.  , 0, 0, b'2667',   7.225 , b'', b'C'),\n",
       "           (877, 0, 3, b'male', 20.  , 0, 0, b'7534',   9.8458, b'', b'S'),\n",
       "           (878, 0, 3, b'male', 19.  , 0, 0, b'349212',   7.8958, b'', b'S'),\n",
       "           (879, 0, 3, b'male',   nan, 0, 0, b'349217',   7.8958, b'', b'S'),\n",
       "           (880, 1, 1, b'female', 56.  , 0, 1, b'11767',  83.1583, b'C50', b'C'),\n",
       "           (881, 1, 2, b'female', 25.  , 0, 1, b'230433',  26.    , b'', b'S'),\n",
       "           (882, 0, 3, b'male', 33.  , 0, 0, b'349257',   7.8958, b'', b'S'),\n",
       "           (883, 0, 3, b'female', 22.  , 0, 0, b'7552',  10.5167, b'', b'S'),\n",
       "           (884, 0, 2, b'male', 28.  , 0, 0, b'C.A./SOTON 34068',  10.5   , b'', b'S'),\n",
       "           (885, 0, 3, b'male', 25.  , 0, 0, b'SOTON/OQ 392076',   7.05  , b'', b'S'),\n",
       "           (886, 0, 3, b'female', 39.  , 0, 5, b'382652',  29.125 , b'', b'Q'),\n",
       "           (887, 0, 2, b'male', 27.  , 0, 0, b'211536',  13.    , b'', b'S'),\n",
       "           (888, 1, 1, b'female', 19.  , 0, 0, b'112053',  30.    , b'B42', b'S'),\n",
       "           (889, 0, 3, b'female',   nan, 1, 2, b'W./C. 6607',  23.45  , b'', b'S'),\n",
       "           (890, 1, 1, b'male', 26.  , 0, 0, b'111369',  30.    , b'C148', b'C'),\n",
       "           (891, 0, 3, b'male', 32.  , 0, 0, b'370376',   7.75  , b'', b'Q')],\n",
       "          dtype=[('passengerid', '<i8'), ('survived', '<i8'), ('pclass', '<i8'), ('sex', 'S6'), ('age', '<f8'), ('sibsp', '<i8'), ('parch', '<i8'), ('ticket', 'S18'), ('fare', '<f8'), ('cabin', 'S15'), ('embarked', 'S1')])"
      ]
     },
     "execution_count": 33,
     "metadata": {},
     "output_type": "execute_result"
    }
   ],
   "source": [
    "file = \"/Users/XavierTang/Documents/Data Science/Python/data/titanic_sub.csv\"\n",
    "data = np.recfromcsv(file)\n",
    "data"
   ]
  },
  {
   "cell_type": "markdown",
   "metadata": {},
   "source": [
    "## 12. Stacking Arrays"
   ]
  },
  {
   "cell_type": "code",
   "execution_count": 5,
   "metadata": {},
   "outputs": [
    {
     "name": "stdout",
     "output_type": "stream",
     "text": [
      "[[0.1 1.1 2.1 3.1]\n",
      " [4.1 5.1 6.1 7.1]]\n",
      "[[0.2 1.2 2.2]\n",
      " [3.2 4.2 5.2]]\n",
      "[[ 0.3  1.3  2.3  3.3]\n",
      " [ 4.3  5.3  6.3  7.3]\n",
      " [ 8.3  9.3 10.3 11.3]]\n"
     ]
    }
   ],
   "source": [
    "#using number created by consective interger using range()\n",
    "#transforming 1D array into rectangular shape using reshape()\n",
    "#these are matrix\n",
    "A = np.arange(8).reshape(2,4) + 0.1\n",
    "B = np.arange(6).reshape(2,3) + 0.2\n",
    "C = np.arange(12).reshape(3,4) + 0.3\n",
    "print(A)\n",
    "print(B)\n",
    "print(C)"
   ]
  },
  {
   "cell_type": "markdown",
   "metadata": {},
   "source": [
    "### 12.1 Stacking arrays horizontally\n",
    "\n",
    "the number of rows of two array must match"
   ]
  },
  {
   "cell_type": "code",
   "execution_count": 6,
   "metadata": {},
   "outputs": [
    {
     "data": {
      "text/plain": [
       "array([[0.2, 1.2, 2.2, 0.1, 1.1, 2.1, 3.1],\n",
       "       [3.2, 4.2, 5.2, 4.1, 5.1, 6.1, 7.1]])"
      ]
     },
     "execution_count": 6,
     "metadata": {},
     "output_type": "execute_result"
    }
   ],
   "source": [
    "np.hstack([B,A]) #input is a list of np arrays"
   ]
  },
  {
   "cell_type": "code",
   "execution_count": 7,
   "metadata": {},
   "outputs": [
    {
     "data": {
      "text/plain": [
       "array([[0.2, 1.2, 2.2, 0.1, 1.1, 2.1, 3.1],\n",
       "       [3.2, 4.2, 5.2, 4.1, 5.1, 6.1, 7.1]])"
      ]
     },
     "execution_count": 7,
     "metadata": {},
     "output_type": "execute_result"
    }
   ],
   "source": [
    "np.concatenate([B,A],axis=1)"
   ]
  },
  {
   "cell_type": "markdown",
   "metadata": {},
   "source": [
    "### 12.2 Stacking arrays vertically \n",
    "\n",
    "the number of cols of two array must match"
   ]
  },
  {
   "cell_type": "code",
   "execution_count": 8,
   "metadata": {},
   "outputs": [
    {
     "data": {
      "text/plain": [
       "array([[ 0.1,  1.1,  2.1,  3.1],\n",
       "       [ 4.1,  5.1,  6.1,  7.1],\n",
       "       [ 0.3,  1.3,  2.3,  3.3],\n",
       "       [ 4.3,  5.3,  6.3,  7.3],\n",
       "       [ 8.3,  9.3, 10.3, 11.3]])"
      ]
     },
     "execution_count": 8,
     "metadata": {},
     "output_type": "execute_result"
    }
   ],
   "source": [
    "np.vstack([A,C]) #input is a list of np arrays"
   ]
  },
  {
   "cell_type": "code",
   "execution_count": 10,
   "metadata": {},
   "outputs": [
    {
     "data": {
      "text/plain": [
       "array([[ 0.1,  1.1,  2.1,  3.1],\n",
       "       [ 4.1,  5.1,  6.1,  7.1],\n",
       "       [ 0.3,  1.3,  2.3,  3.3],\n",
       "       [ 4.3,  5.3,  6.3,  7.3],\n",
       "       [ 8.3,  9.3, 10.3, 11.3]])"
      ]
     },
     "execution_count": 10,
     "metadata": {},
     "output_type": "execute_result"
    }
   ],
   "source": [
    "np.concatenate([A,C],axis=0)"
   ]
  },
  {
   "cell_type": "markdown",
   "metadata": {},
   "source": [
    "## 13. meshgrid()"
   ]
  },
  {
   "cell_type": "code",
   "execution_count": 4,
   "metadata": {},
   "outputs": [
    {
     "name": "stdout",
     "output_type": "stream",
     "text": [
      "[-2.  0.  2.]\n",
      "[-1.  -0.5  0.   0.5  1. ]\n"
     ]
    }
   ],
   "source": [
    "u = np.linspace(-2,2,3)\n",
    "v =np.linspace(-1,1,5)\n",
    "print(u)\n",
    "print(v)"
   ]
  },
  {
   "cell_type": "code",
   "execution_count": 7,
   "metadata": {},
   "outputs": [
    {
     "name": "stdout",
     "output_type": "stream",
     "text": [
      "[[-2.  0.  2.]\n",
      " [-2.  0.  2.]\n",
      " [-2.  0.  2.]\n",
      " [-2.  0.  2.]\n",
      " [-2.  0.  2.]]\n",
      "[[-1.  -1.  -1. ]\n",
      " [-0.5 -0.5 -0.5]\n",
      " [ 0.   0.   0. ]\n",
      " [ 0.5  0.5  0.5]\n",
      " [ 1.   1.   1. ]]\n"
     ]
    }
   ],
   "source": [
    "X,Y=np.meshgrid(u,v)\n",
    "print(X)\n",
    "print(Y)"
   ]
  },
  {
   "cell_type": "code",
   "execution_count": null,
   "metadata": {},
   "outputs": [],
   "source": []
  }
 ],
 "metadata": {
  "kernelspec": {
   "display_name": "Python 3",
   "language": "python",
   "name": "python3"
  },
  "language_info": {
   "codemirror_mode": {
    "name": "ipython",
    "version": 3
   },
   "file_extension": ".py",
   "mimetype": "text/x-python",
   "name": "python",
   "nbconvert_exporter": "python",
   "pygments_lexer": "ipython3",
   "version": "3.7.3"
  }
 },
 "nbformat": 4,
 "nbformat_minor": 2
}
