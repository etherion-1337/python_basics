{
 "cells": [
  {
   "cell_type": "markdown",
   "metadata": {},
   "source": [
    "# Python Basic Library - Strings"
   ]
  },
  {
   "cell_type": "markdown",
   "metadata": {},
   "source": [
    "## 1. (method) captitalise (first char) a string"
   ]
  },
  {
   "cell_type": "code",
   "execution_count": 1,
   "metadata": {},
   "outputs": [
    {
     "name": "stdout",
     "output_type": "stream",
     "text": [
      "Liz\n"
     ]
    }
   ],
   "source": [
    "sister = \"liz\"\n",
    "print(sister.capitalize())"
   ]
  },
  {
   "cell_type": "markdown",
   "metadata": {},
   "source": [
    "## 2. (method) replace word in a string"
   ]
  },
  {
   "cell_type": "code",
   "execution_count": 2,
   "metadata": {},
   "outputs": [
    {
     "name": "stdout",
     "output_type": "stream",
     "text": [
      "lisa\n"
     ]
    }
   ],
   "source": [
    "sister = \"liz\"\n",
    "print(sister.replace(\"z\", \"sa\"))"
   ]
  },
  {
   "cell_type": "markdown",
   "metadata": {},
   "source": [
    "## 3. (method) split"
   ]
  },
  {
   "cell_type": "code",
   "execution_count": 1,
   "metadata": {},
   "outputs": [
    {
     "name": "stdout",
     "output_type": "stream",
     "text": [
      "['The', 'rain', 'in', 'Spain', '...']\n"
     ]
    }
   ],
   "source": [
    "song = \"The rain in Spain ...\"\n",
    "wds = song.split() #split by space\n",
    "print(wds)"
   ]
  },
  {
   "cell_type": "code",
   "execution_count": 3,
   "metadata": {},
   "outputs": [
    {
     "name": "stdout",
     "output_type": "stream",
     "text": [
      "['The r', 'in in Sp', 'in ...']\n"
     ]
    }
   ],
   "source": [
    "song = \"The rain in Spain ...\"\n",
    "wds = song.split(\"a\") #split by e\n",
    "print(wds)"
   ]
  },
  {
   "cell_type": "markdown",
   "metadata": {},
   "source": [
    "## 4. (method) join"
   ]
  },
  {
   "cell_type": "code",
   "execution_count": 4,
   "metadata": {},
   "outputs": [
    {
     "data": {
      "text/plain": [
       "'I/am/power'"
      ]
     },
     "execution_count": 4,
     "metadata": {},
     "output_type": "execute_result"
    }
   ],
   "source": [
    "\"/\".join([\"I\",\"am\",\"power\"])"
   ]
  },
  {
   "cell_type": "markdown",
   "metadata": {},
   "source": [
    "## 5. (method) upper() and lower()"
   ]
  },
  {
   "cell_type": "code",
   "execution_count": 3,
   "metadata": {},
   "outputs": [
    {
     "name": "stdout",
     "output_type": "stream",
     "text": [
      "HELLO, WORLD\n",
      "hello, world\n",
      "Hello, World\n"
     ]
    }
   ],
   "source": [
    "ss = \"Hello, World\"\n",
    "print(ss.upper())\n",
    "print(ss.lower())\n",
    "print(ss) #no change to original"
   ]
  },
  {
   "cell_type": "markdown",
   "metadata": {},
   "source": [
    "## 6. (method) strip\n",
    "\n",
    "strip white space infront and back, white space in the middle stays."
   ]
  },
  {
   "cell_type": "code",
   "execution_count": 6,
   "metadata": {},
   "outputs": [
    {
     "name": "stdout",
     "output_type": "stream",
     "text": [
      "***Hello, World***\n"
     ]
    }
   ],
   "source": [
    "print(\"***\"+ss.strip()+\"***\")"
   ]
  },
  {
   "cell_type": "markdown",
   "metadata": {},
   "source": [
    "## 7. (method)count()"
   ]
  },
  {
   "cell_type": "code",
   "execution_count": 5,
   "metadata": {},
   "outputs": [
    {
     "data": {
      "text/plain": [
       "3"
      ]
     },
     "execution_count": 5,
     "metadata": {},
     "output_type": "execute_result"
    }
   ],
   "source": [
    "ss = \"Hello, World\"\n",
    "ss.count(\"l\")"
   ]
  },
  {
   "cell_type": "markdown",
   "metadata": {},
   "source": [
    "## 8.(method) replace"
   ]
  },
  {
   "cell_type": "code",
   "execution_count": 8,
   "metadata": {},
   "outputs": [
    {
     "name": "stdout",
     "output_type": "stream",
     "text": [
      "Hell***, W***rld\n"
     ]
    }
   ],
   "source": [
    "ss = \"Hello, World\"\n",
    "news = ss.replace(\"o\",\"***\")\n",
    "print(news)"
   ]
  },
  {
   "cell_type": "markdown",
   "metadata": {},
   "source": [
    "## 9. (method) format()"
   ]
  },
  {
   "cell_type": "code",
   "execution_count": 10,
   "metadata": {},
   "outputs": [
    {
     "name": "stdout",
     "output_type": "stream",
     "text": [
      "Hello Rodney Dangerfield. Your score is -1.\n",
      "Hello Marlon Brando. Your score is 1.\n",
      "Hello You. Your score is 100.\n"
     ]
    }
   ],
   "source": [
    "scores = [(\"Rodney Dangerfield\", -1), (\"Marlon Brando\", 1), (\"You\", 100)]\n",
    "for person in scores:\n",
    "    name = person[0]\n",
    "    score = person[1]\n",
    "    print(\"Hello {}. Your score is {}.\".format(name, score))\n"
   ]
  },
  {
   "cell_type": "code",
   "execution_count": 11,
   "metadata": {},
   "outputs": [
    {
     "name": "stdin",
     "output_type": "stream",
     "text": [
      "Enter the original price: $ 4\n",
      "Enter discount percentage:  6\n"
     ]
    },
    {
     "name": "stdout",
     "output_type": "stream",
     "text": [
      "$4.00 discounted by 6.0% is $3.76.\n"
     ]
    }
   ],
   "source": [
    "origPrice = float(input('Enter the original price: $'))\n",
    "discount = float(input('Enter discount percentage: '))\n",
    "newPrice = (1 - discount/100)*origPrice\n",
    "calculation = '${:.2f} discounted by {}% is ${:.2f}.'.format(origPrice, discount, newPrice)\n",
    "print(calculation)"
   ]
  },
  {
   "cell_type": "code",
   "execution_count": null,
   "metadata": {},
   "outputs": [],
   "source": []
  }
 ],
 "metadata": {
  "kernelspec": {
   "display_name": "Python 3",
   "language": "python",
   "name": "python3"
  },
  "language_info": {
   "codemirror_mode": {
    "name": "ipython",
    "version": 3
   },
   "file_extension": ".py",
   "mimetype": "text/x-python",
   "name": "python",
   "nbconvert_exporter": "python",
   "pygments_lexer": "ipython3",
   "version": "3.7.3"
  }
 },
 "nbformat": 4,
 "nbformat_minor": 4
}
