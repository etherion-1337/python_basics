{
 "cells": [
  {
   "cell_type": "markdown",
   "metadata": {},
   "source": [
    "# Case study: Olympic Medals 1896 - 2012"
   ]
  },
  {
   "cell_type": "code",
   "execution_count": 1,
   "metadata": {},
   "outputs": [],
   "source": [
    "import numpy as np\n",
    "import pandas as pd\n",
    "import matplotlib.pyplot as plt"
   ]
  },
  {
   "cell_type": "code",
   "execution_count": 2,
   "metadata": {},
   "outputs": [
    {
     "data": {
      "text/html": [
       "<div>\n",
       "<style scoped>\n",
       "    .dataframe tbody tr th:only-of-type {\n",
       "        vertical-align: middle;\n",
       "    }\n",
       "\n",
       "    .dataframe tbody tr th {\n",
       "        vertical-align: top;\n",
       "    }\n",
       "\n",
       "    .dataframe thead th {\n",
       "        text-align: right;\n",
       "    }\n",
       "</style>\n",
       "<table border=\"1\" class=\"dataframe\">\n",
       "  <thead>\n",
       "    <tr style=\"text-align: right;\">\n",
       "      <th></th>\n",
       "      <th>City</th>\n",
       "      <th>Edition</th>\n",
       "      <th>Sport</th>\n",
       "      <th>Discipline</th>\n",
       "      <th>Athlete</th>\n",
       "      <th>NOC</th>\n",
       "      <th>Gender</th>\n",
       "      <th>Event</th>\n",
       "      <th>Event_gender</th>\n",
       "      <th>Medal</th>\n",
       "    </tr>\n",
       "  </thead>\n",
       "  <tbody>\n",
       "    <tr>\n",
       "      <th>0</th>\n",
       "      <td>Athens</td>\n",
       "      <td>1896</td>\n",
       "      <td>Aquatics</td>\n",
       "      <td>Swimming</td>\n",
       "      <td>HAJOS, Alfred</td>\n",
       "      <td>HUN</td>\n",
       "      <td>Men</td>\n",
       "      <td>100m freestyle</td>\n",
       "      <td>M</td>\n",
       "      <td>Gold</td>\n",
       "    </tr>\n",
       "    <tr>\n",
       "      <th>1</th>\n",
       "      <td>Athens</td>\n",
       "      <td>1896</td>\n",
       "      <td>Aquatics</td>\n",
       "      <td>Swimming</td>\n",
       "      <td>HERSCHMANN, Otto</td>\n",
       "      <td>AUT</td>\n",
       "      <td>Men</td>\n",
       "      <td>100m freestyle</td>\n",
       "      <td>M</td>\n",
       "      <td>Silver</td>\n",
       "    </tr>\n",
       "    <tr>\n",
       "      <th>2</th>\n",
       "      <td>Athens</td>\n",
       "      <td>1896</td>\n",
       "      <td>Aquatics</td>\n",
       "      <td>Swimming</td>\n",
       "      <td>DRIVAS, Dimitrios</td>\n",
       "      <td>GRE</td>\n",
       "      <td>Men</td>\n",
       "      <td>100m freestyle for sailors</td>\n",
       "      <td>M</td>\n",
       "      <td>Bronze</td>\n",
       "    </tr>\n",
       "    <tr>\n",
       "      <th>3</th>\n",
       "      <td>Athens</td>\n",
       "      <td>1896</td>\n",
       "      <td>Aquatics</td>\n",
       "      <td>Swimming</td>\n",
       "      <td>MALOKINIS, Ioannis</td>\n",
       "      <td>GRE</td>\n",
       "      <td>Men</td>\n",
       "      <td>100m freestyle for sailors</td>\n",
       "      <td>M</td>\n",
       "      <td>Gold</td>\n",
       "    </tr>\n",
       "    <tr>\n",
       "      <th>4</th>\n",
       "      <td>Athens</td>\n",
       "      <td>1896</td>\n",
       "      <td>Aquatics</td>\n",
       "      <td>Swimming</td>\n",
       "      <td>CHASAPIS, Spiridon</td>\n",
       "      <td>GRE</td>\n",
       "      <td>Men</td>\n",
       "      <td>100m freestyle for sailors</td>\n",
       "      <td>M</td>\n",
       "      <td>Silver</td>\n",
       "    </tr>\n",
       "  </tbody>\n",
       "</table>\n",
       "</div>"
      ],
      "text/plain": [
       "     City  Edition     Sport Discipline             Athlete  NOC Gender  \\\n",
       "0  Athens     1896  Aquatics   Swimming       HAJOS, Alfred  HUN    Men   \n",
       "1  Athens     1896  Aquatics   Swimming    HERSCHMANN, Otto  AUT    Men   \n",
       "2  Athens     1896  Aquatics   Swimming   DRIVAS, Dimitrios  GRE    Men   \n",
       "3  Athens     1896  Aquatics   Swimming  MALOKINIS, Ioannis  GRE    Men   \n",
       "4  Athens     1896  Aquatics   Swimming  CHASAPIS, Spiridon  GRE    Men   \n",
       "\n",
       "                        Event Event_gender   Medal  \n",
       "0              100m freestyle            M    Gold  \n",
       "1              100m freestyle            M  Silver  \n",
       "2  100m freestyle for sailors            M  Bronze  \n",
       "3  100m freestyle for sailors            M    Gold  \n",
       "4  100m freestyle for sailors            M  Silver  "
      ]
     },
     "execution_count": 2,
     "metadata": {},
     "output_type": "execute_result"
    }
   ],
   "source": [
    "medals = pd.read_csv(\"../data/all_medalists.csv\")\n",
    "medals.head()"
   ]
  },
  {
   "cell_type": "code",
   "execution_count": 4,
   "metadata": {},
   "outputs": [
    {
     "data": {
      "text/plain": [
       "Edition\n",
       "1896     20\n",
       "1900     55\n",
       "1904    394\n",
       "1908     63\n",
       "1912    101\n",
       "1920    193\n",
       "1924    198\n",
       "1928     84\n",
       "1932    181\n",
       "1936     92\n",
       "1948    148\n",
       "1952    130\n",
       "1956    118\n",
       "1960    112\n",
       "1964    150\n",
       "1968    149\n",
       "1972    155\n",
       "1976    155\n",
       "1984    333\n",
       "1988    193\n",
       "1992    224\n",
       "1996    260\n",
       "2000    248\n",
       "2004    264\n",
       "2008    315\n",
       "Name: Medal, dtype: int64"
      ]
     },
     "execution_count": 4,
     "metadata": {},
     "output_type": "execute_result"
    }
   ],
   "source": [
    "# How many medals USA has earned in each edition ?\n",
    "USA_edition_grouped = medals.loc[medals.NOC == \"USA\"].groupby(\"Edition\")\n",
    "USA_edition_grouped[\"Medal\"].count()"
   ]
  },
  {
   "cell_type": "code",
   "execution_count": 7,
   "metadata": {},
   "outputs": [
    {
     "name": "stdout",
     "output_type": "stream",
     "text": [
      "USA    4335\n",
      "URS    2049\n",
      "GBR    1594\n",
      "FRA    1314\n",
      "ITA    1228\n",
      "GER    1211\n",
      "AUS    1075\n",
      "HUN    1053\n",
      "SWE    1021\n",
      "GDR     825\n",
      "NED     782\n",
      "JPN     704\n",
      "CHN     679\n",
      "RUS     638\n",
      "ROU     624\n",
      "Name: NOC, dtype: int64\n"
     ]
    }
   ],
   "source": [
    "#Top 15 countries with most number of medals\n",
    "\n",
    "#.value_counts(): Return a Series containing counts of unique values.\n",
    "#i.e. The result is returned as a Series of counts indexed by unique entries from the original Series with values (counts)\n",
    "#ranked in descending order.\n",
    "\n",
    "# Select the 'NOC' column of medals: country_names\n",
    "country_names = medals.NOC #has repeated country name for each type of medals won.\n",
    "#print(country_names)\n",
    "\n",
    "# Count the number of medals won by each country: medal_counts\n",
    "medal_counts = country_names.value_counts()\n",
    "\n",
    "# Print top 15 countries ranked by medals (sum over all edition)\n",
    "print(medal_counts.head(15))"
   ]
  },
  {
   "cell_type": "code",
   "execution_count": 9,
   "metadata": {},
   "outputs": [
    {
     "name": "stdout",
     "output_type": "stream",
     "text": [
      "Medal  Bronze  Gold  Silver\n",
      "NOC                        \n",
      "AFG       1.0   NaN     NaN\n",
      "AHO       NaN   NaN     1.0\n",
      "ALG       8.0   4.0     2.0\n",
      "ANZ       5.0  20.0     4.0\n",
      "ARG      88.0  68.0    83.0\n",
      "Medal  Bronze    Gold  Silver  totals\n",
      "NOC                                  \n",
      "USA    1052.0  2088.0  1195.0  4335.0\n",
      "URS     584.0   838.0   627.0  2049.0\n",
      "GBR     505.0   498.0   591.0  1594.0\n",
      "FRA     475.0   378.0   461.0  1314.0\n",
      "ITA     374.0   460.0   394.0  1228.0\n",
      "GER     454.0   407.0   350.0  1211.0\n",
      "AUS     413.0   293.0   369.0  1075.0\n",
      "HUN     345.0   400.0   308.0  1053.0\n",
      "SWE     325.0   347.0   349.0  1021.0\n",
      "GDR     225.0   329.0   271.0   825.0\n",
      "NED     320.0   212.0   250.0   782.0\n",
      "JPN     270.0   206.0   228.0   704.0\n",
      "CHN     193.0   234.0   252.0   679.0\n",
      "RUS     240.0   192.0   206.0   638.0\n",
      "ROU     282.0   155.0   187.0   624.0\n"
     ]
    }
   ],
   "source": [
    "#How many gold, silver and bronze medal each county won ?\n",
    "\n",
    "# Construct the pivot table: counted\n",
    "counted = medals.pivot_table(aggfunc=\"count\", index=\"NOC\", columns=\"Medal\", values=\"Athlete\") #default aggfunc is avg\n",
    "print(counted.head())\n",
    "# Create the new column: counted['totals']\n",
    "counted['totals'] = counted.sum(axis=\"columns\")\n",
    "\n",
    "# Sort counted by the 'totals' column\n",
    "counted = counted.sort_values(\"totals\", ascending=False)\n",
    "\n",
    "# Print the top 15 rows of counted\n",
    "print(counted.head(15))"
   ]
  },
  {
   "cell_type": "code",
   "execution_count": 10,
   "metadata": {},
   "outputs": [
    {
     "name": "stdout",
     "output_type": "stream",
     "text": [
      "      Event_gender Gender\n",
      "0                M    Men\n",
      "348              X    Men\n",
      "416              W  Women\n",
      "639              X  Women\n",
      "23675            W    Men\n"
     ]
    }
   ],
   "source": [
    "# Event_gender and Gender are the same ?\n",
    "# Select columns: ev_gen\n",
    "ev_gen = medals[[\"Event_gender\",\"Gender\"]]\n",
    "\n",
    "# Drop duplicate pairs: ev_gen_uniques\n",
    "ev_gen_uniques = ev_gen.drop_duplicates()\n",
    "\n",
    "# Print ev_gen_uniques\n",
    "print(ev_gen_uniques)"
   ]
  },
  {
   "cell_type": "code",
   "execution_count": 11,
   "metadata": {},
   "outputs": [
    {
     "name": "stdout",
     "output_type": "stream",
     "text": [
      "                      City  Edition  Sport  Discipline  Athlete    NOC  Event  \\\n",
      "Event_gender Gender                                                             \n",
      "M            Men     20067    20067  20067       20067    20067  20067  20067   \n",
      "W            Men         1        1      1           1        1      1      1   \n",
      "             Women    7277     7277   7277        7277     7277   7277   7277   \n",
      "X            Men      1653     1653   1653        1653     1653   1653   1653   \n",
      "             Women     218      218    218         218      218    218    218   \n",
      "\n",
      "                     Medal  \n",
      "Event_gender Gender         \n",
      "M            Men     20067  \n",
      "W            Men         1  \n",
      "             Women    7277  \n",
      "X            Men      1653  \n",
      "             Women     218  \n"
     ]
    }
   ],
   "source": [
    "# Lets explore further on the gender issue\n",
    "# Group medals by the two columns: medals_by_gender\n",
    "medals_by_gender = medals.groupby([\"Event_gender\",\"Gender\"])\n",
    "\n",
    "# Create a DataFrame with a group count: medal_count_by_gender\n",
    "medal_count_by_gender = medals_by_gender.count()\n",
    "\n",
    "# Print medal_count_by_gender\n",
    "print(medal_count_by_gender) # there is only one entry: data entry error ?"
   ]
  },
  {
   "cell_type": "code",
   "execution_count": 12,
   "metadata": {},
   "outputs": [
    {
     "name": "stdout",
     "output_type": "stream",
     "text": [
      "         City  Edition      Sport Discipline            Athlete  NOC Gender  \\\n",
      "23675  Sydney     2000  Athletics  Athletics  CHEPCHUMBA, Joyce  KEN    Men   \n",
      "\n",
      "          Event Event_gender   Medal  \n",
      "23675  marathon            W  Bronze  \n"
     ]
    }
   ],
   "source": [
    "#Lets single out the offending row\n",
    "# Create the Boolean Series: sus\n",
    "sus = (medals.Event_gender == \"W\") & (medals.Gender == \"Men\")\n",
    "\n",
    "# Create a DataFrame with the suspicious row: suspect\n",
    "suspect = medals.loc[sus]\n",
    "\n",
    "# Print suspect\n",
    "print(suspect) #Chepchumba joyce is in fact a women"
   ]
  },
  {
   "cell_type": "code",
   "execution_count": 15,
   "metadata": {},
   "outputs": [
    {
     "data": {
      "text/plain": [
       "array(['Aquatics', 'Athletics', 'Cycling', 'Fencing', 'Gymnastics',\n",
       "       'Shooting', 'Tennis', 'Weightlifting', 'Wrestling', 'Archery',\n",
       "       'Basque Pelota', 'Cricket', 'Croquet', 'Equestrian', 'Football',\n",
       "       'Golf', 'Polo', 'Rowing', 'Rugby', 'Sailing', 'Tug of War',\n",
       "       'Boxing', 'Lacrosse', 'Roque', 'Hockey', 'Jeu de paume', 'Rackets',\n",
       "       'Skating', 'Water Motorsports', 'Modern Pentathlon', 'Ice Hockey',\n",
       "       'Basketball', 'Canoe / Kayak', 'Handball', 'Judo', 'Volleyball',\n",
       "       'Table Tennis', 'Badminton', 'Baseball', 'Softball', 'Taekwondo',\n",
       "       'Triathlon'], dtype=object)"
      ]
     },
     "execution_count": 15,
     "metadata": {},
     "output_type": "execute_result"
    }
   ],
   "source": [
    "#distinc event in the olympics\n",
    "medals[\"Sport\"].unique()"
   ]
  },
  {
   "cell_type": "code",
   "execution_count": 16,
   "metadata": {},
   "outputs": [
    {
     "name": "stdout",
     "output_type": "stream",
     "text": [
      "NOC\n",
      "USA    34\n",
      "GBR    31\n",
      "FRA    28\n",
      "GER    26\n",
      "CHN    24\n",
      "AUS    22\n",
      "ESP    22\n",
      "CAN    22\n",
      "SWE    21\n",
      "URS    21\n",
      "ITA    21\n",
      "NED    20\n",
      "RUS    20\n",
      "JPN    20\n",
      "DEN    19\n",
      "Name: Sport, dtype: int64\n"
     ]
    }
   ],
   "source": [
    "#You may want to know which countries won medals in the most distinct sports.\n",
    "#The .nunique() method is the principal aggregation here. \n",
    "#Given a categorical Series S, S.nunique() returns the number of distinct categories.\n",
    "\n",
    "# Group medals by 'NOC': country_grouped\n",
    "country_grouped = medals.groupby(\"NOC\")\n",
    "\n",
    "# Compute the number of distinct sports in which each country won medals: Nsports\n",
    "Nsports = country_grouped[\"Sport\"].nunique()\n",
    "\n",
    "# Sort the values of Nsports in descending order\n",
    "Nsports = Nsports.sort_values(ascending=False)\n",
    "\n",
    "# Print the top 15 rows of Nsports\n",
    "print(Nsports.head(15))"
   ]
  },
  {
   "cell_type": "code",
   "execution_count": 17,
   "metadata": {},
   "outputs": [
    {
     "name": "stdout",
     "output_type": "stream",
     "text": [
      "NOC\n",
      "URS    21\n",
      "USA    20\n",
      "Name: Sport, dtype: int64\n"
     ]
    }
   ],
   "source": [
    "# The Olympic competitions between 1952 and 1988 took place during the height of the Cold War \n",
    "# between the United States of America (USA) & the Union of Soviet Socialist Republics (USSR).\n",
    "# Your goal in this exercise is to aggregate the number of distinct sports in which \n",
    "# the USA and the USSR won medals during the Cold War years\n",
    "\n",
    "# Create a Boolean Series that is True when 'Edition' is between 1952 and 1988: during_cold_war\n",
    "during_cold_war = (medals.Edition >= 1952) & (medals.Edition <= 1988)\n",
    "\n",
    "# Extract rows for which 'NOC' is either 'USA' or 'URS': is_usa_urs\n",
    "is_usa_urs = medals.NOC.isin([\"USA\",\"URS\"])\n",
    "\n",
    "# Use during_cold_war and is_usa_urs to create the DataFrame: cold_war_medals\n",
    "cold_war_medals = medals.loc[during_cold_war & is_usa_urs]\n",
    "\n",
    "# Group cold_war_medals by 'NOC'\n",
    "country_grouped = cold_war_medals.groupby(\"NOC\")\n",
    "\n",
    "# Create Nsports\n",
    "Nsports = country_grouped.Sport.nunique().sort_values(ascending=False)\n",
    "\n",
    "# Print Nsports\n",
    "print(Nsports)"
   ]
  },
  {
   "cell_type": "code",
   "execution_count": 18,
   "metadata": {},
   "outputs": [
    {
     "name": "stdout",
     "output_type": "stream",
     "text": [
      "Edition\n",
      "1952    USA\n",
      "1956    URS\n",
      "1960    URS\n",
      "1964    URS\n",
      "1968    URS\n",
      "1972    URS\n",
      "1976    URS\n",
      "1980    URS\n",
      "1984    USA\n",
      "1988    URS\n",
      "dtype: object\n",
      "URS    8\n",
      "USA    2\n",
      "dtype: int64\n"
     ]
    }
   ],
   "source": [
    "# which country, the USA or the USSR, won the most medals consistently over the Cold War period ?\n",
    "\n",
    "# Create the pivot table: medals_won_by_country\n",
    "medals_won_by_country = medals.pivot_table(aggfunc=\"count\", index=\"Edition\",columns=\"NOC\",values=\"Athlete\")\n",
    "\n",
    "# Slice medals_won_by_country: cold_war_usa_urs_medals\n",
    "cold_war_usa_urs_medals = medals_won_by_country.loc[1952:1988, [\"USA\",\"URS\"]]\n",
    "\n",
    "# Create most_medals \n",
    "most_medals = cold_war_usa_urs_medals.idxmax(axis=\"columns\")\n",
    "\n",
    "# Print most_medals.value_counts()\n",
    "print(most_medals)\n",
    "print(most_medals.value_counts())"
   ]
  },
  {
   "cell_type": "code",
   "execution_count": 19,
   "metadata": {},
   "outputs": [
    {
     "data": {
      "text/plain": [
       "Edition\n",
       "1896    151\n",
       "1900    512\n",
       "1904    470\n",
       "1908    804\n",
       "1912    885\n",
       "Name: Athlete, dtype: int64"
      ]
     },
     "execution_count": 19,
     "metadata": {},
     "output_type": "execute_result"
    }
   ],
   "source": [
    "# plotting no of athelete won medals in each year\n",
    "all_medals = medals.groupby(\"Edition\")[\"Athlete\"].count()\n",
    "all_medals.head()"
   ]
  },
  {
   "cell_type": "code",
   "execution_count": 20,
   "metadata": {},
   "outputs": [
    {
     "data": {
      "image/png": "[encoded data removed]",
      "text/plain": [
       "<Figure size 432x288 with 1 Axes>"
      ]
     },
     "metadata": {
      "needs_background": "light"
     },
     "output_type": "display_data"
    }
   ],
   "source": [
    "all_medals.plot(kind=\"line\",marker = \".\") #horizotal axis is the index of DataFrame or Series by default\n",
    "plt.show()"
   ]
  },
  {
   "cell_type": "code",
   "execution_count": 24,
   "metadata": {},
   "outputs": [
    {
     "data": {
      "text/plain": [
       "Edition  Medal \n",
       "1896     Bronze     2\n",
       "         Gold       5\n",
       "         Silver     4\n",
       "1900     Bronze    53\n",
       "         Gold      46\n",
       "         Silver    86\n",
       "1908     Bronze    21\n",
       "         Gold       9\n",
       "         Silver     5\n",
       "1912     Bronze     5\n",
       "         Gold      10\n",
       "         Silver    10\n",
       "Name: Athlete, dtype: int64"
      ]
     },
     "execution_count": 24,
     "metadata": {},
     "output_type": "execute_result"
    }
   ],
   "source": [
    "#To get other index, its better if we set it explicitly\n",
    "#France\n",
    "\n",
    "france = medals.NOC == \"FRA\" #Boolean Series for France\n",
    "france_grps= medals[france].groupby([\"Edition\",\"Medal\"])\n",
    "france_grps[\"Athlete\"].count().head(12)"
   ]
  },
  {
   "cell_type": "code",
   "execution_count": 27,
   "metadata": {},
   "outputs": [
    {
     "data": {
      "text/html": [
       "<div>\n",
       "<style scoped>\n",
       "    .dataframe tbody tr th:only-of-type {\n",
       "        vertical-align: middle;\n",
       "    }\n",
       "\n",
       "    .dataframe tbody tr th {\n",
       "        vertical-align: top;\n",
       "    }\n",
       "\n",
       "    .dataframe thead th {\n",
       "        text-align: right;\n",
       "    }\n",
       "</style>\n",
       "<table border=\"1\" class=\"dataframe\">\n",
       "  <thead>\n",
       "    <tr style=\"text-align: right;\">\n",
       "      <th>Medal</th>\n",
       "      <th>Bronze</th>\n",
       "      <th>Gold</th>\n",
       "      <th>Silver</th>\n",
       "    </tr>\n",
       "    <tr>\n",
       "      <th>Edition</th>\n",
       "      <th></th>\n",
       "      <th></th>\n",
       "      <th></th>\n",
       "    </tr>\n",
       "  </thead>\n",
       "  <tbody>\n",
       "    <tr>\n",
       "      <th>1896</th>\n",
       "      <td>2.0</td>\n",
       "      <td>5.0</td>\n",
       "      <td>4.0</td>\n",
       "    </tr>\n",
       "    <tr>\n",
       "      <th>1900</th>\n",
       "      <td>53.0</td>\n",
       "      <td>46.0</td>\n",
       "      <td>86.0</td>\n",
       "    </tr>\n",
       "    <tr>\n",
       "      <th>1908</th>\n",
       "      <td>21.0</td>\n",
       "      <td>9.0</td>\n",
       "      <td>5.0</td>\n",
       "    </tr>\n",
       "    <tr>\n",
       "      <th>1912</th>\n",
       "      <td>5.0</td>\n",
       "      <td>10.0</td>\n",
       "      <td>10.0</td>\n",
       "    </tr>\n",
       "    <tr>\n",
       "      <th>1920</th>\n",
       "      <td>55.0</td>\n",
       "      <td>13.0</td>\n",
       "      <td>73.0</td>\n",
       "    </tr>\n",
       "    <tr>\n",
       "      <th>1924</th>\n",
       "      <td>20.0</td>\n",
       "      <td>39.0</td>\n",
       "      <td>63.0</td>\n",
       "    </tr>\n",
       "    <tr>\n",
       "      <th>1928</th>\n",
       "      <td>13.0</td>\n",
       "      <td>7.0</td>\n",
       "      <td>16.0</td>\n",
       "    </tr>\n",
       "    <tr>\n",
       "      <th>1932</th>\n",
       "      <td>6.0</td>\n",
       "      <td>23.0</td>\n",
       "      <td>8.0</td>\n",
       "    </tr>\n",
       "    <tr>\n",
       "      <th>1936</th>\n",
       "      <td>18.0</td>\n",
       "      <td>12.0</td>\n",
       "      <td>13.0</td>\n",
       "    </tr>\n",
       "    <tr>\n",
       "      <th>1948</th>\n",
       "      <td>21.0</td>\n",
       "      <td>25.0</td>\n",
       "      <td>22.0</td>\n",
       "    </tr>\n",
       "    <tr>\n",
       "      <th>1952</th>\n",
       "      <td>16.0</td>\n",
       "      <td>14.0</td>\n",
       "      <td>9.0</td>\n",
       "    </tr>\n",
       "    <tr>\n",
       "      <th>1956</th>\n",
       "      <td>13.0</td>\n",
       "      <td>6.0</td>\n",
       "      <td>13.0</td>\n",
       "    </tr>\n",
       "  </tbody>\n",
       "</table>\n",
       "</div>"
      ],
      "text/plain": [
       "Medal    Bronze  Gold  Silver\n",
       "Edition                      \n",
       "1896        2.0   5.0     4.0\n",
       "1900       53.0  46.0    86.0\n",
       "1908       21.0   9.0     5.0\n",
       "1912        5.0  10.0    10.0\n",
       "1920       55.0  13.0    73.0\n",
       "1924       20.0  39.0    63.0\n",
       "1928       13.0   7.0    16.0\n",
       "1932        6.0  23.0     8.0\n",
       "1936       18.0  12.0    13.0\n",
       "1948       21.0  25.0    22.0\n",
       "1952       16.0  14.0     9.0\n",
       "1956       13.0   6.0    13.0"
      ]
     },
     "execution_count": 27,
     "metadata": {},
     "output_type": "execute_result"
    }
   ],
   "source": [
    "#matplotlib works best with 1-level index, so its better we unstack\n",
    "france_medals = france_grps[\"Athlete\"].count().unstack()\n",
    "france_medals.head(12)"
   ]
  },
  {
   "cell_type": "code",
   "execution_count": 28,
   "metadata": {},
   "outputs": [
    {
     "data": {
      "image/png": "[encoded data removed]",
      "text/plain": [
       "<Figure size 432x288 with 1 Axes>"
      ]
     },
     "metadata": {
      "needs_background": "light"
     },
     "output_type": "display_data"
    }
   ],
   "source": [
    "france_medals.plot(kind=\"line\", marker=\",\") #distinct col give distinc line plot\n",
    "plt.show()"
   ]
  },
  {
   "cell_type": "code",
   "execution_count": 31,
   "metadata": {},
   "outputs": [
    {
     "name": "stdout",
     "output_type": "stream",
     "text": [
      "Edition  Medal \n",
      "1896     Bronze      2\n",
      "         Gold       11\n",
      "         Silver      7\n",
      "1900     Bronze     14\n",
      "         Gold       27\n",
      "         Silver     14\n",
      "1904     Bronze    111\n",
      "         Gold      146\n",
      "         Silver    137\n",
      "1908     Bronze     15\n",
      "         Gold       34\n",
      "         Silver     14\n",
      "1912     Bronze     31\n",
      "         Gold       45\n",
      "         Silver     25\n",
      "1920     Bronze     38\n",
      "         Gold      110\n",
      "         Silver     45\n",
      "1924     Bronze     51\n",
      "         Gold      110\n",
      "         Silver     37\n",
      "1928     Bronze     17\n",
      "         Gold       43\n",
      "         Silver     24\n",
      "1932     Bronze     59\n",
      "         Gold       78\n",
      "         Silver     44\n",
      "1936     Bronze     15\n",
      "         Gold       51\n",
      "         Silver     26\n",
      "                  ... \n",
      "1968     Bronze     35\n",
      "         Gold       83\n",
      "         Silver     31\n",
      "1972     Bronze     43\n",
      "         Gold       53\n",
      "         Silver     59\n",
      "1976     Bronze     36\n",
      "         Gold       63\n",
      "         Silver     56\n",
      "1984     Bronze     50\n",
      "         Gold      168\n",
      "         Silver    115\n",
      "1988     Bronze     52\n",
      "         Gold       77\n",
      "         Silver     64\n",
      "1992     Bronze     85\n",
      "         Gold       89\n",
      "         Silver     50\n",
      "1996     Bronze     52\n",
      "         Gold      160\n",
      "         Silver     48\n",
      "2000     Bronze     52\n",
      "         Gold      130\n",
      "         Silver     66\n",
      "2004     Bronze     73\n",
      "         Gold      116\n",
      "         Silver     75\n",
      "2008     Bronze     81\n",
      "         Gold      125\n",
      "         Silver    109\n",
      "Name: Athlete, Length: 75, dtype: int64\n",
      "Medal    Bronze  Gold  Silver\n",
      "Edition                      \n",
      "1896          2    11       7\n",
      "1900         14    27      14\n",
      "1904        111   146     137\n",
      "1908         15    34      14\n",
      "1912         31    45      25\n",
      "1920         38   110      45\n",
      "1924         51   110      37\n",
      "1928         17    43      24\n",
      "1932         59    78      44\n",
      "1936         15    51      26\n",
      "1948         35    83      30\n",
      "1952         28    79      23\n",
      "1956         20    61      37\n",
      "1960         21    68      23\n",
      "1964         36    78      36\n",
      "1968         35    83      31\n",
      "1972         43    53      59\n",
      "1976         36    63      56\n",
      "1984         50   168     115\n",
      "1988         52    77      64\n",
      "1992         85    89      50\n",
      "1996         52   160      48\n",
      "2000         52   130      66\n",
      "2004         73   116      75\n",
      "2008         81   125     109\n"
     ]
    },
    {
     "data": {
      "image/png": "[encoded data removed]",
      "text/plain": [
       "<Figure size 432x288 with 1 Axes>"
      ]
     },
     "metadata": {
      "needs_background": "light"
     },
     "output_type": "display_data"
    }
   ],
   "source": [
    "#  visualize the medal counts by 'Edition' for the USA\n",
    "# Create the DataFrame: usa\n",
    "usa = medals[medals[\"NOC\"] == \"USA\"]\n",
    "\n",
    "# Group usa by ['Edition', 'Medal'] and aggregate over 'Athlete'\n",
    "usa_medals_by_year = usa.groupby([\"Edition\",\"Medal\"])[\"Athlete\"].count()\n",
    "\n",
    "print(usa_medals_by_year)\n",
    "\n",
    "# Reshape usa_medals_by_year by unstacking\n",
    "usa_medals_by_year = usa_medals_by_year.unstack(level=\"Medal\")\n",
    "\n",
    "print(usa_medals_by_year)\n",
    "\n",
    "# Plot the DataFrame usa_medals_by_year\n",
    "usa_medals_by_year.plot()\n",
    "plt.show()"
   ]
  },
  {
   "cell_type": "code",
   "execution_count": 32,
   "metadata": {},
   "outputs": [
    {
     "data": {
      "image/png": "[encoded data removed]",
      "text/plain": [
       "<Figure size 432x288 with 1 Axes>"
      ]
     },
     "metadata": {
      "needs_background": "light"
     },
     "output_type": "display_data"
    }
   ],
   "source": [
    "# Create an area plot of usa_medals_by_year\n",
    "usa_medals_by_year.plot.area()\n",
    "plt.show()"
   ]
  },
  {
   "cell_type": "code",
   "execution_count": 33,
   "metadata": {},
   "outputs": [
    {
     "data": {
      "image/png": "[encoded data removed]",
      "text/plain": [
       "<Figure size 432x288 with 1 Axes>"
      ]
     },
     "metadata": {
      "needs_background": "light"
     },
     "output_type": "display_data"
    }
   ],
   "source": [
    "# Redefine 'Medal' as an ordered categorical\n",
    "medals.Medal = pd.Categorical(values=medals.Medal, categories=[\"Bronze\",\"Silver\",\"Gold\"], ordered = True)\n",
    "\n",
    "# Create the DataFrame: usa\n",
    "usa = medals[medals.NOC == 'USA']\n",
    "\n",
    "# Group usa by 'Edition', 'Medal', and 'Athlete'\n",
    "usa_medals_by_year = usa.groupby(['Edition', 'Medal'])['Athlete'].count()\n",
    "\n",
    "# Reshape usa_medals_by_year by unstacking\n",
    "usa_medals_by_year = usa_medals_by_year.unstack(level='Medal')\n",
    "\n",
    "# Create an area plot of usa_medals_by_year\n",
    "usa_medals_by_year.plot.area()\n",
    "plt.show()"
   ]
  },
  {
   "cell_type": "code",
   "execution_count": null,
   "metadata": {},
   "outputs": [],
   "source": []
  }
 ],
 "metadata": {
  "kernelspec": {
   "display_name": "Python 3",
   "language": "python",
   "name": "python3"
  },
  "language_info": {
   "codemirror_mode": {
    "name": "ipython",
    "version": 3
   },
   "file_extension": ".py",
   "mimetype": "text/x-python",
   "name": "python",
   "nbconvert_exporter": "python",
   "pygments_lexer": "ipython3",
   "version": "3.7.4"
  }
 },
 "nbformat": 4,
 "nbformat_minor": 4
}
