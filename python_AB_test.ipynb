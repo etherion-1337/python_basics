{
 "cells": [
  {
   "cell_type": "markdown",
   "metadata": {},
   "source": [
    "# Statistics with python: A/B test"
   ]
  },
  {
   "cell_type": "markdown",
   "metadata": {},
   "source": [
    "A/B testing is a tool that allows us to test two or more different ideas against each other, and to see which one empirically performs better.      \n",
    "\n",
    "Why is A/B testing important ?       \n",
    "1) no guessing:       \n",
    "we run this test in real world, we get to know which idea is better under the conditions that matters most.       \n",
    "2) provide accurate answer quickly.       \n",
    "3) allows to rapidly iterate on ideas.       \n",
    "4) one of the only statistiaclly sound ways to establish casual relationships.      "
   ]
  },
  {
   "cell_type": "markdown",
   "metadata": {},
   "source": [
    "**A/B testing**      \n",
    "A/B testing works by exposing unique randomly assigned groups of users to each of the ideas you want to test. Then we can observe these users, and by measuring how they behave, untangle the impact of each of your ideas and determine which is the best.      \n",
    "\n",
    "If we have users and ideas, then chances are we can run an A/B test.       \n",
    "Before performing A/B testing, we must first understand what is worth testing and optimizing for."
   ]
  },
  {
   "cell_type": "markdown",
   "metadata": {},
   "source": [
    "**Key Performance Indicator (KPIs)**            \n",
    "Typically A/B tests are run to improve KPIs.       \n",
    "These are the metrics that are most important to the business or organisation.       \n",
    "For drug company: likelihood of a side-effect etc,     \n",
    "For mobile game company: revenue, play time per user etc.      \n",
    "\n",
    "Identifying KPIs requires domain knowledge + experience + EDA.       \n",
    "\n"
   ]
  },
  {
   "cell_type": "markdown",
   "metadata": {},
   "source": [
    "## 1. Key Performance Indicator (KPIs)"
   ]
  },
  {
   "cell_type": "markdown",
   "metadata": {},
   "source": [
    "### 1.1 Identifying and understanding KPIs\n",
    "\n",
    "Example: Meditation App      \n",
    "A mobile app that offers meditation services for a paid subscription as well as one-off in-app purchases.       \n",
    "\n",
    "We are motivated to maintain a strong free-trial to paying user conversion rate. (KPIs)       \n",
    "\n",
    "Dataset 1: User demographics      \n",
    "tied to a unique user ID number."
   ]
  },
  {
   "cell_type": "code",
   "execution_count": 1,
   "metadata": {},
   "outputs": [],
   "source": [
    "import pandas as pd"
   ]
  },
  {
   "cell_type": "code",
   "execution_count": 2,
   "metadata": {},
   "outputs": [],
   "source": [
    "df_customer_data = pd.read_csv(\"../python_basics/data/user_demographics_v1.csv\")\n",
    "df_customer_data=df_customer_data.rename(columns = {'reg_date':'date'})\n",
    "df_customer_data['date'] = df_customer_data['date'].str.slice(0,10) # only the year and month and day"
   ]
  },
  {
   "cell_type": "code",
   "execution_count": null,
   "metadata": {},
   "outputs": [],
   "source": []
  },
  {
   "cell_type": "code",
   "execution_count": 3,
   "metadata": {},
   "outputs": [
    {
     "data": {
      "text/html": [
       "<div>\n",
       "<style scoped>\n",
       "    .dataframe tbody tr th:only-of-type {\n",
       "        vertical-align: middle;\n",
       "    }\n",
       "\n",
       "    .dataframe tbody tr th {\n",
       "        vertical-align: top;\n",
       "    }\n",
       "\n",
       "    .dataframe thead th {\n",
       "        text-align: right;\n",
       "    }\n",
       "</style>\n",
       "<table border=\"1\" class=\"dataframe\">\n",
       "  <thead>\n",
       "    <tr style=\"text-align: right;\">\n",
       "      <th></th>\n",
       "      <th>uid</th>\n",
       "      <th>date</th>\n",
       "      <th>device</th>\n",
       "      <th>gender</th>\n",
       "      <th>country</th>\n",
       "      <th>age</th>\n",
       "    </tr>\n",
       "  </thead>\n",
       "  <tbody>\n",
       "    <tr>\n",
       "      <td>0</td>\n",
       "      <td>54030035.0</td>\n",
       "      <td>2017-06-29</td>\n",
       "      <td>and</td>\n",
       "      <td>M</td>\n",
       "      <td>USA</td>\n",
       "      <td>19</td>\n",
       "    </tr>\n",
       "    <tr>\n",
       "      <td>1</td>\n",
       "      <td>72574201.0</td>\n",
       "      <td>2018-03-05</td>\n",
       "      <td>iOS</td>\n",
       "      <td>F</td>\n",
       "      <td>TUR</td>\n",
       "      <td>22</td>\n",
       "    </tr>\n",
       "    <tr>\n",
       "      <td>2</td>\n",
       "      <td>64187558.0</td>\n",
       "      <td>2016-02-07</td>\n",
       "      <td>iOS</td>\n",
       "      <td>M</td>\n",
       "      <td>USA</td>\n",
       "      <td>16</td>\n",
       "    </tr>\n",
       "    <tr>\n",
       "      <td>3</td>\n",
       "      <td>92513925.0</td>\n",
       "      <td>2017-05-25</td>\n",
       "      <td>and</td>\n",
       "      <td>M</td>\n",
       "      <td>BRA</td>\n",
       "      <td>41</td>\n",
       "    </tr>\n",
       "    <tr>\n",
       "      <td>4</td>\n",
       "      <td>99231338.0</td>\n",
       "      <td>2017-03-26</td>\n",
       "      <td>iOS</td>\n",
       "      <td>M</td>\n",
       "      <td>FRA</td>\n",
       "      <td>59</td>\n",
       "    </tr>\n",
       "  </tbody>\n",
       "</table>\n",
       "</div>"
      ],
      "text/plain": [
       "          uid        date device gender country  age\n",
       "0  54030035.0  2017-06-29    and      M     USA   19\n",
       "1  72574201.0  2018-03-05    iOS      F     TUR   22\n",
       "2  64187558.0  2016-02-07    iOS      M     USA   16\n",
       "3  92513925.0  2017-05-25    and      M     BRA   41\n",
       "4  99231338.0  2017-03-26    iOS      M     FRA   59"
      ]
     },
     "execution_count": 3,
     "metadata": {},
     "output_type": "execute_result"
    }
   ],
   "source": [
    "df_customer_data.head()"
   ]
  },
  {
   "cell_type": "markdown",
   "metadata": {},
   "source": [
    "Dataset 2: User actions        \n",
    "Containing the data trial period and date of puchase and price paid in cent."
   ]
  },
  {
   "cell_type": "code",
   "execution_count": 4,
   "metadata": {},
   "outputs": [],
   "source": [
    "df_app_purchases = pd.read_csv(\"../python_basics/data/purchase_data_v1.csv\")"
   ]
  },
  {
   "cell_type": "code",
   "execution_count": 5,
   "metadata": {},
   "outputs": [
    {
     "data": {
      "text/html": [
       "<div>\n",
       "<style scoped>\n",
       "    .dataframe tbody tr th:only-of-type {\n",
       "        vertical-align: middle;\n",
       "    }\n",
       "\n",
       "    .dataframe tbody tr th {\n",
       "        vertical-align: top;\n",
       "    }\n",
       "\n",
       "    .dataframe thead th {\n",
       "        text-align: right;\n",
       "    }\n",
       "</style>\n",
       "<table border=\"1\" class=\"dataframe\">\n",
       "  <thead>\n",
       "    <tr style=\"text-align: right;\">\n",
       "      <th></th>\n",
       "      <th>date</th>\n",
       "      <th>uid</th>\n",
       "      <th>sku</th>\n",
       "      <th>price</th>\n",
       "    </tr>\n",
       "  </thead>\n",
       "  <tbody>\n",
       "    <tr>\n",
       "      <td>0</td>\n",
       "      <td>2017-07-10</td>\n",
       "      <td>41195147</td>\n",
       "      <td>sku_three_499</td>\n",
       "      <td>499</td>\n",
       "    </tr>\n",
       "    <tr>\n",
       "      <td>1</td>\n",
       "      <td>2017-07-15</td>\n",
       "      <td>41195147</td>\n",
       "      <td>sku_three_499</td>\n",
       "      <td>499</td>\n",
       "    </tr>\n",
       "    <tr>\n",
       "      <td>2</td>\n",
       "      <td>2017-11-12</td>\n",
       "      <td>41195147</td>\n",
       "      <td>sku_four_599</td>\n",
       "      <td>599</td>\n",
       "    </tr>\n",
       "    <tr>\n",
       "      <td>3</td>\n",
       "      <td>2017-09-26</td>\n",
       "      <td>91591874</td>\n",
       "      <td>sku_two_299</td>\n",
       "      <td>299</td>\n",
       "    </tr>\n",
       "    <tr>\n",
       "      <td>4</td>\n",
       "      <td>2017-12-01</td>\n",
       "      <td>91591874</td>\n",
       "      <td>sku_four_599</td>\n",
       "      <td>599</td>\n",
       "    </tr>\n",
       "  </tbody>\n",
       "</table>\n",
       "</div>"
      ],
      "text/plain": [
       "         date       uid            sku  price\n",
       "0  2017-07-10  41195147  sku_three_499    499\n",
       "1  2017-07-15  41195147  sku_three_499    499\n",
       "2  2017-11-12  41195147   sku_four_599    599\n",
       "3  2017-09-26  91591874    sku_two_299    299\n",
       "4  2017-12-01  91591874   sku_four_599    599"
      ]
     },
     "execution_count": 5,
     "metadata": {},
     "output_type": "execute_result"
    }
   ],
   "source": [
    "df_app_purchases.head()"
   ]
  },
  {
   "cell_type": "markdown",
   "metadata": {},
   "source": [
    "KPI: conversion rate       \n",
    "One question in defining our KPI is over what interval should we consider the conversion rate. The conversion immediately after lapse, 1 week or 1 month after.       \n",
    "\n",
    "**Chooseing KPIs**:                 \n",
    "One way to decide this is to see the generalisability of these statistics across different demographic groups.      \n",
    "Stability in this way is desired.       \n",
    "We can also check if one is more correlated with important factors like retention or spending than the others.      \n",
    "\n",
    "We can match demographic data to subscription data to explore specific relationship.\n"
   ]
  },
  {
   "cell_type": "code",
   "execution_count": 6,
   "metadata": {},
   "outputs": [
    {
     "name": "stdout",
     "output_type": "stream",
     "text": [
      "       date_x       uid            sku  price      date_y device gender  \\\n",
      "0  2017-07-10  41195147  sku_three_499    499  2017-06-26    and      M   \n",
      "1  2017-07-15  41195147  sku_three_499    499  2017-06-26    and      M   \n",
      "2  2017-11-12  41195147   sku_four_599    599  2017-06-26    and      M   \n",
      "3  2017-09-26  91591874    sku_two_299    299  2017-01-05    and      M   \n",
      "4  2017-12-01  91591874   sku_four_599    599  2017-01-05    and      M   \n",
      "\n",
      "  country  age  \n",
      "0     BRA   17  \n",
      "1     BRA   17  \n",
      "2     BRA   17  \n",
      "3     TUR   17  \n",
      "4     TUR   17  \n",
      "9006\n"
     ]
    }
   ],
   "source": [
    "# Merge on the 'uid' field\n",
    "df_uid_combined_data = df_app_purchases.merge(df_customer_data, on=['uid'], how='inner') #SQL-style JOIN, df1.merge(df2)\n",
    "\n",
    "# Examine the results \n",
    "print(df_uid_combined_data.head())\n",
    "print(len(df_uid_combined_data))"
   ]
  },
  {
   "cell_type": "code",
   "execution_count": 7,
   "metadata": {},
   "outputs": [
    {
     "name": "stdout",
     "output_type": "stream",
     "text": [
      "         date       uid             sku  price device gender country  age\n",
      "0  2016-03-30  94055095    sku_four_599    599    iOS      F     BRA   16\n",
      "1  2015-10-28  69627745     sku_one_199    199    and      F     BRA   18\n",
      "2  2017-02-02  11604973  sku_seven_1499    499    and      F     USA   16\n",
      "3  2016-06-05  22495315    sku_four_599    599    and      F     USA   19\n",
      "4  2018-02-17  51365662     sku_two_299    299    iOS      M     TUR   16\n",
      "35\n"
     ]
    }
   ],
   "source": [
    "# To look at purchases that happened on the date of registration\n",
    "# Merge on the 'uid' and 'date' field\n",
    "df_uid_date_combined_data = df_app_purchases.merge(df_customer_data, on=['uid', 'date'], how='inner')\n",
    "\n",
    "# Examine the results \n",
    "print(df_uid_date_combined_data.head())\n",
    "print(len(df_uid_date_combined_data))"
   ]
  },
  {
   "cell_type": "code",
   "execution_count": null,
   "metadata": {},
   "outputs": [],
   "source": [
    "# Calculate the mean purchase price \n",
    "purchase_price_mean = purchase_data.price.agg('mean')\n",
    "\n",
    "# Examine the output \n",
    "print(purchase_price_mean)"
   ]
  },
  {
   "cell_type": "code",
   "execution_count": null,
   "metadata": {},
   "outputs": [],
   "source": []
  },
  {
   "cell_type": "code",
   "execution_count": null,
   "metadata": {},
   "outputs": [],
   "source": []
  },
  {
   "cell_type": "code",
   "execution_count": null,
   "metadata": {},
   "outputs": [],
   "source": []
  },
  {
   "cell_type": "code",
   "execution_count": null,
   "metadata": {},
   "outputs": [],
   "source": []
  },
  {
   "cell_type": "code",
   "execution_count": null,
   "metadata": {},
   "outputs": [],
   "source": [
    "sub_data_grp = sub_data_demo.groupby(by=[\"country\",\"device\"],axis=0,as_index=False)"
   ]
  },
  {
   "cell_type": "code",
   "execution_count": null,
   "metadata": {},
   "outputs": [],
   "source": [
    "sub_data_grp.price.mean()"
   ]
  },
  {
   "cell_type": "code",
   "execution_count": null,
   "metadata": {},
   "outputs": [],
   "source": [
    "sub_data_grp.price.agg(\"mean\")\n",
    "sub_data_grp.price.agg([\"mean\",\"median\"])\n",
    "#pass a dict of col names and aggregation functions\n",
    "sub_data_grp.agg({\"price\":[\"mean\",\"min\",\"max\"],\n",
    "                 \"age\":[\"mean\",\"min\",\"max\"]})\n",
    "\n",
    "#custom function\n",
    "def truncated_mean(data):\n",
    "    top_val = data.quantile(.9)\n",
    "    bot_val = data.quantile(.1)\n",
    "    trunc_data = data[(data <= top_val) & (data >= bot_val)]\n",
    "    mean = trunc_data.mean()\n",
    "    return(mean)\n",
    "\n",
    "sub_data_grp.agg({\"age\":[truncated_mean]})"
   ]
  }
 ],
 "metadata": {
  "kernelspec": {
   "display_name": "Python 3",
   "language": "python",
   "name": "python3"
  },
  "language_info": {
   "codemirror_mode": {
    "name": "ipython",
    "version": 3
   },
   "file_extension": ".py",
   "mimetype": "text/x-python",
   "name": "python",
   "nbconvert_exporter": "python",
   "pygments_lexer": "ipython3",
   "version": "3.7.4"
  }
 },
 "nbformat": 4,
 "nbformat_minor": 4
}
